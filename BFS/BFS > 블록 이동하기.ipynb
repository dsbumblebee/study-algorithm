{
 "cells": [
  {
   "cell_type": "code",
   "execution_count": null,
   "metadata": {},
   "outputs": [],
   "source": []
  },
  {
   "cell_type": "markdown",
   "metadata": {},
   "source": [
    "## 1. 문제\n",
    "- 프로그래머스 카카오 2020 공채 문제와 동일\n",
    "    - [링크](https://school.programmers.co.kr/learn/courses/30/lessons/60063?language=python3)\n",
    "- 2x1 로봇이 N x N 지도에서 왼쪽 상단 (1,1) 에서 (N,N)까지 도착하는데 걸리는 최소시간을 구하라. "
   ]
  },
  {
   "cell_type": "markdown",
   "metadata": {},
   "source": [
    "## 2. 아이디어 \n",
    "- 최단거리를 구하는 bfs의 응용\n",
    "    - 방문처리는 위치를 나타내는 집합을 담아 둔다. \n",
    "- 2칸을 차지하는 이동체의 이동에 대한 구현 (두 점에 대한 이동)\n",
    "    - 이동체의 위치를 집합으로 나타낸다. \n",
    "    - 상하좌우 이동 및 회전이동에 대한 구현.\n",
    "        - 회전의 경우, 가로로 놓인 상태, 세로로 놓인 상태로 구분하여 경우를 고려한다. "
   ]
  },
  {
   "cell_type": "markdown",
   "metadata": {},
   "source": [
    "## 3. 예제코드"
   ]
  },
  {
   "cell_type": "code",
   "execution_count": null,
   "metadata": {},
   "outputs": [],
   "source": [
    "from collections import deque\n",
    "\n",
    "def get_next_pos(pos, board):\n",
    "    next_pos = [] # 반환 결과 ( 이동 가능한 위치들)\n",
    "    pos = list(pos)  # 현재 위치 정보를 리스트로 변환 (집합 -> 리스트)\n",
    "    pos1_x, pos1_y, pos2_x, pos2_y = pos[0][0], pos[0][1],pos[1][0],pos[1][1]\n",
    "    ## 상 하 좌 우 이동하는 경우 처리\n",
    "    dx = [-1,1,0,0]\n",
    "    dy = [0,0,-1,1]\n",
    "    for i in range(4):\n",
    "        pos1_nx, pos1_ny,pos2_nx,pos2_ny = pos1_x+dx[i], pos1_y+dy[i], pos2_x+dx[i], pos2_y+dy[i]\n",
    "        # 이동하고자 하는 두 칸이 모두 비어 있다면, \n",
    "        if board[pos1_nx][pos1_ny] == 0 and board[pos2_nx][pos2_ny] == 0:\n",
    "            next_pos.append({(pos1_nx, pos1_ny), (pos2_nx, pos2_ny)})\n",
    "    \n",
    "    ## 회전해서 이동하는 경우 처리         \n",
    "    # 현재 로봇이 가로로 놓여 있는 경우\n",
    "    if pos1_x == pos2_x:\n",
    "        for i in [-1,1]: # -1이면 아래칸 두칸이 빈 경우, +1이면 위칸 두칸이 빈 경우 \n",
    "            if board[pos1_x + i][pos1_y] == 0 and board[pos2_x + i][pos2_y] == 0: # 비었으면\n",
    "                next_pos.append({(pos1_x, pos1_y), (pos1_x+i, pos1_y)})\n",
    "                next_pos.append({(pos2_x, pos2_y), (pos2_x+i, pos2_y)})\n",
    "                \n",
    "    # 현재 로봇이 세로로 놓여 있는 경우\n",
    "    elif pos1_y == pos2_y:\n",
    "        for i in [-1,1]: # -1이면 왼쪽 두칸이 빈 경우, +1이면 오른쪽 두칸이 빈 경우 \n",
    "            if board[pos1_x][pos1_y+i] == 0 and board[pos2_x][pos2_y+i]==0:\n",
    "                next_pos.append({(pos1_x, pos1_y), (pos1_x, pos1_y + i)})\n",
    "                next_pos.append({(pos2_x, pos2_y), (pos2_x, pos2_y + i)})\n",
    "    # 현재 위치에서 이동할 수 있는 위치를 반환 \n",
    "    return next_pos \n",
    "\n",
    "def solution(board):\n",
    "    # 맵의 외곽에 벽을 두는 형태로 맵 변형\n",
    "    n = len(board)\n",
    "    new_board = [[1]*(n+2) for _ in range(n+2)]  # 테두리, 가로에 두칸이 늘고, 세로에 두칸이 늘어난다.\n",
    "    for i in range(n):\n",
    "        for j in range(n):\n",
    "            new_board[i+1][j+1] = board[i][j]  # 두칸이 크니까 왼쪽에서 한칸만 떨어진곳에서 시작, 오른쪽에서 한칸 떨어진곳에서 끝난다.\n",
    "            \n",
    "    # BFS 수행\n",
    "    q = deque()\n",
    "    visited= []\n",
    "    pos = {(1,1), (1,2)} # 시작 위치\n",
    "    q.append((pos,0))  # 큐에 삽입한 후 \n",
    "    visited.append(pos)  # 방문 처리 \n",
    "    # 큐가 빌 때까지 반복\n",
    "    while q :\n",
    "        pos, cost = q.popleft()\n",
    "        # (n, n) 위치에 로봇이 도달했다면, 최단 거리이므로 반환 \n",
    "        if (n,n) in pos:\n",
    "            return cost\n",
    "        # 현재 위치에서 이동할 수 있는 위치 확인\n",
    "        for next_pos in get_next_pos(pos, new_board):\n",
    "            # 아직 방문하지 않은 위치라면 큐에 삽입하고 방문 처리\n",
    "            if next_pos not in visited:\n",
    "                q.append((next_pos, cost+1))\n",
    "                visited.append(next_pos)                \n",
    "    return 0\n",
    "        "
   ]
  },
  {
   "cell_type": "markdown",
   "metadata": {},
   "source": [
    "## 4. 배운점\n",
    "- bfs 응용 \n",
    "- 두 칸을 위치 좌표로 사용하는 경우 set 활용 \n",
    "- 회전을 경우에 따라서 생각하는 방법 "
   ]
  },
  {
   "cell_type": "markdown",
   "metadata": {},
   "source": [
    "## 참조\n",
    "- 이것이 취업을 위한 코딩테스트다. with 파이썬"
   ]
  },
  {
   "cell_type": "code",
   "execution_count": null,
   "metadata": {},
   "outputs": [],
   "source": []
  }
 ],
 "metadata": {
  "kernelspec": {
   "display_name": "Python 3",
   "language": "python",
   "name": "python3"
  },
  "language_info": {
   "codemirror_mode": {
    "name": "ipython",
    "version": 3
   },
   "file_extension": ".py",
   "mimetype": "text/x-python",
   "name": "python",
   "nbconvert_exporter": "python",
   "pygments_lexer": "ipython3",
   "version": "3.8.3"
  }
 },
 "nbformat": 4,
 "nbformat_minor": 4
}
