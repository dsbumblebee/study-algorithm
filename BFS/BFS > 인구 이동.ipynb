{
 "cells": [
  {
   "cell_type": "markdown",
   "metadata": {},
   "source": [
    "## 1. 문제\n",
    "\n",
    "- 백준 16234와 같은 문제 \n",
    "    - [링크](https://www.acmicpc.net/problem/16234)\n",
    "- 국경선을 공유하는 두 나라의 인구 차이가 L명 이상, R명 이하면, 두 나라가 공유하는 국경선을 하루 동안 연다. \n",
    "- 연합 각 칸의 인구수 (연합의 인구수 / 칸의 개수) , 소수점은 버린다. \n",
    "- 연합 해체하고, 국경선을 닫는다. \n",
    "\n",
    "- 인구 이동이 며칠 동안 발생하는지 구하라. "
   ]
  },
  {
   "cell_type": "markdown",
   "metadata": {},
   "source": [
    "## 2. 아이디어 \n",
    "- BFS함수 정의 : BFS를 이용해서 연합이 가능한지 확인하고 연합국가 좌표를 모은다. \n",
    "- 모든 국가를 돌면서 BFS를 실행하고, 연합가능한 국가에 인구를 배분한다. \n",
    "- 이것을 while문을 이용해서 가능할 때까지 반복한다. \n",
    "- 한번 전체국가가 연합가능한지 확인할 때마다, 방문확인용 리스트를 새롭게 리셋한다."
   ]
  },
  {
   "cell_type": "markdown",
   "metadata": {},
   "source": [
    "## 3. 예제 코드 (pypy3만 통과 가능) "
   ]
  },
  {
   "cell_type": "code",
   "execution_count": 1,
   "metadata": {},
   "outputs": [
    {
     "name": "stdout",
     "output_type": "stream",
     "text": [
      "2 40 50\n",
      "50 30\n",
      "20 40\n",
      "0\n"
     ]
    }
   ],
   "source": [
    "## 입력\n",
    "n,l,r = map(int, input().split()) \n",
    "graph = []\n",
    "for _ in range(n):\n",
    "    graph.append(list(map(int,input().split())))\n",
    "\n",
    "## bfs로 연합 가능한 국경 좌표 구하기\n",
    "from collections import deque\n",
    "dx = [0,0,1,-1]\n",
    "dy = [1,-1,0,0]\n",
    "def bfs(a,b):    # 가능한 국경 열어서 국경 좌표들 모으기 \n",
    "    q = deque()\n",
    "    united = []    # 연합 가능한 국가 모음\n",
    "    q.append((a,b))\n",
    "    united.append((a,b))\n",
    "    \n",
    "    while q :\n",
    "        x,y = q.popleft()\n",
    "        for i in range(4):\n",
    "            nx = x +dx[i]\n",
    "            ny = y +dy[i]\n",
    "            if 0 <= nx < n and 0 <= ny < n and visited[nx][ny] == 0: # 범위 안에서 방문안했다면, \n",
    "                if l <= abs(graph[nx][ny] - graph[x][y]) <= r:   # 인구이동 가능한지 확인\n",
    "                    visited[nx][ny] = 1  # 방문처리\n",
    "                    q.append((nx,ny))\n",
    "                    united.append((nx,ny))  # 연합가능한 국가 \n",
    "    return united  # 모든 연합가능한 국가\n",
    "\n",
    "## 메인\n",
    "## 인구 배분 및 계속 연합 가능 여부 판단 및 횟수 누적 \n",
    "result = 0 \n",
    "while True :\n",
    "    visited = [[0]* n for _ in range(n)]    # 턴마다 방문 리셋 \n",
    "    flag = 0   # 국경 열 수 있는지 확인 \n",
    "    for i in range(n):\n",
    "        for j in range(n):\n",
    "            if visited[i][j] == 0: # 미방문이면\n",
    "                visited[i][j] =1 # 방문처리\n",
    "                country = bfs(i,j)   # 그 국가 주변 연합 가능국가\n",
    "                if len(country) > 1 :  # 연합가능 국가가 있으면\n",
    "                    flag = 1  # 국경 열 수 있음\n",
    "                    # 연합국가 인구 배분\n",
    "                    number = sum([graph[x][y] for x, y in country]) // len(country)\n",
    "                    for x,y in country:   # 연합가능 국가 좌표\n",
    "                        graph[x][y] = number  # 배분한 인구 배치 \n",
    "    if flag == 0 : # 국경 열 수 없다면,\n",
    "        break      # 종료\n",
    "        \n",
    "    result += 1  # 그렇지 않다면, 횟수 증가하고 계속 반복\n",
    "    \n",
    "print(result)   # 결과 출력           "
   ]
  },
  {
   "cell_type": "code",
   "execution_count": null,
   "metadata": {},
   "outputs": [],
   "source": [
    "from collections import deque\n",
    "\n",
    "n,l,r = map(int, input().split())\n",
    "graph = [list(map(int, input().split())) for _ in range(n)]\n",
    "\n",
    "dx = [-1, 0, 1,0]\n",
    "dy = [0, -1, 0, 1]\n",
    "\n",
    "def process(x,y,index):\n",
    "    # 연합국가\n",
    "    united = []\n",
    "    united.append((x,y))\n",
    "    # bfs 연합가능한 국가 계속 탐색을 위함\n",
    "    q = deque()\n",
    "    q.append((x,y))\n",
    "    union[x][y] = index # 현재 연합의 번호 \n",
    "    summary = graph[x][y] # 연합 전체 인구 수 \n",
    "    count = 1 # 연합 국가의 수 \n",
    "    \n",
    "    # 큐 반복\n",
    "    while q : \n",
    "        x, y  = q.popleft()\n",
    "        # 인접지역 탐색\n",
    "        for i in range(4):\n",
    "            nx = x +dx[i]\n",
    "            ny = y +dy[i]\n",
    "            \n",
    "            if 0 <= nx <n and 0<=ny<n and union[nx][ny] == -1 : # 미방문 인접지\n",
    "                if l <= abs(graph[nx][ny] - graph[x][y]) <= r:\n",
    "                    q.append((nx,ny))\n",
    "                    union[nx][ny] = index     # 방문 처리 \n",
    "                    summary += graph[nx][ny]  # 연합 국가 인구수 모으기   \n",
    "                    count += 1   # 연합 국가 수 \n",
    "                    united.append((nx,ny))  # 연합 국가 모으기   \n",
    "    # 인구 배분                 \n",
    "    for i,j in united:\n",
    "        graph[i][j] = summary//count \n",
    "        \n",
    "total_count = 0\n",
    "\n",
    "while True : \n",
    "    union = [[-1] * n for _ in range(n)]\n",
    "    index = 0 \n",
    "    for i in range(n):\n",
    "        for j in range(n):\n",
    "            if union[i][j] == -1 :\n",
    "                process(i, j, index)\n",
    "                index += 1\n",
    "                \n",
    "    if index == n*n:  # 프로세스가 전체 graph갯수만큼 실행 = 하나도 bfs 가동될게 없다. = 연합될게 없다\n",
    "        break\n",
    "    total_count += 1\n",
    "    \n",
    "print(total_count)\n",
    "\n"
   ]
  },
  {
   "cell_type": "markdown",
   "metadata": {},
   "source": [
    "## 4. 배운점\n",
    "- BFS 응용, 기본 BFS에서 연산을 추가한 것 학습\n",
    "\n",
    "## 참조\n",
    "- 이것이 취업을 위한 코딩테스트다. with 파이썬"
   ]
  },
  {
   "cell_type": "code",
   "execution_count": null,
   "metadata": {},
   "outputs": [],
   "source": []
  }
 ],
 "metadata": {
  "kernelspec": {
   "display_name": "Python 3",
   "language": "python",
   "name": "python3"
  },
  "language_info": {
   "codemirror_mode": {
    "name": "ipython",
    "version": 3
   },
   "file_extension": ".py",
   "mimetype": "text/x-python",
   "name": "python",
   "nbconvert_exporter": "python",
   "pygments_lexer": "ipython3",
   "version": "3.8.3"
  }
 },
 "nbformat": 4,
 "nbformat_minor": 4
}
