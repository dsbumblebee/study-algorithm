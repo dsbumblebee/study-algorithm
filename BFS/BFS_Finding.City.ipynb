{
 "cells": [
  {
   "cell_type": "markdown",
   "metadata": {},
   "source": [
    "## 1. 문제\n",
    "- 백준 18352와 동일한 문제 [링크](https://www.acmicpc.net/problem/18352)\n",
    "- 1~ N 도시, M개 단방향 도로 존재\n",
    "- 특정 도시 X에서 출발 , 최단 거리가 정확히 K인 도시들의 번호를 출력하는 프로그램을 작성 \n",
    "- X에서 X로 가는 최단 거리는 항상 0\n",
    "\n",
    "- 입력 \n",
    "    - N 도시의 개수, M 도로의 개수, 거리 정보 K, 출발도시 번호 X\n",
    "        - 2 <= N <=300000\n",
    "        - 1 <= M <= 1000000\n",
    "        - 1 <= K <= N\n",
    "    - A B : A에서 B 도시로 이동하는 단방향 도로 \n",
    "    \n",
    "- 출력\n",
    "    - X로부터 출발하여 도달할 수 있는 도시 중에서, 최단 거리가 K인 모든 도시의 번호를 한줄에 하나씩 오름차순으로 출력\n",
    "    - 도달할 수 있는 도시 중에서, 최단 거리가 K인 도시가 하나도 존재하지 않으면 -1을 출력"
   ]
  },
  {
   "cell_type": "markdown",
   "metadata": {},
   "source": [
    "## 2. 아이디어\n",
    "- BFS를 이용하여, 노드별 최단거리를 리스트로 만들고, 최단거리가 K인지 확인 후 출력한다. K인 리스트가 없다면 -1을 출력한다. "
   ]
  },
  {
   "cell_type": "markdown",
   "metadata": {},
   "source": [
    "## 3. 예제코드"
   ]
  },
  {
   "cell_type": "code",
   "execution_count": 15,
   "metadata": {},
   "outputs": [
    {
     "name": "stdout",
     "output_type": "stream",
     "text": [
      "4 4 2 1\n",
      "1 2\n",
      "1 3\n",
      "2 3\n",
      "2 4\n",
      "4\n"
     ]
    }
   ],
   "source": [
    "# bfs , 큐 이용 \n",
    "\n",
    "## 입력 \n",
    "N, M, K, X = map(int, input().split())\n",
    "\n",
    "graph = [[] for _ in range(N+1)]   # 그래프 만들기\n",
    "distance = [-1]*(N+1)              # 최단 거리 리스트\n",
    "\n",
    "for _ in range(M):\n",
    "    a, b = map(int, input().split())\n",
    "    graph[a].append(b)             # 그래프 입력\n",
    "\n",
    "from collections import deque\n",
    "def BFS(start):                    # BFS\n",
    "    q = deque()\n",
    "    q.append(start)\n",
    "    distance[start] = 0            # Start -> Start 거리는 0 \n",
    "    \n",
    "    while q :\n",
    "        cur = q.popleft()\n",
    "        \n",
    "        for i in graph[cur]:\n",
    "            if distance[i] == -1:    # 미방문이면, \n",
    "                distance[i] = distance[cur] + 1   # 인접노드 거리 = 현재거리 + 1\n",
    "                q.append(i)\n",
    "                \n",
    "BFS(X)   # BFS 실행 \n",
    "possible = False    \n",
    "for idx, value in enumerate(distance):\n",
    "    if value == K:          # 최단거리가 K이면\n",
    "        print(idx)          # 노드번호 출력 \n",
    "        possible = True     # 최단거리K에 해당하는 노드가 있는지 확인 \n",
    "        \n",
    "if possible == False:       # K에 해당하는 노드 없으면, -1\n",
    "    print(-1)\n",
    "        "
   ]
  },
  {
   "cell_type": "markdown",
   "metadata": {},
   "source": [
    "## 4. 배운점\n",
    "- BFS의 방문여부 확인과 더불어, 최단거리를 업데이트 하는 방법"
   ]
  },
  {
   "cell_type": "markdown",
   "metadata": {},
   "source": [
    "## 참고\n",
    "- 이것이 취업을 위한 코딩테스트다. with 파이썬"
   ]
  }
 ],
 "metadata": {
  "kernelspec": {
   "display_name": "Python 3",
   "language": "python",
   "name": "python3"
  },
  "language_info": {
   "codemirror_mode": {
    "name": "ipython",
    "version": 3
   },
   "file_extension": ".py",
   "mimetype": "text/x-python",
   "name": "python",
   "nbconvert_exporter": "python",
   "pygments_lexer": "ipython3",
   "version": "3.8.3"
  }
 },
 "nbformat": 4,
 "nbformat_minor": 4
}
