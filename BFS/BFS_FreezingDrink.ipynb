{
 "cells": [
  {
   "cell_type": "markdown",
   "metadata": {},
   "source": [
    "# 문제\n",
    "- 0, 1 로 구성된 행렬이 들어온다. \n",
    "- 0은 빈공간, 1은 벽\n",
    "- 상하좌우는 인접이다. \n",
    "- 틀에서 얻을 수 있는 아이스크림의 수를 구하라.\n",
    "\n",
    "\n",
    "- 입력\n",
    "    - N , M 세로, 가로 \n",
    "    - 벽과 빈공간의 구성 형태 \n",
    "- 출력\n",
    "    - 아이스크림의 수 "
   ]
  },
  {
   "cell_type": "code",
   "execution_count": null,
   "metadata": {},
   "outputs": [],
   "source": [
    "## 구현 아이디어 \n",
    "\n",
    "# BFS를 쓰면 될 것\n",
    "\n",
    "# BFS는 queue를 이용하고, 첫 노드를 방문처리하고, 담고, \n",
    "\n",
    "# queue가 빌때까지\n",
    "\n",
    "# 첫노드를 꺼내서 , 인접이 미방문이면, 인접을 방문처리하고, 담는다. 대신 2차원 리스트 범위에 벗어나지 않아야 한다. "
   ]
  },
  {
   "cell_type": "code",
   "execution_count": 14,
   "metadata": {},
   "outputs": [
    {
     "name": "stdout",
     "output_type": "stream",
     "text": [
      "4 5\n",
      "00110\n",
      "00011\n",
      "11111\n",
      "00000\n",
      "3\n"
     ]
    }
   ],
   "source": [
    "# 입력\n",
    "N, M = map(int, input().split())   # 세로, 가로 \n",
    "\n",
    "maps = [list(map(int, input())) for _ in range(N)]\n",
    "\n",
    "# BFS \n",
    "\n",
    "dx = [1,-1, 0, 0 ]\n",
    "dy = [0, 0, 1, -1]\n",
    "\n",
    "from collections import deque\n",
    "def BFS(y, x):\n",
    "    queue = deque()\n",
    "    maps[y][x] = 1      # 방문처리 \n",
    "    queue.append((y,x)) # queue에 담기 \n",
    "    \n",
    "    while queue:\n",
    "        y, x = queue.popleft()\n",
    "        \n",
    "        for i in range(4):\n",
    "            nx = x + dx[i]\n",
    "            ny = y + dy[i]\n",
    "            \n",
    "            if 0<=ny < N and 0<= nx < M :   # 범위 제약 \n",
    "                if maps[ny][nx] == 0:      # 미방문 \n",
    "                    maps[ny][nx] = 1       # 방문 \n",
    "                    queue.append((ny, nx)) \n",
    "                \n",
    "    \n",
    "# 정답처리 \n",
    "answer = 0 \n",
    "\n",
    "for i in range(N):\n",
    "    for j in range(M):\n",
    "        if maps[i][j] == 0: \n",
    "            BFS(i, j)\n",
    "            answer += 1\n",
    "            \n",
    "print(answer)"
   ]
  },
  {
   "cell_type": "markdown",
   "metadata": {},
   "source": [
    "# 리마인드\n",
    "- BFS \n",
    "    - 큐를 이용한다. \n",
    "    - vertex 노드를 방문처리 한다. \n",
    "    - while문으로 큐가 있을때까지 반복한다.\n",
    "    - 인접 노드가 범위 제약을 어기지 않고, 미방문이면, 방문처리하고, 큐에 담는다. (인접을 다 담아둬야, 같은 레벨에서 수행한다. )\n",
    "        - 제약만들 때, 범위 안에 있는 조건은 인덱스이기 때문에, 0보다 크거나 같고, 가로 or 세로의 길이보다는 작다."
   ]
  },
  {
   "cell_type": "markdown",
   "metadata": {},
   "source": [
    "# 헷갈린 점\n",
    "- 붙어있는 숫자를 리스트로 만드는 것\n",
    "    - 문자열을 리스트화 시키면, 바로 리스트가 된다. 그것을 map을 이용해서 정수형태로 바꾼다. \n",
    "- BFS 정의할 때, 매개변수로 좌표를 사용한다. "
   ]
  },
  {
   "cell_type": "code",
   "execution_count": null,
   "metadata": {},
   "outputs": [],
   "source": [
    "# 아래 둘이 결과가 똑같다. "
   ]
  },
  {
   "cell_type": "code",
   "execution_count": 15,
   "metadata": {},
   "outputs": [
    {
     "data": {
      "text/plain": [
       "[1, 1, 1, 1, 1]"
      ]
     },
     "execution_count": 15,
     "metadata": {},
     "output_type": "execute_result"
    }
   ],
   "source": [
    "list(map(int, list('11111')))"
   ]
  },
  {
   "cell_type": "code",
   "execution_count": 16,
   "metadata": {},
   "outputs": [
    {
     "data": {
      "text/plain": [
       "[1, 1, 1, 1, 1]"
      ]
     },
     "execution_count": 16,
     "metadata": {},
     "output_type": "execute_result"
    }
   ],
   "source": [
    "list(map(int, '11111'))"
   ]
  }
 ],
 "metadata": {
  "kernelspec": {
   "display_name": "Python 3",
   "language": "python",
   "name": "python3"
  },
  "language_info": {
   "codemirror_mode": {
    "name": "ipython",
    "version": 3
   },
   "file_extension": ".py",
   "mimetype": "text/x-python",
   "name": "python",
   "nbconvert_exporter": "python",
   "pygments_lexer": "ipython3",
   "version": "3.8.3"
  }
 },
 "nbformat": 4,
 "nbformat_minor": 4
}
