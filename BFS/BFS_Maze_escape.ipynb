{
 "cells": [
  {
   "cell_type": "code",
   "execution_count": null,
   "metadata": {},
   "outputs": [],
   "source": []
  },
  {
   "cell_type": "markdown",
   "metadata": {},
   "source": [
    "# 문제\n",
    "- N, M의 미로가 주어진다.\n",
    "- 0은 괴물 , 1은 길\n",
    "- 1,1에서 시작해서, N,M 에서 끝\n",
    "- 움직여야 하는 최소 칸의 개수를 구하라 "
   ]
  },
  {
   "cell_type": "code",
   "execution_count": null,
   "metadata": {},
   "outputs": [],
   "source": [
    "## 구현 아이디어\n",
    "\n",
    "# BFS 문제\n",
    "\n",
    "# 종료 조건, ny, nx가 N, M에 도착하면 종료 \n",
    "\n",
    "# 방문이 숫자를 하나씩 올리는 것 "
   ]
  },
  {
   "cell_type": "code",
   "execution_count": 7,
   "metadata": {},
   "outputs": [
    {
     "name": "stdout",
     "output_type": "stream",
     "text": [
      "5 6\n",
      "101010\n",
      "111111\n",
      "000001\n",
      "111111\n",
      "111111\n",
      "10\n"
     ]
    }
   ],
   "source": [
    "# 입력 \n",
    "N, M = map(int,input().split())\n",
    "\n",
    "maps = [list(map(int, input())) for _ in range(N)]  # 지도\n",
    "\n",
    "# BFS \n",
    "from collections import deque\n",
    "\n",
    "dx = [1,-1,0,0]\n",
    "dy = [0,0,1,-1]\n",
    "\n",
    "def BFS(y, x):\n",
    "    queue = deque()\n",
    "    \n",
    "    queue.append((y,x))\n",
    "    \n",
    "    while queue:\n",
    "        y, x = queue.popleft()\n",
    "        \n",
    "        if y == N-1 and x == M-1 :\n",
    "            break\n",
    "            \n",
    "        for i in range(4):\n",
    "            nx = x + dx[i]\n",
    "            ny = y + dy[i]\n",
    "            \n",
    "            if 0<= nx < M and 0 <= ny < N:\n",
    "                if maps[ny][nx] == 1:\n",
    "                    maps[ny][nx] = maps[y][x] + 1\n",
    "                    queue.append((ny,nx))\n",
    "                    \n",
    "BFS(0,0)\n",
    "print(maps[N-1][M-1])"
   ]
  },
  {
   "cell_type": "code",
   "execution_count": 8,
   "metadata": {},
   "outputs": [
    {
     "data": {
      "text/plain": [
       "[[3, 0, 5, 0, 7, 0],\n",
       " [2, 3, 4, 5, 6, 7],\n",
       " [0, 0, 0, 0, 0, 8],\n",
       " [1, 1, 1, 11, 10, 9],\n",
       " [1, 1, 1, 1, 11, 10]]"
      ]
     },
     "execution_count": 8,
     "metadata": {},
     "output_type": "execute_result"
    }
   ],
   "source": [
    "maps"
   ]
  },
  {
   "cell_type": "markdown",
   "metadata": {},
   "source": [
    "# 헷갈린 점 \n",
    "- 좌표, 0,0 에서 시작한다는 점 \n",
    "- 업데이트, nx, ny는 갈 준비를 한다는 뜻이다. \n",
    "    - 완전 업데이트는 그 이전 값에서, 다음 값으로 업데이트 시키는 것이다. "
   ]
  }
 ],
 "metadata": {
  "kernelspec": {
   "display_name": "Python 3",
   "language": "python",
   "name": "python3"
  },
  "language_info": {
   "codemirror_mode": {
    "name": "ipython",
    "version": 3
   },
   "file_extension": ".py",
   "mimetype": "text/x-python",
   "name": "python",
   "nbconvert_exporter": "python",
   "pygments_lexer": "ipython3",
   "version": "3.8.3"
  }
 },
 "nbformat": 4,
 "nbformat_minor": 4
}
