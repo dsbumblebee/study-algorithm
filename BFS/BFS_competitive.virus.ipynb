{
 "cells": [
  {
   "cell_type": "markdown",
   "metadata": {},
   "source": [
    "## 1. 문제\n",
    "- 백준 18405와 동일한 문제, [문제링크](https://www.acmicpc.net/problem/18405)\n",
    "- N x N 의 시험관 \n",
    "- 바이러스는 1 부터 k번 까지 중 하나 \n",
    "- 바이러스는 1초마다 상하좌우 방향으로 증식\n",
    "- 번호가 낮은 종류의 바이러스부터 먼저 증식\n",
    "- 바이러스가 특정칸에 존재하면 그곳에는 다른 바이러스가 들어갈 수 없다.\n",
    "- S초가 지난 후에 X,Y에 존재하는 바이러스의 종류를 출력하는 프로그램\n",
    "- S초가 지난 후에 해당 위치에 바이러스가 존재하지 않는다면, 0 출력\n",
    "- 시험관의 가장 왼쪽 위는 1,1 이다. \n"
   ]
  },
  {
   "cell_type": "markdown",
   "metadata": {},
   "source": [
    "## 2. 아이디어\n",
    "- 동시에 퍼저나가는 것을 구현하고 시간을 측정해야하기에 BFS가 적절할 것으로 생각\n",
    "    - 바이러스를 리스트로 모으고 번호가 낮은 순서로 정렬시킨 후 deque으로 q를 만들고, BFS를 실행한다. \n",
    "    - 동시에 BFS로 퍼지는 시간도 같이 측정한다. \n",
    "- 퍼지는 시간이 s보다 크면, 아직 퍼지지 않은 것으로 0을 출력하고, 그렇지 않은 경우, 해당 위치 바이러스를 출력한다. "
   ]
  },
  {
   "cell_type": "code",
   "execution_count": null,
   "metadata": {},
   "outputs": [],
   "source": [
    "# 번호가 빠른 바이러스가 먼저 퍼지게\n",
    "# BFS \n",
    "# 큐에 넣었을때, 정렬을 한다? heapq?   heapq.heappush(q, (데이터 ))\n",
    "# (바이러스번호, x,y)\n",
    "\n",
    "# s초 후 \n",
    "# 다른 매트릭스로 시간 측정한다? S초가 되었는지 확인한다. 안되었으면 0"
   ]
  },
  {
   "cell_type": "code",
   "execution_count": 3,
   "metadata": {},
   "outputs": [
    {
     "name": "stdout",
     "output_type": "stream",
     "text": [
      "3 3\n",
      "1 0 2\n",
      "0 0 0\n",
      "3 0 0 \n",
      "2 3 2\n",
      "1\n"
     ]
    }
   ],
   "source": [
    "## 입력\n",
    "n, k = map(int, input().split())\n",
    "maps = [list(map(int, input().split())) for _ in range(n)]   # 좌표와 차이\n",
    "time = [[-1]*n for _ in range(n)]   # 시간 업데이트 할 것\n",
    "s, x, y = map(int, input().split())\n",
    "\n",
    "## bfs \n",
    "dx = [1,-1,0,0]\n",
    "dy = [0,0,1,-1]\n",
    "import heapq\n",
    "def bfs():\n",
    "    q = []\n",
    "    for i in range(n):\n",
    "        for j in range(n):\n",
    "            if maps[i][j] !=0 :   # 바이러스면 \n",
    "                time[i][j] = 0    # 시간 측정 초기값 입력 \n",
    "                heapq.heappush(q, (maps[i][j] , i, j))   # 우선순위 큐에 바이러스 번호 순으로 넣음\n",
    "                \n",
    "                \n",
    "    while q :\n",
    "        virus, x, y = heapq.heappop(q)\n",
    "        \n",
    "        for i in range(4):\n",
    "            nx = x + dx[i]\n",
    "            ny = y + dy[i]\n",
    "            \n",
    "            if 0<= nx < n and 0<=ny<n and maps[nx][ny] == 0: \n",
    "                maps[nx][ny] = virus\n",
    "                time[nx][ny] = time[x][y] + 1 \n",
    "                heapq.heappush(q, (maps[nx][ny] , nx, ny))\n",
    "                \n",
    "bfs()\n",
    "if time[x-1][y-1] < s :\n",
    "    print(0)\n",
    "else :\n",
    "    print(maps[x-1][y-1])\n",
    "            \n",
    "                \n"
   ]
  },
  {
   "cell_type": "code",
   "execution_count": 23,
   "metadata": {},
   "outputs": [
    {
     "name": "stdout",
     "output_type": "stream",
     "text": [
      "3 3\n",
      "1 0 2\n",
      "0 0 0\n",
      "3 0 0\n",
      "1 2 2\n",
      "0\n"
     ]
    }
   ],
   "source": [
    "## 입력\n",
    "n, k = map(int, input().split())\n",
    "maps = [list(map(int, input().split())) for _ in range(n)]   # 문제 좌표와 차이있음\n",
    "time = [[-1]*n for _ in range(n)]   # 시간 업데이트 할 것\n",
    "s, x, y = map(int, input().split())\n",
    "\n",
    "## bfs \n",
    "dx = [1,-1,0,0]\n",
    "dy = [0,0,1,-1]\n",
    "from collections import deque\n",
    "def bfs():\n",
    "    q = []\n",
    "    for i in range(n):\n",
    "        for j in range(n):\n",
    "            if maps[i][j] !=0 :   # 바이러스면 \n",
    "                time[i][j] = 0    # 시간 측정 초기값 입력 \n",
    "                q.append((maps[i][j] , i, j))   # 큐에 바이러스 번호를 먼저 두고 데이터를 넣는다.\n",
    "    q.sort()  # 정렬한다. 번호가 낮은게 먼저 탐색되게\n",
    "    q = deque(q)\n",
    "                \n",
    "    while q :\n",
    "        virus, x, y = q.popleft()\n",
    "        \n",
    "        for i in range(4):\n",
    "            nx = x + dx[i]\n",
    "            ny = y + dy[i]\n",
    "            \n",
    "            if 0<= nx < n and 0<=ny<n and maps[nx][ny] == 0: \n",
    "                maps[nx][ny] = virus\n",
    "                time[nx][ny] = time[x][y] + 1 \n",
    "                q.append((maps[nx][ny] , nx, ny))\n",
    "# 메인                \n",
    "bfs()\n",
    "if time[x-1][y-1] > s :  # 시간내에 도달 못하면 \n",
    "    print(0)\n",
    "else :                   # 그렇지 않으면 \n",
    "    print(maps[x-1][y-1])  \n"
   ]
  },
  {
   "cell_type": "markdown",
   "metadata": {},
   "source": [
    "## 4. 배운점\n",
    "- 처음에 heapq를 생각했다. 그러나 생각해보면, 같은 레벨에서만 바이러스 번호 순으로 나와야 되는데, heaq는 계속해서 바이러스 번호가 낮은 것이 먼저 나오게 되므로 heaq는 적합하지 않다.\n",
    "- deque으로 q를 만들때, 바이러스 번호 순으로만 넣어줘도, 레벨의 순서안에서 바이러스 번호순으로 퍼저나가게 구현된다.\n",
    "- deque은 정렬이 안된다."
   ]
  },
  {
   "cell_type": "markdown",
   "metadata": {},
   "source": [
    "## 참조\n",
    "- 이것이 취업을 위한 코딩테스트다. with 파이썬"
   ]
  }
 ],
 "metadata": {
  "kernelspec": {
   "display_name": "Python 3",
   "language": "python",
   "name": "python3"
  },
  "language_info": {
   "codemirror_mode": {
    "name": "ipython",
    "version": 3
   },
   "file_extension": ".py",
   "mimetype": "text/x-python",
   "name": "python",
   "nbconvert_exporter": "python",
   "pygments_lexer": "ipython3",
   "version": "3.8.3"
  }
 },
 "nbformat": 4,
 "nbformat_minor": 4
}
