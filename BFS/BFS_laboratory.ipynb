{
 "cells": [
  {
   "cell_type": "markdown",
   "metadata": {},
   "source": [
    "## 1. 문제\n",
    "- 백준 14502와 같은 문제\n",
    "    - [링크](https://www.acmicpc.net/problem/14502)\n",
    "- 바이러스 막기 위해 벽을 세우려 한다. \n",
    "- N , M 직사각형\n",
    "- 벽의 개수는 3개이며 꼭 3개를 세워야 한다. \n",
    "- 0은 빈칸, 1은 벽, 2는 바이러스 \n",
    "- 벽을 3개 세운 뒤, 바이러스가 퍼질 수 없는 곳을 안전 영역\n",
    "- 안전 영역의 크기의 최대값을 구하는 프로그램 \n",
    "- 입력\n",
    "    - 세로 N, 가로 M ( 3 <= N, M <= 8)\n",
    "    - 0은 빈칸, 1은 벽, 2는 바이러스 ( 2 <= 2의 개수 <=10 , 빈칸 >= 3)\n",
    "    \n",
    "- 출력 \n",
    "    - 안전영역의 최대 크기 "
   ]
  },
  {
   "cell_type": "markdown",
   "metadata": {},
   "source": [
    "## 2. 아이디어\n",
    "- 벽을 설치하는 모든 조합을 탐색하면서 BFS를 실행하고, 최소값을 갱신한다. \n",
    "    - 벽이 아닌 곳 중 3개인 조합을 만들고, 벽을 설치한다. \n",
    "        - 0인 점을 찾아서, 조합으로 3개를 뽑는다. \n",
    "        - 그 점을 1로 바꾼다. \n",
    "    - 바이러스 퍼짐은 BFS를 이용한다. 2가 있는 곳을 모두 모아서, BFS를 바이러스 위치에서 실행한다. \n",
    "    - 0이 가장 많은 것을 갱신한다. "
   ]
  },
  {
   "cell_type": "markdown",
   "metadata": {},
   "source": [
    "## 3. 예제코드"
   ]
  },
  {
   "cell_type": "code",
   "execution_count": 22,
   "metadata": {},
   "outputs": [
    {
     "name": "stdout",
     "output_type": "stream",
     "text": [
      "8 8 \n",
      "2 0 0 0 0 0 0 2\n",
      "2 0 0 0 0 0 0 2\n",
      "2 0 0 0 0 0 0 2\n",
      "2 0 0 0 0 0 0 2\n",
      "2 0 0 0 0 0 0 2\n",
      "0 0 0 0 0 0 0 0\n",
      "0 0 0 0 0 0 0 0\n",
      "0 0 0 0 0 0 0 0\n",
      "3\n"
     ]
    }
   ],
   "source": [
    "##### 입력 \n",
    "N, M = map(int, input().split())\n",
    "\n",
    "maps = [list(map(int, input().split())) for _ in range(N)]\n",
    "\n",
    "## 벽설치할 곳, 바이러스 모으기\n",
    "walls = []\n",
    "virus = []\n",
    "for i in range(N):\n",
    "    for j in range(M):\n",
    "        if maps[i][j] == 0:\n",
    "            walls.append((i,j))\n",
    "        elif maps[i][j] == 2:\n",
    "            virus.append((i,j))\n",
    "            \n",
    "## BFS 만들기\n",
    "from collections import deque\n",
    "dx = [1,-1,0,0]\n",
    "dy = [0,0,1,-1]\n",
    "\n",
    "def BFS(x,y, graph):\n",
    "    q = deque()\n",
    "    q.append([x,y])\n",
    "    \n",
    "    while q:\n",
    "        x, y = q.popleft()\n",
    "        \n",
    "        for i in range(4):\n",
    "            nx = x + dx[i]\n",
    "            ny = y + dy[i]\n",
    "            \n",
    "            if 0<= nx < N and 0<= ny < M and graph[nx][ny] == 0:   # 미방문, # 범위 항상 조심\n",
    "                graph[nx][ny] = 2\n",
    "                q.append((nx, ny))\n",
    "## 메인\n",
    "# 벽의 조합 완전탐색,  BFS 실행한 다음 , 안전영역 세기\n",
    "from itertools import combinations\n",
    "import copy\n",
    "answer = 0\n",
    "for combis in list(combinations(walls, 3)):  # 벽 조합\n",
    "    new_maps = copy.deepcopy(maps)   # 새로운 지도 생성\n",
    "    for a,b in combis:\n",
    "        new_maps[a][b] = 1  # 벽설치\n",
    "        \n",
    "    for vx, vy in virus :    # 바이러스 퍼짐 \n",
    "        BFS(vx,vy, new_maps)\n",
    "    \n",
    "    cnt = 0\n",
    "    for i in range(N):\n",
    "        for j in range(M):\n",
    "            if new_maps[i][j] == 0:\n",
    "                cnt += 1\n",
    "    answer = max(answer, cnt)\n",
    "    \n",
    "print(answer)\n"
   ]
  },
  {
   "cell_type": "code",
   "execution_count": null,
   "metadata": {},
   "outputs": [],
   "source": [
    "## 랜덤하게 1을 세 곳에 설치한다.\n",
    "# 0인 좌표를 모아서\n",
    "# 그중에서 3개를 고른다.combinations, from itertools import combinations\n",
    "# 그 조합들을 돌리면서, 그것을 1로 바꾼다.  (copy된 map에)   import copy , copy.deepcopy\n",
    "\n",
    "## BFS를 실행한다.\n",
    "# 그 지도를 받아서 \n",
    "# 2인 좌표를 모아놓고,   from collections import deque\n",
    "# 2주위로 BFS를 실행한다. \n",
    "# BFS 이후에 0의 갯수를 센다 (감염안된 곳), 이것을 append로 답에 모은다.\n",
    "\n",
    "## 답을 낸다. \n",
    "# 0의 갯수를 모은 리스트에서 최대인 것을 구한다.   max"
   ]
  },
  {
   "cell_type": "code",
   "execution_count": 16,
   "metadata": {},
   "outputs": [
    {
     "name": "stdout",
     "output_type": "stream",
     "text": [
      "7 7\n",
      "2 0 0 0 1 1 0\n",
      "0 0 1 0 1 2 0\n",
      "0 1 1 0 1 0 0\n",
      "0 1 0 0 0 0 0\n",
      "0 0 0 0 0 1 1\n",
      "0 1 0 0 0 0 0\n",
      "0 1 0 0 0 0 0\n",
      "27\n"
     ]
    }
   ],
   "source": [
    "# 데이터 받기 \n",
    "N, M = map(int, input().split())\n",
    "\n",
    "origin_map = [list(map(int, input().split())) for _ in range(N)]\n",
    "\n",
    "## 좌표구하기 \n",
    "# 0인 좌표 모으기 \n",
    "loc = []\n",
    "for i in range(N):\n",
    "    for j in range(M):\n",
    "        if origin_map[i][j] == 0:\n",
    "            loc.append((i,j))  # height, width\n",
    "            \n",
    "# BFS만들기\n",
    "from collections import deque\n",
    "\n",
    "\n",
    "# 이동 만들기\n",
    "dx = [1,-1,0,0]\n",
    "dy = [0,0,1,-1]\n",
    "\n",
    "def BFS(maps):\n",
    "    # 출발점 (2인 좌표) 모아두기 \n",
    "    virus = []\n",
    "    for i in range(N):\n",
    "        for j in range(M):\n",
    "            if origin_map[i][j] == 2:\n",
    "                virus.append((i,j))\n",
    "            \n",
    "    virus = deque(virus)\n",
    "    \n",
    "    while virus:\n",
    "        y, x = virus.popleft()\n",
    "        \n",
    "        for i in range(4):\n",
    "            ny = y + dy[i]\n",
    "            nx = x + dx[i]\n",
    "            if ny >= 0 and ny < N and nx >=0 and nx < M:\n",
    "                if maps[ny][nx] == 0:\n",
    "                    maps[ny][nx] = 2 # 방문처리\n",
    "                    virus.append((ny,nx))\n",
    "            \n",
    "# 좌표 combination 만들기\n",
    "from itertools import combinations\n",
    "import copy\n",
    "\n",
    "# 지도에다가 BFS 실행하면서, 그 안에 0의 갯수를 센다. \n",
    "results = []\n",
    "for combi in combinations(loc, 3):  # 3점 3개 조합들 \n",
    "    new_map = copy.deepcopy(origin_map)   # 할때마다 새로운 맵\n",
    "    \n",
    "    for i, j in combi:      # 조합 속 위치 \n",
    "        new_map[i][j] = 1   # 벽 설치 \n",
    "    \n",
    "    BFS(new_map)  # BFS 실행\n",
    "    cnt = 0 # 0의 갯수 세기\n",
    "    for i in range(N):\n",
    "        for j in range(M):\n",
    "            if new_map[i][j] == 0:\n",
    "                cnt += 1\n",
    "                \n",
    "    results.append(cnt)   # 결과값 모으기 \n",
    "    \n",
    "# 답내기 \n",
    "print(max(results))\n",
    "                \n",
    "            "
   ]
  },
  {
   "cell_type": "markdown",
   "metadata": {},
   "source": [
    "## 어려웠던 점\n",
    "- 문제를 어떻게 풀어야 될지 몰랐었다.\n",
    "- 침착하게 생각하니, 벽을 조합으로 설치하면 된다는 것이 떠올랐다. \n",
    "- 시간이 너무 오래걸리는 방법이라, 시간 제약이 타이트하다면, 통과하지 못할 것이다. "
   ]
  }
 ],
 "metadata": {
  "kernelspec": {
   "display_name": "Python 3",
   "language": "python",
   "name": "python3"
  },
  "language_info": {
   "codemirror_mode": {
    "name": "ipython",
    "version": 3
   },
   "file_extension": ".py",
   "mimetype": "text/x-python",
   "name": "python",
   "nbconvert_exporter": "python",
   "pygments_lexer": "ipython3",
   "version": "3.8.3"
  }
 },
 "nbformat": 4,
 "nbformat_minor": 4
}
