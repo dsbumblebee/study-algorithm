{
 "cells": [
  {
   "cell_type": "markdown",
   "metadata": {},
   "source": [
    "## 1. 문제\n",
    "- 프로그래머스 카카오2020공채 문제와 동일 , [링크](https://school.programmers.co.kr/learn/courses/30/lessons/60058)\n",
    "- () 갯수가 같다면, 균형잡힌 괄호 문자열\n",
    "- () 짝도 모두 맞을 경우 , 올바른 괄호 문자열 \n",
    "- w가 균형잡힌 문자열 이라면, 올바른 괄호 문자열로 변환할 수 있다.\n",
    "    - 입력이 빈 문자열인 경우 , 빈 문자열을 반환\n",
    "    - w를 두 균형잡힌 괄호 문자열 u, v로 분리 \n",
    "        - u는 균형잡힌 문자열로 더 이상 분리할 수 없어야 하며, v는 빈 문자열이 될 수 있다.\n",
    "        \n",
    "    - 문자열 u가 올바른 괄호 문자열 이라면, 문자열 v에 대해 1단계부터 다시 수행한다. \n",
    "        - 수행한 결과 문자열을 u에 이어 붙힌 후 반환\n",
    "        \n",
    "    - u가 올바른 괄호 문자열이 아니라면 다음과 같은 과정\n",
    "        - 빈 문자열에 첫 번째 문자로 (를 붙인다.\n",
    "        - v에 대해 1단계부터 재귀적으로 수행한 결과 문자열을 이어 붙인다. \n",
    "        - )를 다시 붙인다. \n",
    "        - u의 첫 번째와 마지막 문자를 제거하고, 나머지 문자열의 괄호 방향을 뒤집어서 뒤에 붙인다. \n",
    "        - 생성된 문자열을 반환한다. \n",
    "        \n",
    "    \n",
    "- 균형잡힌 괄호 문자열 p 가 매개변수로 주어질 때, 주어진 알고리즘을 수행해, 올바른 괄호 문자열로 변환한 결과를 return"
   ]
  },
  {
   "cell_type": "markdown",
   "metadata": {},
   "source": [
    "## 2. 아이디어\n",
    "- 시키는대로 한다. \n",
    "    - 균형잡힌 괄호로 u,v를 나누는 함수, 올바른 괄호인지 확인하는 함수를 만든다. \n",
    "    - 전체 절차를 조건에 맞게 재귀적으로 구현한다. "
   ]
  },
  {
   "cell_type": "markdown",
   "metadata": {},
   "source": [
    "## 3. 예제코드"
   ]
  },
  {
   "cell_type": "code",
   "execution_count": null,
   "metadata": {},
   "outputs": [],
   "source": [
    "# 균형잡힌 괄호 문자열까지 인덱스 나오는 함수 u, v 분리용\n",
    "def balanced_index(p):\n",
    "    count = 0                 # 여는 괄호 수 \n",
    "    for i in range(len(p)):\n",
    "        if p[i] == '(':\n",
    "            count += 1\n",
    "        else :\n",
    "            count -= 1\n",
    "        if count == 0 :       # 여는괄호, 닫는괄호 같아지는 즉시 \n",
    "            return i\n",
    "# 올바른 괄호 확인 함수 \n",
    "def check_proper(p):\n",
    "    count = 0  # 여는 괄호 수 저장 \n",
    "    for i in p :\n",
    "        if i == '(':\n",
    "            count += 1\n",
    "        else :               \n",
    "            if count == 0:   # count가 0이란 말은 여는 괄호를 만나지 않았다, 여는 괄호 없는 상태로 닫는 괄호를 만났는지 확인 \n",
    "                return False \n",
    "            count -=1        # count가 0이 아니라면, 여는 괄호를 만났었다면, count를 뺀다. \n",
    "            \n",
    "    return True  # 쌍이 맞으면 True\n",
    "\n",
    "def solution(p):\n",
    "    answer = ''\n",
    "    # 1단계 , 빈문자열인가 \n",
    "    if p == '':\n",
    "        return answer \n",
    "    # 2단계 , 문자열 나누기 \n",
    "    index = balanced_index(p)\n",
    "    u = p[:index+1]\n",
    "    v = p[index+1:]\n",
    "    # 3단계 , u가 올바른 괄호 문자열이라면, u 뒤에 v만 재귀 실행 후 붙인다.\n",
    "    if check_proper(u):\n",
    "        answer = u + solution(v)\n",
    "    # 4단계 , u가 올바른 괄호 문자열이 아니면, \n",
    "    else:\n",
    "        answer = \"(\"   # 4-1 단계 , 빈 문자열에 첫번째 여는 괄호를 붙인다.\n",
    "        answer += solution(v)  # 4-2 단계, v에 대해서 재귀적으로 실행한 결과를 붙인다. \n",
    "        answer += \")\"  # 4-3 단계 , 닫는 괄호를 붙인다. \n",
    "        u = list(u[1:-1])   # 4-4 단계, 첫문자와 끝문자를 제거하고, 나머지 문자열의 괄호 방향을 뒤집어서 뒤에 붙인다. \n",
    "        for i in range(len(u)): \n",
    "            if u[i] == \"(\": \n",
    "                u[i] = ')'\n",
    "            else :\n",
    "                u[i] = '('\n",
    "                \n",
    "        answer += ''.join(u)\n",
    "        \n",
    "    return answer \n",
    "                "
   ]
  },
  {
   "cell_type": "markdown",
   "metadata": {},
   "source": [
    "## 4. 배운점\n",
    "- 재귀문 사용 방법\n",
    "- 올바른 괄호 찾는 함수, 균형잡힌 괄호 찾는 함수"
   ]
  },
  {
   "cell_type": "markdown",
   "metadata": {},
   "source": [
    "## 참조\n",
    "- 이것이 취업을 위한 코딩테스트다. with 파이썬"
   ]
  }
 ],
 "metadata": {
  "kernelspec": {
   "display_name": "Python 3",
   "language": "python",
   "name": "python3"
  },
  "language_info": {
   "codemirror_mode": {
    "name": "ipython",
    "version": 3
   },
   "file_extension": ".py",
   "mimetype": "text/x-python",
   "name": "python",
   "nbconvert_exporter": "python",
   "pygments_lexer": "ipython3",
   "version": "3.8.3"
  }
 },
 "nbformat": 4,
 "nbformat_minor": 4
}
