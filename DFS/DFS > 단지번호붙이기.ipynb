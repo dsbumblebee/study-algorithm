{
 "cells": [
  {
   "cell_type": "code",
   "execution_count": null,
   "metadata": {},
   "outputs": [],
   "source": []
  },
  {
   "cell_type": "markdown",
   "metadata": {},
   "source": [
    "## 단지 번호 붙이기 \n",
    "- 0101로된 메트릭스가 들어온다.\n",
    "- 1이 집이다. \n",
    "- 1이 위아래, 양옆으로 붙은 것을 단지라고 한다.\n",
    "- 단지의 수와 , 단지들의 집의 수를 오름차순으로 출력하라. "
   ]
  },
  {
   "cell_type": "code",
   "execution_count": null,
   "metadata": {},
   "outputs": [],
   "source": []
  },
  {
   "cell_type": "code",
   "execution_count": null,
   "metadata": {},
   "outputs": [],
   "source": []
  },
  {
   "cell_type": "markdown",
   "metadata": {},
   "source": [
    "- https://ji-gwang.tistory.com/294"
   ]
  },
  {
   "cell_type": "code",
   "execution_count": null,
   "metadata": {},
   "outputs": [],
   "source": [
    "# 2중 for문으로 1을 찾는다. \n",
    "\n",
    "# 1에서 dps를 쓴다. \n",
    "\n",
    "# dps 는 그 자리를 방문으로 하고, 인접한 노드들을 깊이로 탐색하는 것이다. \n",
    "# 방문은 1을 0으로 바꾸는 것이다. \n",
    "# 인접노드 방문을 돌릴때, 좌표를 써야 한다. \n",
    "# dx = [1, -1, 0, 0]\n",
    "# dy = [0, 0, 1, -1]\n",
    "# 2차원 판을 벗어나지 않아야 한다. \n",
    "# 0보다 크고, 판의 크기 보다 작아야 한다. "
   ]
  },
  {
   "cell_type": "code",
   "execution_count": null,
   "metadata": {},
   "outputs": [],
   "source": []
  },
  {
   "cell_type": "code",
   "execution_count": 15,
   "metadata": {},
   "outputs": [],
   "source": []
  },
  {
   "cell_type": "code",
   "execution_count": null,
   "metadata": {},
   "outputs": [],
   "source": [
    "## 인터넷 코드 참조 \n",
    "# 방문처리가 안됬으면을 먼저 묻고, 인접노드는 그냥 DFS 로 간다. \n",
    "\n",
    "# import sys\n",
    "# input = sys.stdin.readline\n",
    "\n",
    "# 데이터 입력\n",
    "N = int(input())\n",
    "houses = [[int(i) for i in list(input().strip())] for _ in range(N)]\n",
    "\n",
    "# 인접노드 들어갈 좌표 준비 \n",
    "dx = [1, -1, 0, 0]\n",
    "dy = [0, 0, 1, -1]\n",
    "\n",
    "def DFS(graph, x, y):         # 미방문이면 방문처리하고, 인접노드 깊이 들어간다. \n",
    "    global count              # 갯수 헤아리기 위한 준비\n",
    "    if x >= 0 and x < N and y >= 0 and y < N :  # 제약 조건 안이면,            \n",
    "        if graph[x][y] == 1 : # 미방문이면, \n",
    "            count += 1        \n",
    "            graph[x][y] = 0   # 방문처리, 방문처리 하면서, count 상승\n",
    "            for i in range(4):       # 인접 노드 들어갈 준비\n",
    "                nx = x + dx[i]\n",
    "                ny = y + dy[i]\n",
    "                DFS(graph, nx, ny)   # 인접노드 DFS 들어감 \n",
    "\n",
    "                \n",
    "result = []        # 결과 모을 준비\n",
    "count = 0          # 갯수 헤아릴 준비  \n",
    "for i in range(N):          # 2차원 메트릭스 순회\n",
    "    for j in range(N):\n",
    "        if houses[i][j] == 1 :    # 방문 처리를 해야할 곳, 방문 처리가 안됬으면, \n",
    "            DFS(houses, i, j)     # DFS 시작 \n",
    "            result.append(count)  # 업데이트 된 count 모으기 \n",
    "            count = 0             # count 초기화 \n",
    "\n",
    "# 결과 정렬\n",
    "result.sort()\n",
    "\n",
    "# 출력부분 \n",
    "print(len(result))\n",
    "for count in result:\n",
    "    print(count)"
   ]
  },
  {
   "cell_type": "code",
   "execution_count": null,
   "metadata": {},
   "outputs": [],
   "source": [
    "# 수정한 코드 \n",
    "# DFS에서는 현재 노드에서는 방문처리를 묻지 않고, 인접노드 방문할때, 방문처리 됬는지를 물어본다. \n",
    "# 대신 조건코드를 반복해서 써줘야 한다. \n",
    "\n",
    "# import sys\n",
    "# input = sys.stdin.readline\n",
    "\n",
    "# 데이터 입력\n",
    "N = int(input())\n",
    "houses = [[int(i) for i in list(input().strip())] for _ in range(N)]\n",
    "\n",
    "# 인접노드 들어갈 좌표 준비 \n",
    "dx = [1, -1, 0, 0]\n",
    "dy = [0, 0, 1, -1]\n",
    "\n",
    "def DFS(graph, x, y):         # 미방문이면 방문처리하고, 인접노드 깊이 들어간다. \n",
    "    global count              # 갯수 헤아리기 위한 준비\n",
    "    if x >= 0 and x < N and y >= 0 and y < N :  # 제약 조건 안이면,            \n",
    "        \n",
    "        count += 1        \n",
    "        graph[x][y] = 0   # 방문처리, 방문처리 하면서, count 상승\n",
    "        for i in range(4):       # 인접 노드 들어갈 준비\n",
    "            nx = x + dx[i]\n",
    "            ny = y + dy[i]\n",
    "            if nx >= 0 and nx < N and ny >= 0 and ny < N :  # 제약 조건 안이면,   \n",
    "                if graph[nx][ny] == 1:\n",
    "                    graph[nx][ny] = 0\n",
    "                    DFS(graph, nx, ny)   # 인접노드 DFS 들어감 \n",
    "\n",
    "                \n",
    "result = []        # 결과 모을 준비\n",
    "count = 0          # 갯수 헤아릴 준비  \n",
    "for i in range(N):          # 2차원 메트릭스 순회\n",
    "    for j in range(N):\n",
    "        if houses[i][j] == 1 :    # 방문 처리를 해야할 곳, 방문 처리가 안됬으면, \n",
    "            DFS(houses, i, j)     # DFS 시작 \n",
    "            result.append(count)  # 업데이트 된 count 모으기 \n",
    "            count = 0             # count 초기화 \n",
    "\n",
    "# 결과 정렬\n",
    "result.sort()\n",
    "\n",
    "# 출력부분 \n",
    "print(len(result))\n",
    "for count in result:\n",
    "    print(count)"
   ]
  },
  {
   "cell_type": "code",
   "execution_count": null,
   "metadata": {},
   "outputs": [],
   "source": []
  },
  {
   "cell_type": "markdown",
   "metadata": {},
   "source": [
    "# 헷갈리는 점\n",
    "- 방문처리됬는지 먼저 묻고, 방문처리하고, 인접노드를 그냥 DFS\n",
    "- 그냥 방문처리하고, 인접노드 돌면서 방문처리를 묻고 DFS \n",
    "\n",
    "\n",
    "- 둘다 가능하다. \n",
    "- 근데 전자가 더 간단하다. 방문처리 됬는지 묻고, 방문처리한다. 인접은 DFS로 돌린다. \n",
    "    - 안됬으면 들어간다. for 순회보다, 안됬으면 들어간다가 먼제 실행되니까 DFS다.\n",
    "    \n",
    "    \n",
    "- 똑같은 DFS를 순서를 다른 코드를 봐서, 계속 헷갈렸다. "
   ]
  },
  {
   "cell_type": "markdown",
   "metadata": {},
   "source": [
    "# 바이러스 문제와 차이점\n",
    "- 2차원 방문이라서 dx, dy를 먼저 선언해야한다. ( 인접 노드 ) \n",
    "- 2차원 방문에서 제약 조건을 넣어줘야 한다. 범위에서 벗어나면 안된다는 것 \n",
    "- 2차원은 일단 다 순회하고, 0, 1 인지 판별해서 시작하는 걸로 한다. \n",
    "- 그래프 자체가 visited 역할까지 한다. \n",
    "- 0으로 다 바뀌어 버리면, for문 다 돌아도, if에 걸릴게 없으니까, 실행되는 것은 if에 걸리는 것 뿐이다. \n",
    "- 횟수를 새는 부분에서, count를 DFS 안에서 global로 사용하고, 모은 다음에, 다시 초기화 시킨다는 점 "
   ]
  }
 ],
 "metadata": {
  "kernelspec": {
   "display_name": "Python 3",
   "language": "python",
   "name": "python3"
  },
  "language_info": {
   "codemirror_mode": {
    "name": "ipython",
    "version": 3
   },
   "file_extension": ".py",
   "mimetype": "text/x-python",
   "name": "python",
   "nbconvert_exporter": "python",
   "pygments_lexer": "ipython3",
   "version": "3.8.3"
  }
 },
 "nbformat": 4,
 "nbformat_minor": 4
}
