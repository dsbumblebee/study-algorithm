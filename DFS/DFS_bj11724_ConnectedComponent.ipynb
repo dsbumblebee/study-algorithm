{
 "cells": [
  {
   "cell_type": "markdown",
   "metadata": {},
   "source": [
    "# 문제 \n",
    "- https://www.acmicpc.net/problem/11724\n",
    "- 방향 없는 그래프, 연결 요소의 개수를 구하는 프로그램\n",
    "\n",
    "- 첫째줄, node 수, edge 수 \n",
    "- 엣지수를 나열함\n",
    "\n",
    "- 바이러스 문제랑 똑같음"
   ]
  },
  {
   "cell_type": "code",
   "execution_count": 4,
   "metadata": {},
   "outputs": [
    {
     "name": "stdout",
     "output_type": "stream",
     "text": [
      "6 8\n",
      "1 2\n",
      "2 5\n",
      "5 1\n",
      "3 4\n",
      "4 6\n",
      "5 4\n",
      "2 4\n",
      "2 3\n",
      "1\n"
     ]
    }
   ],
   "source": [
    "# 데이터 받아서 그래프 만들기\n",
    "\n",
    "# import sys\n",
    "# sys.setrecursionlimit(100000)\n",
    "N, M = map(int, input().split())\n",
    "# input = sys.stdin.readline\n",
    "\n",
    "graph = [[] for _ in range(N+1)]   # 0을 안쓰려고\n",
    "\n",
    "for _ in range(M):\n",
    "    a, b = map(int, input().split())\n",
    "    graph[a].append(b)\n",
    "    graph[b].append(a)\n",
    "    \n",
    "# DFS 만들기 \n",
    "visited = [False]*(N+1)   # 0 을 안쓰려고\n",
    "\n",
    "def DFS(graph, start, visited):\n",
    "    if visited[start] == False:  # 미방문이면\n",
    "        visited[start] = True\n",
    "        for i in graph[start] :   # 인접노드를 돌면서\n",
    "            DFS(graph, i, visited)\n",
    "\n",
    "# DFS 횟수세기 \n",
    "cnt = 0\n",
    "for i in range(1, N+1):\n",
    "    if visited[i] == False:\n",
    "        DFS(graph,i,visited)\n",
    "        cnt +=1\n",
    "            \n",
    "print(cnt)"
   ]
  },
  {
   "cell_type": "markdown",
   "metadata": {},
   "source": [
    "# 몰랐던 점 \n",
    "- sys.stdin.readline 하지 않으면, 시간초과 걸림\n",
    "- sys.setrecursionlimit() 안쓰면 안됨. "
   ]
  }
 ],
 "metadata": {
  "kernelspec": {
   "display_name": "Python 3",
   "language": "python",
   "name": "python3"
  },
  "language_info": {
   "codemirror_mode": {
    "name": "ipython",
    "version": 3
   },
   "file_extension": ".py",
   "mimetype": "text/x-python",
   "name": "python",
   "nbconvert_exporter": "python",
   "pygments_lexer": "ipython3",
   "version": "3.8.3"
  }
 },
 "nbformat": 4,
 "nbformat_minor": 4
}
