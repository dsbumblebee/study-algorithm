{
 "cells": [
  {
   "cell_type": "markdown",
   "metadata": {},
   "source": [
    "# 문제\n",
    "- https://www.acmicpc.net/problem/1012\n",
    "- 배추에 배추흰지렁이가 있으면 해충 방지 한다.\n",
    "- 위아래좌우는 인접이다. \n",
    "- 배추가 듬성듬성 심어져 있어서. 최소 몇 마리의 배추흰지렁이가 필요한지 구하라 \n",
    "\n",
    "- 입력은 \n",
    "    - 테스트 수 (테스트 수 만큼 반복 ) \n",
    "    - 가로 세로 \n",
    "    - 배추 심어져 있는 좌표 \n",
    "\n",
    "- 단지 번호 매기기 문제와 거의 같음 "
   ]
  },
  {
   "cell_type": "code",
   "execution_count": 12,
   "metadata": {},
   "outputs": [
    {
     "name": "stdout",
     "output_type": "stream",
     "text": [
      "2\n",
      "10 8 17\n",
      "0 0\n",
      "1 0\n",
      "1 1\n",
      "4 2\n",
      "4 3\n",
      "4 5\n",
      "2 4\n",
      "3 4\n",
      "7 4\n",
      "8 4\n",
      "9 4\n",
      "7 5\n",
      "8 5\n",
      "9 5\n",
      "7 6\n",
      "8 6\n",
      "9 6\n",
      "10 10 1\n",
      "5 5\n",
      "5\n",
      "1\n"
     ]
    }
   ],
   "source": [
    "# 입력 받기 \n",
    "import sys\n",
    "sys.setrecursionlimit(100000)  # recursion error 때문에, 문제에 2500개까지 배추가 있다고 했음\n",
    "N = int(input())\n",
    "result = []\n",
    "\n",
    "# DFS \n",
    "dx = [1, -1, 0, 0]\n",
    "dy = [0, 0, 1, -1]\n",
    "\n",
    "def DFS(graph, x, y, height, width):\n",
    "    if x >= 0 and x < height and y >= 0 and y < width:\n",
    "        if graph[x][y] == 1 :  # 미방문이면,\n",
    "            graph[x][y] = 0    # 방문 처리 \n",
    "            for i in range(4):\n",
    "                nx = x + dx[i]\n",
    "                ny = y + dy[i]\n",
    "                DFS(graph, nx, ny, height, width)\n",
    "\n",
    "\n",
    "for _ in range(N):   # 테스트 횟수 만큼 \n",
    "    # 밭 만들기 \n",
    "    width, height, nums = map(int, input().split())\n",
    "    farm = [[0]*width for _ in range(height)]\n",
    "\n",
    "    for _ in range(nums):\n",
    "        i, j = map(int, input().split())\n",
    "        farm[j][i] = 1\n",
    "        \n",
    "    # DFS 시작 \n",
    "    cnt = 0\n",
    "    for i in range(height):\n",
    "        for j in range(width):\n",
    "            if farm[i][j] == 1:\n",
    "                cnt+=1          # DFS 횟수를 구하기 \n",
    "                DFS(farm, i, j, height, width)\n",
    "                \n",
    "    # count 모으기           \n",
    "    result.append(cnt)\n",
    "                \n",
    "# 출력        \n",
    "for i in result :\n",
    "    print(i)\n",
    "\n"
   ]
  },
  {
   "cell_type": "markdown",
   "metadata": {},
   "source": [
    "## 헷갈린점\n",
    "- x,y 크기가 달라지니까, 헷갈림\n",
    "- 2차원 리스트에서 앞에 인덱스가 세로, 뒤에 인덱스가 가로임.\n",
    "- DFS는 사실상 x,y는 반대지만, 어찌됬든, 상하좌우를 본다는 것은 달라지지 않는다. \n",
    "- recursion error는 배추의 개수가 2500개 까지라고 했기 때문에, 파이썬에서는 recursion을 1000번까지 허용한다. \n",
    "    - 그래서 import sys , sys.setrecursionlimit(100000)로 recursion 재귀 제한 횟수를 늘려주고 시작해야한다. "
   ]
  }
 ],
 "metadata": {
  "kernelspec": {
   "display_name": "Python 3",
   "language": "python",
   "name": "python3"
  },
  "language_info": {
   "codemirror_mode": {
    "name": "ipython",
    "version": 3
   },
   "file_extension": ".py",
   "mimetype": "text/x-python",
   "name": "python",
   "nbconvert_exporter": "python",
   "pygments_lexer": "ipython3",
   "version": "3.8.3"
  }
 },
 "nbformat": 4,
 "nbformat_minor": 4
}
