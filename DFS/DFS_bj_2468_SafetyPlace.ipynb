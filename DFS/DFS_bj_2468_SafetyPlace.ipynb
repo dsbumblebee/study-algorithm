{
 "cells": [
  {
   "cell_type": "markdown",
   "metadata": {},
   "source": [
    "# 문제\n",
    "- https://www.acmicpc.net/problem/2468\n",
    "\n",
    "- 안전한 영역 \n",
    "- 비의 양에 따라, 일정한 높이 이하의 모든 지점은 물에 잠긴다. \n",
    "- 장마철에 물에 잠기지 않는 영역의 최대 개수"
   ]
  },
  {
   "cell_type": "markdown",
   "metadata": {},
   "source": [
    "- 땅의 min부터 max까지 , 지도를 여러번 만들고,\n",
    "- 0이 아닌부분을 방문 하는 것으로, DFS를 진행해서 , DFS 횟수가 가장 많은 것을 출력한다. "
   ]
  },
  {
   "cell_type": "code",
   "execution_count": 49,
   "metadata": {},
   "outputs": [
    {
     "name": "stdout",
     "output_type": "stream",
     "text": [
      "5\n",
      "6 8 2 6 2\n",
      "3 2 3 4 6\n",
      "6 7 3 3 2\n",
      "7 2 5 3 6\n",
      "8 9 6 2 7\n",
      "[[1, 1, 1, 1, 1], [1, 1, 1, 1, 1], [1, 1, 1, 1, 1], [1, 1, 1, 1, 1], [1, 1, 1, 1, 1]]\n",
      "[[1, 1, 1, 1, 1], [1, 1, 1, 1, 1], [1, 1, 1, 1, 1], [1, 1, 1, 1, 1], [1, 1, 1, 1, 1]]\n",
      "[[1, 1, 0, 1, 0], [1, 0, 1, 1, 1], [1, 1, 1, 1, 0], [1, 0, 1, 1, 1], [1, 1, 1, 0, 1]]\n",
      "[[1, 1, 0, 1, 0], [0, 0, 0, 1, 1], [1, 1, 0, 0, 0], [1, 0, 1, 0, 1], [1, 1, 1, 0, 1]]\n",
      "[[1, 1, 0, 1, 0], [0, 0, 0, 0, 1], [1, 1, 0, 0, 0], [1, 0, 1, 0, 1], [1, 1, 1, 0, 1]]\n",
      "[[1, 1, 0, 1, 0], [0, 0, 0, 0, 1], [1, 1, 0, 0, 0], [1, 0, 0, 0, 1], [1, 1, 1, 0, 1]]\n",
      "[[0, 1, 0, 0, 0], [0, 0, 0, 0, 0], [0, 1, 0, 0, 0], [1, 0, 0, 0, 0], [1, 1, 0, 0, 1]]\n",
      "[[0, 1, 0, 0, 0], [0, 0, 0, 0, 0], [0, 0, 0, 0, 0], [0, 0, 0, 0, 0], [1, 1, 0, 0, 0]]\n",
      "[[0, 0, 0, 0, 0], [0, 0, 0, 0, 0], [0, 0, 0, 0, 0], [0, 0, 0, 0, 0], [0, 1, 0, 0, 0]]\n",
      "[[0, 0, 0, 0, 0], [0, 0, 0, 0, 0], [0, 0, 0, 0, 0], [0, 0, 0, 0, 0], [0, 0, 0, 0, 0]]\n",
      "5\n"
     ]
    }
   ],
   "source": [
    "# import sys\n",
    "# input = sys.stdin.readline\n",
    "sys.setrecursionlimit(100000)\n",
    "\n",
    "\n",
    "# DFS \n",
    "dx = [1,-1,0,0]\n",
    "dy = [0,0,1,-1]\n",
    "\n",
    "def DFS(graph, x, y):\n",
    "    if x >= 0 and x < N and y >= 0 and y < N :\n",
    "        if graph[x][y] ==1:\n",
    "            graph[x][y] = 0\n",
    "            for i in range(4):\n",
    "                nx = x + dx[i]\n",
    "                ny = y + dy[i]\n",
    "                DFS(graph, nx, ny)\n",
    "\n",
    "# 데이터 입력 \n",
    "N = int(input())\n",
    "\n",
    "ground = [list(map(int, input().split())) for _ in range(N)]\n",
    "\n",
    "g_min = min(min(ground))\n",
    "g_max = max(max(ground))\n",
    "\n",
    "# 침수시키면서 \n",
    "result = []  # 결과 모으기 \n",
    "import copy \n",
    "new_ground = copy.deepcopy(ground)      # 땅만들기\n",
    "\n",
    "for k in range(0, g_max+1):   # 아무지역도 물에 잠기지 않을 수 있다. \n",
    "    for i in range(N):\n",
    "        for j in range(N):\n",
    "            if ground[i][j] - k <= 0:   # 차례차례 침수된 땅 만들기 \n",
    "                new_ground[i][j] = 0\n",
    "            else: \n",
    "                new_ground[i][j] = 1 \n",
    "    cnt = 0 \n",
    "    for x in range(N):\n",
    "        for y in range(N):\n",
    "            if new_ground[x][y] ==1  :\n",
    "                DFS(new_ground, x, y)\n",
    "                cnt +=1\n",
    "    result.append(cnt)\n",
    "    \n",
    "print(max(result))\n",
    "                        \n"
   ]
  },
  {
   "cell_type": "markdown",
   "metadata": {},
   "source": [
    "# 어려웠던 점 \n",
    "- 시간이 너무 오래 걸렸다.... 아이디어 자체는 쉬웠다. \n",
    "- 땅을 여러번 만들고, for문 돌릴때, 헷갈렸다.\n",
    "- import copy , copy.deepcopy(list) , 또 사용했다. \n",
    "- 2차원 리스트의 max : max(max(list))\n",
    "- 2차원 리스트의 min : min(min(list))\n",
    "- 침수될때, 음수 되는 점을 빨리 케치 못했다...\n",
    "- 근데 코드 확인을 못하는 상황에서 어떻게... 이걸 실행되는지 확신하고 짤 수 있을까???"
   ]
  }
 ],
 "metadata": {
  "kernelspec": {
   "display_name": "Python 3",
   "language": "python",
   "name": "python3"
  },
  "language_info": {
   "codemirror_mode": {
    "name": "ipython",
    "version": 3
   },
   "file_extension": ".py",
   "mimetype": "text/x-python",
   "name": "python",
   "nbconvert_exporter": "python",
   "pygments_lexer": "ipython3",
   "version": "3.8.3"
  }
 },
 "nbformat": 4,
 "nbformat_minor": 4
}
