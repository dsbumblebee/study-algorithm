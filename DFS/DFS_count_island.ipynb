{
 "cells": [
  {
   "cell_type": "code",
   "execution_count": null,
   "metadata": {},
   "outputs": [],
   "source": []
  },
  {
   "cell_type": "markdown",
   "metadata": {},
   "source": [
    "# 문제\n",
    "- 가로, 세로, 대각선 연결된 것 \n",
    "- 섬의 개수를 세는 프로그램을 만들라.\n",
    "\n",
    "- 가로, 세로 들어오고 \n",
    "- 지도가 들어오고 \n",
    "\n",
    "- 끝에는 0 0 "
   ]
  },
  {
   "cell_type": "code",
   "execution_count": null,
   "metadata": {},
   "outputs": [],
   "source": []
  },
  {
   "cell_type": "code",
   "execution_count": 15,
   "metadata": {},
   "outputs": [
    {
     "name": "stdout",
     "output_type": "stream",
     "text": [
      "5 4 \n",
      "1 0 1 0 0\n",
      "1 0 0 0 0\n",
      "1 0 1 0 1\n",
      "1 0 0 1 0\n",
      "3\n",
      "0 0\n"
     ]
    }
   ],
   "source": [
    "import sys \n",
    "input = sys.stdin.readline\n",
    "sys.setrecursionlimit(100000)\n",
    "\n",
    "# DFS  , 대각선 포함\n",
    "dx = [1, -1, 1 , -1, 1,-1,0,0]\n",
    "dy = [1, -1, -1,  1 ,0,0, 1,-1]\n",
    "\n",
    "def DFS(graph, x, y, width, height):\n",
    "    if x >= 0 and x < height and y >=0 and y < width:  # 제약 조건\n",
    "        if graph[x][y] == 1:  # 미방문\n",
    "            graph[x][y] = 0   # 방문 처리 \n",
    "            for i in range(8) : # 인접 방문\n",
    "                nx = x + dx[i]\n",
    "                ny = y + dy[i]\n",
    "                DFS(graph, nx, ny, width, height)\n",
    "                    \n",
    "# 입력 받기\n",
    "while True :\n",
    "    width, height = map(int, input().split())  # 가로, 세로 받고 \n",
    "    if width == 0 and height == 0 :  # 종료 조건 \n",
    "        break \n",
    "    \n",
    "    islands = [list(map(int, input().split())) for _ in range(height)] # 섬 \n",
    "    cnt = 0\n",
    "    for i in range(height):\n",
    "        for j in range(width):\n",
    "            if islands[i][j] == 1:\n",
    "                DFS(islands, i, j, width, height)\n",
    "                cnt+=1\n",
    "    print(cnt)\n",
    "                "
   ]
  },
  {
   "cell_type": "code",
   "execution_count": null,
   "metadata": {},
   "outputs": [],
   "source": []
  },
  {
   "cell_type": "markdown",
   "metadata": {},
   "source": [
    "# 헷갈렸던 점 \n",
    "- 대각선을 이동한다는 것, x축, y축과 4사분면을 떠올렸음\n",
    "- 입력받을때, map을 리스트로 해줘야되는 것, []하면 안됨 \n",
    "- 가로와 세로, 2차원 리스트에서 인덱스할때, 앞이 세로, 뒤가 가로"
   ]
  },
  {
   "cell_type": "code",
   "execution_count": null,
   "metadata": {},
   "outputs": [],
   "source": []
  }
 ],
 "metadata": {
  "kernelspec": {
   "display_name": "Python 3",
   "language": "python",
   "name": "python3"
  },
  "language_info": {
   "codemirror_mode": {
    "name": "ipython",
    "version": 3
   },
   "file_extension": ".py",
   "mimetype": "text/x-python",
   "name": "python",
   "nbconvert_exporter": "python",
   "pygments_lexer": "ipython3",
   "version": "3.8.3"
  }
 },
 "nbformat": 4,
 "nbformat_minor": 4
}
