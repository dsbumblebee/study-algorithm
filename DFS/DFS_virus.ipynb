{
 "cells": [
  {
   "cell_type": "code",
   "execution_count": null,
   "metadata": {},
   "outputs": [],
   "source": []
  },
  {
   "cell_type": "markdown",
   "metadata": {},
   "source": [
    "- 웜 바이러스 \n",
    "- 네트워크 상에서 연결된 모든 컴퓨터 걸림\n",
    "- 웜 바이러스를 통해서 바이러스에 걸리게 되는 컴퓨터의 수를 출력하는 프로그램"
   ]
  },
  {
   "cell_type": "markdown",
   "metadata": {},
   "source": [
    "- 컴퓨터 수, 직접연결 수, 직접연결 상태 입력으로 들어옴\n",
    "- 1번 컴퓨터가 바이러스에 걸렸을때, 몇 대가 바이러스에 걸리는지?"
   ]
  },
  {
   "cell_type": "code",
   "execution_count": null,
   "metadata": {},
   "outputs": [],
   "source": [
    "# 그래프를 만든다.\n",
    "# 들어오는 숫자들을 2차원 리스트로 받는다.\n",
    "# 2차원 리스트를 순회하면서, 해당 노드의 숫자가 있는지 본다. \n",
    "# 있으면, 그 수를 제외하고 리스트에 받아서, 새로운 2차원 리스트를 만든다. ( 그래프 )\n",
    "\n",
    "\n",
    "\n",
    "# DFS\n",
    "# 그래프로 DFS를 한번 돌리고, 방문을 체크한다. "
   ]
  },
  {
   "cell_type": "code",
   "execution_count": null,
   "metadata": {},
   "outputs": [],
   "source": []
  },
  {
   "cell_type": "code",
   "execution_count": 18,
   "metadata": {},
   "outputs": [
    {
     "name": "stdout",
     "output_type": "stream",
     "text": [
      "7\n",
      "6\n",
      "1 2\n",
      "2 3\n",
      "1 5\n",
      "5 2\n",
      "5 6 \n",
      "4 7\n"
     ]
    }
   ],
   "source": [
    "# 주어진 숫자 받기 \n",
    "N = int(input())\n",
    "num_link = int(input())\n",
    "link = [set(map(int, input().split())) for _ in range(num_link)]"
   ]
  },
  {
   "cell_type": "code",
   "execution_count": 19,
   "metadata": {},
   "outputs": [
    {
     "data": {
      "text/plain": [
       "[{1, 2}, {2, 3}, {1, 5}, {2, 5}, {5, 6}, {4, 7}]"
      ]
     },
     "execution_count": 19,
     "metadata": {},
     "output_type": "execute_result"
    }
   ],
   "source": [
    "link"
   ]
  },
  {
   "cell_type": "code",
   "execution_count": 32,
   "metadata": {},
   "outputs": [
    {
     "name": "stdout",
     "output_type": "stream",
     "text": [
      "[[], [2, 5], [1, 3, 5], [2], [7], [1, 2, 6], [5], [4]]\n"
     ]
    }
   ],
   "source": [
    "# 0 자리는 사용하지 않음 \n",
    "graph = []\n",
    "for i in range(N+1): # 그래프 위치 \n",
    "    nodes = []\n",
    "    for l in link : # 연결을 골라서 \n",
    "        if i in l : # 연결들 속에 있으면, \n",
    "            node = l - set([i])    # 연결된 노드\n",
    "            nodes.append(node.pop())  # 요소를 뽑아서 노드에 넣는다.\n",
    "            \n",
    "    graph.append(nodes) \n",
    "print(graph)"
   ]
  },
  {
   "cell_type": "code",
   "execution_count": 35,
   "metadata": {},
   "outputs": [],
   "source": [
    "# dfs\n",
    "\n",
    "visited = [False]*(N+1)    # 0 자리 안쓰려고, \n",
    "\n",
    "def DFS(graph, start, visited):\n",
    "    visited[start] = True   # 방문 처리\n",
    "    for i in graph[start] :    # 그래프 인접노드 \n",
    "        if not visited[i]:     # 인접노드가 방문이 안됬으면, \n",
    "            visited[i] = True  # 방문한다. \n",
    "            DFS(graph, i, visited)   # 계속 수행한다. "
   ]
  },
  {
   "cell_type": "code",
   "execution_count": 36,
   "metadata": {},
   "outputs": [],
   "source": [
    "DFS(graph, 1, visited)    # DFS 수행 "
   ]
  },
  {
   "cell_type": "code",
   "execution_count": 39,
   "metadata": {},
   "outputs": [
    {
     "data": {
      "text/plain": [
       "4"
      ]
     },
     "execution_count": 39,
     "metadata": {},
     "output_type": "execute_result"
    }
   ],
   "source": [
    "sum(visited) -1 # 1번은 제외하고 감염된 수 "
   ]
  },
  {
   "cell_type": "code",
   "execution_count": null,
   "metadata": {},
   "outputs": [],
   "source": []
  },
  {
   "cell_type": "code",
   "execution_count": null,
   "metadata": {},
   "outputs": [],
   "source": [
    "import sys\n",
    "input = sys.stdin.readline\n",
    "## 전체 합치기 \n",
    "\n",
    "# 1. 주어진 숫자 받기 \n",
    "N = int(input())\n",
    "num_link = int(input())\n",
    "link = [set(map(int, input().split())) for _ in range(num_link)]\n",
    "\n",
    "# 2. 그래프 만들기 \n",
    "# 0 자리는 사용하지 않음 \n",
    "graph = []\n",
    "for i in range(N+1): # 그래프 위치 \n",
    "    nodes = []\n",
    "    for l in link : # 연결을 골라서 \n",
    "        if i in l : # 연결들 속에 있으면, \n",
    "            node = l - set([i])    # 연결된 노드\n",
    "            nodes.append(node.pop())  # 요소를 뽑아서 노드에 넣는다.\n",
    "            \n",
    "    graph.append(nodes) \n",
    "\n",
    "# 3-1. DFS 만들기 , 인접노드 중 방문이 안된게 있으면, 바로 방문들어간다. (깊숙히 들어간다.)\n",
    "visited = [False]*(N+1)    # 0 자리 안쓰려고, \n",
    "def DFS(graph, start, visited):\n",
    "    visited[start] = True   # 방문 처리\n",
    "    for i in graph[start] :    # 그래프 인접노드 \n",
    "        if not visited[i]:     # 인접노드가 방문이 안됬으면, \n",
    "            visited[i] = True  # 방문한다. \n",
    "            DFS(graph, i, visited)   # 계속 수행한다. \n",
    "\n",
    "# 3-2. DFS 수행, 1번 노드 부터             \n",
    "DFS(graph, 1, visited)    # DFS 수행 \n",
    "\n",
    "# 4. 결과 출력\n",
    "print(sum(visited)-1) # 1번은 제외하고 감염된 수 "
   ]
  },
  {
   "cell_type": "code",
   "execution_count": null,
   "metadata": {},
   "outputs": [],
   "source": []
  },
  {
   "cell_type": "code",
   "execution_count": null,
   "metadata": {},
   "outputs": [],
   "source": [
    "# 참조코드 \n",
    "import sys\n",
    "input = sys.stdin.readline\n",
    "\n",
    "com = int(input())\n",
    "visit = [0]*(com+1)\n",
    "com_list = [[] for _ in range(com+1)]\n",
    "\n",
    "def dfs(w):\n",
    "\tvisit[w] = 1\n",
    "\tfor i in com_list[w]:\n",
    "\t\tif visit[i] == 0:\n",
    "\t\t\tdfs(i)\n",
    "\n",
    "def main():\n",
    "\tN = int(input())\n",
    "\t\n",
    "\tfor i in range(N):\n",
    "\t\ta,b = map(int,input().split())\n",
    "\t\tcom_list[a].append(b)\n",
    "\t\tcom_list[b].append(a)\n",
    "\n",
    "\tdfs(1)\n",
    "\tprint(visit.count(1)-1)\n",
    "\n",
    "main()"
   ]
  },
  {
   "cell_type": "code",
   "execution_count": null,
   "metadata": {},
   "outputs": [],
   "source": []
  },
  {
   "cell_type": "markdown",
   "metadata": {},
   "source": [
    "## 기억나지 않았던 점 "
   ]
  },
  {
   "cell_type": "markdown",
   "metadata": {},
   "source": [
    "- DFS 자체가 기억이 나지 않았다. \n",
    "- 그 이유는 출발이 그래프인데, 그래프가 기본적으로 없어서 그렇다. \n",
    "- 그래프를 만드는 방법에 대해서 생각해야 했다. \n",
    "    - 나는 set을 이용한 거추장스런 방법을 떠올렸다. \n",
    "    - 참조한 코드는 리스트를 활용해서, 만들었고, 기본적으로 2차원의 빈 리스트를 생성하고, 주어지는 두 수에 대해서, 각각 빈 리스트에 추가시키는 방식으로 했다. \n",
    " \n",
    "- 다음으로 DFS \n",
    "    - DFS 는 깊게 들어가는 것이다. \n",
    "    - 현재 노드를 방문하고, 현재노드에 인접한 노드 전체를 방문하되, 인접의 인접이 방문이 안되어 있으면, 그 곳 먼저 방문한다. \n",
    "    - DFS는 방문 리스트가 있어야 하고, 현재 위치를 방문으로 바꾼뒤, 그래프에서 현재위치에 인접한 노드들을 for문으로 돌린다. 그러면서, 방문이 안된 곳은 방문처리를 하고, DFS를 재귀실행 한다. "
   ]
  },
  {
   "cell_type": "code",
   "execution_count": null,
   "metadata": {},
   "outputs": [],
   "source": []
  },
  {
   "cell_type": "code",
   "execution_count": null,
   "metadata": {},
   "outputs": [],
   "source": []
  },
  {
   "cell_type": "code",
   "execution_count": null,
   "metadata": {},
   "outputs": [],
   "source": []
  },
  {
   "cell_type": "code",
   "execution_count": null,
   "metadata": {},
   "outputs": [],
   "source": [
    "import sys\n",
    "input = sys.stdin.readline\n",
    "## 전체 합치기 \n",
    "\n",
    "# 1. 주어진 숫자 받기 \n",
    "N = int(input())\n",
    "num_link = int(input())\n",
    "com_list = [[] for _ in range(N+1)]\n",
    "\n",
    "# 2. 그래프 만들기 \n",
    "# 0 자리는 사용하지 않음     \n",
    "    \n",
    "for i in range(num_link):\n",
    "    a,b = map(int,input().split())\n",
    "    com_list[a].append(b)\n",
    "    com_list[b].append(a)\n",
    "\n",
    "# 3-1. DFS 만들기 , 인접노드 중 방문이 안된게 있으면, 바로 방문들어간다. (깊숙히 들어간다.)\n",
    "visited = [False]*(N+1)    # 0 자리 안쓰려고, \n",
    "def DFS(graph, start, visited):\n",
    "    visited[start] = True   # 방문 처리\n",
    "    for i in graph[start] :    # 그래프 인접노드 \n",
    "        if not visited[i]:\n",
    "            visited[i] = True\n",
    "            DFS(graph, i, visited)   # 계속 수행한다. \n",
    "\n",
    "# 3-2. DFS 수행, 1번 노드 부터             \n",
    "DFS(com_list, 1, visited)    # DFS 수행 \n",
    "\n",
    "# 4. 결과 출력\n",
    "print(sum(visited)-1) # 1번은 제외하고 감염된 수 "
   ]
  },
  {
   "cell_type": "code",
   "execution_count": null,
   "metadata": {},
   "outputs": [],
   "source": []
  },
  {
   "cell_type": "code",
   "execution_count": null,
   "metadata": {},
   "outputs": [],
   "source": []
  },
  {
   "cell_type": "code",
   "execution_count": null,
   "metadata": {},
   "outputs": [],
   "source": [
    "import sys\n",
    "input = sys.stdin.readline\n",
    "## 전체 합치기 \n",
    "\n",
    "# 1. 주어진 숫자 받기 \n",
    "N = int(input())\n",
    "num_link = int(input())\n",
    "com_list = [[] for _ in range(N+1)]\n",
    "\n",
    "# 2. 그래프 만들기 \n",
    "# 0 자리는 사용하지 않음     \n",
    "    \n",
    "for i in range(num_link):\n",
    "    a,b = map(int,input().split())\n",
    "    com_list[a].append(b)\n",
    "    com_list[b].append(a)\n",
    "\n",
    "# 3-1. DFS 만들기 , 인접노드 중 방문이 안된게 있으면, 바로 방문들어간다. (깊숙히 들어간다.)\n",
    "visited = [False]*(N+1)    # 0 자리 안쓰려고, \n",
    "def DFS(graph, start, visited):\n",
    "    if visited[start] == False : \n",
    "        visited[start] = True   # 방문 처리\n",
    "        for i in graph[start] :    # 그래프 인접노드 \n",
    "            DFS(graph, i, visited)   # 계속 수행한다. \n",
    "\n",
    "# 3-2. DFS 수행, 1번 노드 부터             \n",
    "DFS(com_list, 1, visited)    # DFS 수행 \n",
    "\n",
    "# 4. 결과 출력\n",
    "print(sum(visited)-1) # 1번은 제외하고 감염된 수 "
   ]
  }
 ],
 "metadata": {
  "kernelspec": {
   "display_name": "Python 3",
   "language": "python",
   "name": "python3"
  },
  "language_info": {
   "codemirror_mode": {
    "name": "ipython",
    "version": 3
   },
   "file_extension": ".py",
   "mimetype": "text/x-python",
   "name": "python",
   "nbconvert_exporter": "python",
   "pygments_lexer": "ipython3",
   "version": "3.8.3"
  }
 },
 "nbformat": 4,
 "nbformat_minor": 4
}
