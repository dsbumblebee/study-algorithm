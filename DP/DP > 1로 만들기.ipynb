{
 "cells": [
  {
   "cell_type": "markdown",
   "metadata": {},
   "source": [
    "# 문제 \n",
    "- 이코테 217 페이지\n",
    "\n",
    "- 입력 : X가 들어온다. \n",
    "- 가능한 연산\n",
    "    - 5로 나누어 떨어지면, 5로 나눈다\n",
    "    - 3으로 나누어 떨어지면, 3으로 나눈다.\n",
    "    - 2로 나누어 떨어지면, 2로 나눈다.\n",
    "    - 1을 뺀다.\n",
    "\n",
    "- 출력 : X가 1이 될때 까지, 연산을 사용하는 횟수의 최소값을 구하라."
   ]
  },
  {
   "cell_type": "code",
   "execution_count": null,
   "metadata": {},
   "outputs": [],
   "source": [
    "# 거꾸로 계산해야겠다는 생각은 든다. \n",
    "\n",
    "# DP 문제는 앞에서부터 연산을 저장해나가는 스타일이다. \n",
    "\n",
    "# DP[1] = 0, 재귀의 종료를 만들듯, 점화식의 시작이 있어야 연결된 연산을 할 수 있다. "
   ]
  },
  {
   "cell_type": "code",
   "execution_count": 9,
   "metadata": {},
   "outputs": [
    {
     "name": "stdout",
     "output_type": "stream",
     "text": [
      "1089\n",
      "8\n"
     ]
    }
   ],
   "source": [
    "X = int(input())\n",
    "\n",
    "# DP는 전체 숫자의 범위 \n",
    "DP = [0]*(30000+1)\n",
    "\n",
    "for i in range(2, X+1):   # DP[1] = 0 이기 때문에, 2부터 시작해야 성립한다.\n",
    "    DP[i] = DP[i-1] + 1   # 더 큰 숫자가 나올 연산부터 수행해서 , min을 구해 나간다. 최소를 구하게 \n",
    "    \n",
    "    if i%2==0:  # 2로 나누어 떨어지면, 3,5로 나눌때보다는 , 덜 최소이기 때문에 먼저한다. \n",
    "        DP[i] = min(DP[i], DP[i//2] + 1)      # 위에서 DP구한 것과 비교해서 더 작은 것으로 갱신한다. \n",
    "        \n",
    "    if i%3==0:  # 3로 나누어 떨어지면, 따로 if인 이유는, 공배수 일수도 있기 때문이다. \n",
    "        DP[i] = min(DP[i], DP[i//3] + 1)\n",
    "        \n",
    "    if i%5==0:  # 5로 나누어 떨어지면, \n",
    "        DP[i] = min(DP[i], DP[i//5] + 1)\n",
    "        \n",
    "print(DP[X])\n",
    "        \n",
    "    "
   ]
  },
  {
   "cell_type": "markdown",
   "metadata": {},
   "source": [
    "# 느낀 점 \n",
    "- 이걸 처음부터 생각해낼 수 있는 사람이 이 세상에 존재할까 궁금하다. \n",
    "\n",
    "- 애초에 다이나믹프로그래밍부터 봤으면, 이 길로 들어서지 않았을텐데.. \n",
    "\n",
    "- 처음부터 작은 연산으로 이어져서 큰 연산을 만들어갈 수 있는지 생각하는 것이 핵심이다. \n",
    "\n",
    "- 피보나치같은 점화식을 연상해낼 수 있어야 하고, 재귀가 종료되듯 처음의 시작값이 무엇인지 그것을 계속해서 사용가능한지 알아야 한다. \n",
    "\n",
    "- 공배수를 처리해야하기 때문에, if else가 아닌, if의 연속이다. "
   ]
  }
 ],
 "metadata": {
  "kernelspec": {
   "display_name": "Python 3",
   "language": "python",
   "name": "python3"
  },
  "language_info": {
   "codemirror_mode": {
    "name": "ipython",
    "version": 3
   },
   "file_extension": ".py",
   "mimetype": "text/x-python",
   "name": "python",
   "nbconvert_exporter": "python",
   "pygments_lexer": "ipython3",
   "version": "3.8.3"
  }
 },
 "nbformat": 4,
 "nbformat_minor": 4
}
