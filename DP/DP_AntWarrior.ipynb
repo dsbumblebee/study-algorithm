{
 "cells": [
  {
   "cell_type": "markdown",
   "metadata": {},
   "source": [
    "# 문제\n",
    "- 수열의 길이가 들어오고\n",
    "- 수열이 들어올때, 수열의 개수는 100까지 \n",
    "- 최소 한칸은 떨어져서 취해야 한다\n",
    "- 얻을 수 있는 식량의 최대값을 출력하라. "
   ]
  },
  {
   "cell_type": "code",
   "execution_count": null,
   "metadata": {},
   "outputs": [],
   "source": [
    "# 점화식이 뭘까\n",
    "\n",
    "# 가장작은 문제가 큰문제를 해결해나갈 수 있는가 \n",
    "\n",
    "# 시작 지점을 달리해서 값들을 모두 저장?\n",
    "\n",
    "# D[n] =  max(D[n-1]  ,   D[n] + D[n-2]) \n",
    "\n"
   ]
  },
  {
   "cell_type": "code",
   "execution_count": 4,
   "metadata": {},
   "outputs": [
    {
     "name": "stdout",
     "output_type": "stream",
     "text": [
      "4\n",
      "1 3 1 5\n",
      "8\n"
     ]
    }
   ],
   "source": [
    "N = int(input())\n",
    "\n",
    "numbers = list(map(int, input().split()))\n",
    "\n",
    "dp = [0]*100\n",
    "dp[0] = numbers[0]\n",
    "dp[1] = max(numbers[0],numbers[1])\n",
    "for i in range(2, N):\n",
    "    dp[i] = max(dp[i-1], dp[i-2]+numbers[i])\n",
    "    \n",
    "print(dp[N-1])"
   ]
  },
  {
   "cell_type": "markdown",
   "metadata": {},
   "source": [
    "# 느낀 점\n",
    "- 점화식을 생각해내야 한다. 처음부터 계산되어서 나간다는 것, 1, 2, 3, 4를 보고 규칙을 파악해야 된다. \n",
    "- 과연 DP를 공부하는게 의미 있을까?\n",
    "- 본다고 되는 영역인지 궁금하다. 애초에 풀 수 있는 사람이 정해져 있는게 아닐까?"
   ]
  }
 ],
 "metadata": {
  "kernelspec": {
   "display_name": "Python 3",
   "language": "python",
   "name": "python3"
  },
  "language_info": {
   "codemirror_mode": {
    "name": "ipython",
    "version": 3
   },
   "file_extension": ".py",
   "mimetype": "text/x-python",
   "name": "python",
   "nbconvert_exporter": "python",
   "pygments_lexer": "ipython3",
   "version": "3.8.3"
  }
 },
 "nbformat": 4,
 "nbformat_minor": 4
}
