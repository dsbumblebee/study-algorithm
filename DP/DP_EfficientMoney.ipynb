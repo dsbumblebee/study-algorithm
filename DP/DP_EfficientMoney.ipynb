{
 "cells": [
  {
   "cell_type": "markdown",
   "metadata": {},
   "source": [
    "# 문제\n",
    "- N, M이 주어진다.\n",
    "- N은 화폐 가치 종류의 수\n",
    "- M은 목표로 하는 금액 , 금액의 범위는 1부터 10000까지 \n",
    "- 이어서 , 화폐 가치가 N개 만큼 연속으로 들어온다. \n",
    "- M원을 만드는 최소 화폐의 수를 구하라 , 구할 수 없을 때는 -1 "
   ]
  },
  {
   "cell_type": "code",
   "execution_count": 4,
   "metadata": {},
   "outputs": [
    {
     "name": "stdout",
     "output_type": "stream",
     "text": [
      "2 7\n",
      "5\n",
      "2\n",
      "2\n"
     ]
    }
   ],
   "source": [
    "n, m = map(int, input().split())\n",
    "\n",
    "moneys = []\n",
    "for _ in range(n):\n",
    "    moneys.append(int(input()))\n",
    "# dp 테이블 제작 , 최소값을 구하니까, 최대값을 넘어가는 값을 넣어두고 시작한다. \n",
    "d = [10001] * (m+1)\n",
    "# 처음부터 계산되서 올라가야 하니까, 항상 초기에 계산될 수 있는 가장 작은 문제에 대한 답을 넣어 놔야 한다. \n",
    "d[0] = 0\n",
    "for money in moneys:                  # 화폐 별로 갱신 \n",
    "    for i in range(money, m+1):       # 화폐를 뺴는게 점화식이니까, 0보다 작은 값에 대한것이 없으니까 \n",
    "        if d[i - money] != 10001:\n",
    "            d[i] = min(d[i], d[i-money] + 1)\n",
    "\n",
    "if d[m] == 10001:                     # 점화식이 적용되지 않는 수는 업데이트 되지 않는다. \n",
    "    print(-1)\n",
    "else : \n",
    "    print(d[m])"
   ]
  },
  {
   "cell_type": "markdown",
   "metadata": {},
   "source": [
    "# 어려운 점 \n",
    "- 함수를 정의하지 못했다. \n",
    "    - 금액 i 를 만들 수 있는 최소 화폐의 수\n",
    "    - 0에 대해서 생각하지 못했다. 0이라는 금액을 만들 수 있는 최소 화폐의 수는 0개이다. \n",
    "    - 화폐 단위 k와 연관지어 생각하지 못했다. \n",
    "        - 예시를 일반화 하지 못했다. \n",
    "        - 어떻게 몇개의 예시만 생각해서 일반화 할 수 있을까? 천재만 가능한가? \n",
    "        \n",
    "- 화폐단위별로 dp를 재갱신한다는 것은 상상도 하지 못했다. \n",
    "    - 예를들어, 2,3 이라는 화폐가 있을때, 5를 만드는 경우 \n",
    "    \n",
    "- dp를 세팅할때, 0이 아닌 수로 세팅하는 것은 처음 나왔다. \n",
    "    - 최소값을 구하니까, 최대값이 넘어가는 값을 집어 넣어 둔다. "
   ]
  }
 ],
 "metadata": {
  "kernelspec": {
   "display_name": "Python 3",
   "language": "python",
   "name": "python3"
  },
  "language_info": {
   "codemirror_mode": {
    "name": "ipython",
    "version": 3
   },
   "file_extension": ".py",
   "mimetype": "text/x-python",
   "name": "python",
   "nbconvert_exporter": "python",
   "pygments_lexer": "ipython3",
   "version": "3.8.3"
  }
 },
 "nbformat": 4,
 "nbformat_minor": 4
}
