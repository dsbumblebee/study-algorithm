{
 "cells": [
  {
   "cell_type": "markdown",
   "metadata": {},
   "source": [
    "# 문제\n",
    "- 2 * N으로 된 타일\n",
    "- 1x2, 2x2, 2x1 의 타일로 덮는 경우의 수를 구하는 프로그램\n",
    "- 출력은 796796으로 나눈 나머지를 구하라 "
   ]
  },
  {
   "cell_type": "code",
   "execution_count": 2,
   "metadata": {},
   "outputs": [
    {
     "name": "stdout",
     "output_type": "stream",
     "text": [
      "3\n",
      "5\n"
     ]
    }
   ],
   "source": [
    "N = int(input())\n",
    "\n",
    "dp = [0]*1001\n",
    "\n",
    "dp[1] = 1\n",
    "dp[2] = 3\n",
    "\n",
    "for i in range(3, N+1):\n",
    "    dp[i] = (dp[i-1] + 2* dp[i-2])%796796\n",
    "    \n",
    "print(dp[N])"
   ]
  },
  {
   "cell_type": "markdown",
   "metadata": {},
   "source": [
    "# 깨달은 점\n",
    "- 점화식을 세울때\n",
    "    - 규칙을 파악해야한다. \n",
    "    - 바로 직전과, 바로 직전의 앞을 가지고 규칙을 찾아내야 한다. \n",
    "    - 처음 or 끝 에서 차곡차곡 해나가야 한다. \n",
    "- 이런걸 어떻게 생각해낼까? 다시 태어나야 하나?"
   ]
  }
 ],
 "metadata": {
  "kernelspec": {
   "display_name": "Python 3",
   "language": "python",
   "name": "python3"
  },
  "language_info": {
   "codemirror_mode": {
    "name": "ipython",
    "version": 3
   },
   "file_extension": ".py",
   "mimetype": "text/x-python",
   "name": "python",
   "nbconvert_exporter": "python",
   "pygments_lexer": "ipython3",
   "version": "3.8.3"
  }
 },
 "nbformat": 4,
 "nbformat_minor": 4
}
