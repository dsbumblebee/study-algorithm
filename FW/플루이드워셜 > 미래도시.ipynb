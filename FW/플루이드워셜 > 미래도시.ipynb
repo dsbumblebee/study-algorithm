{
 "cells": [
  {
   "cell_type": "code",
   "execution_count": null,
   "metadata": {},
   "outputs": [],
   "source": []
  },
  {
   "cell_type": "markdown",
   "metadata": {},
   "source": [
    "# 문제\n",
    "- 회사의 개수 N, 경로의 개수 M이 들어온다. \n",
    "- 연결된 회사의 번호가 공백을 두고 둘째줄부터 M+1번째줄까지 들어온다. \n",
    "- M+2번째 줄에는 목적지 X번 도시, K번 경유지 도시가 공백을 두고 들어온다. \n",
    "\n",
    "- 도시간 이동 거리는 1로 일정하다.\n",
    "- K를 지나 X로 가는 최소 이동 시간을 구하라 \n",
    "- 도달할 수 없다면 -1을 출력하라 "
   ]
  },
  {
   "cell_type": "code",
   "execution_count": null,
   "metadata": {},
   "outputs": [],
   "source": [
    "# 플루이드 워셜"
   ]
  },
  {
   "cell_type": "code",
   "execution_count": null,
   "metadata": {},
   "outputs": [],
   "source": [
    "# 입력\n",
    "N, M = map(int, input().split())\n",
    "\n",
    "# 그래프 , 2차원 리스트\n",
    "INF = int(1e9)\n",
    "graph = [[INF]*(N+1) for _ in range(N+1)]  # 초기화 \n",
    "\n",
    "# 입력받기 \n",
    "for _ in range(M):\n",
    "    a, b = map(int, input().split())\n",
    "    graph[a][b] = 1\n",
    "    graph[b][a] = 1\n",
    "    \n",
    "    \n",
    "X, K = map(int, input().split())  # 도착지, 경유지\n",
    "# 대각 0 만들기\n",
    "for a in range(1,N+1):\n",
    "    for b in range(1,N+1):\n",
    "        if a == b :\n",
    "            graph[a][b] = 0 \n",
    "            \n",
    "# 플루이드 워셜\n",
    "for k in range(1, N+1):\n",
    "    for a in range(1, N+1):\n",
    "        for b in range(1, N+1):\n",
    "            graph[a][b] = min(graph[a][b], graph[a][k] + graph[k][b])\n",
    "\n",
    "# 답만들기\n",
    "distance = graph[1][K] + graph[K][X]\n",
    "\n",
    "if distance >= INF:\n",
    "    print(-1)\n",
    "else :\n",
    "    print(distance)"
   ]
  },
  {
   "cell_type": "markdown",
   "metadata": {},
   "source": [
    "# 몰랐던 점\n",
    "- 경유한다는 것, 전체 경로가 필요하다는 의미.\n",
    "- 플루이드 워셜은 알고리즘의 의미를 아는 것이 중요하다. \n",
    "    - a->b로 가는 거리, a->k, k->b로 가는 거리 중 짧은 거리"
   ]
  },
  {
   "cell_type": "code",
   "execution_count": null,
   "metadata": {},
   "outputs": [],
   "source": []
  }
 ],
 "metadata": {
  "kernelspec": {
   "display_name": "Python 3",
   "language": "python",
   "name": "python3"
  },
  "language_info": {
   "codemirror_mode": {
    "name": "ipython",
    "version": 3
   },
   "file_extension": ".py",
   "mimetype": "text/x-python",
   "name": "python",
   "nbconvert_exporter": "python",
   "pygments_lexer": "ipython3",
   "version": "3.8.3"
  }
 },
 "nbformat": 4,
 "nbformat_minor": 4
}
