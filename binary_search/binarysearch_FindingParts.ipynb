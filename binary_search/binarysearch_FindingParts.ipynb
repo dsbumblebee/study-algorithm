{
 "cells": [
  {
   "cell_type": "markdown",
   "metadata": {},
   "source": [
    "# 문제 \n",
    "- N개의 부품을 가지고 있고, 각각의 고유번호로 되어있다. 이를 리스트로 받는다. \n",
    "- 주문은 M개가 들어오고, 리스트로 받는다. \n",
    "\n",
    "- 부품이 존재하면 yes, 없으면 no를 출력한다. \n",
    "\n",
    "- N은 1~1000000\n",
    "- 고유번호는 1~1000000\n",
    "- M 은 1~100000"
   ]
  },
  {
   "cell_type": "code",
   "execution_count": null,
   "metadata": {},
   "outputs": [],
   "source": [
    "## 구현 아이디어\n",
    "\n",
    "# 이진 탐색으로 숫자가 있는지 없는지 출력하는 함수를 만든다. \n",
    "# 타겟, 어레이, 시작, 끝 을 매개 변수로 하는 함수를 만든다. \n"
   ]
  },
  {
   "cell_type": "code",
   "execution_count": 10,
   "metadata": {},
   "outputs": [
    {
     "name": "stdout",
     "output_type": "stream",
     "text": [
      "5\n",
      "8 3 7 9 2\n",
      "3\n",
      "5 7 9\n",
      "no yes yes "
     ]
    }
   ],
   "source": [
    "# 입력 \n",
    "N = int(input())  # 가지고 있는 부품수\n",
    "parts_list = list(map(int, input().split()))  # 가지고 있는 부품 \n",
    "\n",
    "M = int(input())  # 주문들어오는 부품수\n",
    "order_list = list(map(int, input().split()))\n",
    "\n",
    "parts_list.sort() # 정렬 \n",
    "\n",
    "# 이진탐색 , 반복문 \n",
    "def binary_search(target,array, start, end):\n",
    "    while start <= end:\n",
    "        mid = (start+end)//2\n",
    "        \n",
    "        if array[mid] == target :\n",
    "            return 'yes'\n",
    "        elif array[mid] < target:\n",
    "            start = mid + 1            \n",
    "        else : \n",
    "            end = mid -1             \n",
    "    return 'no'\n",
    "\n",
    "\n",
    "# 재귀문 형태\n",
    "def binary_search2(target, array, start, end):\n",
    "    if start > end :  # 종료조건, start가 end를 넘어가면 종료 \n",
    "        return 'no'\n",
    "    \n",
    "    mid = (start+end)//2        # 탐색 범위 나눔\n",
    "    \n",
    "    if array[mid] == target :   # 타겟과 일치하면, yes 출력\n",
    "        return 'yes'\n",
    "    \n",
    "    elif array[mid] < target :  # 그렇지 않고, target이 중앙보다 오른쪽에 있으면, 오른쪽을 탐색한다. \n",
    "        return binary_search2(target, array, mid + 1, end)\n",
    "        \n",
    "    else :                      # 그렇지 않고, target이 중앙보다 왼쪽에 있으면, 왼쪼글 탐색한다. \n",
    "        return binary_search2(target, array, start, mid-1)\n",
    "\n",
    "# 탐색 결과 \n",
    "for order in order_list:\n",
    "    print(binary_search(int(order), parts_list, 0, N-1), end = ' ')\n",
    "\n"
   ]
  },
  {
   "cell_type": "markdown",
   "metadata": {},
   "source": [
    "# 추가적으로\n",
    "- set, 계수정렬을 이용해서도 풀 수 있다. "
   ]
  }
 ],
 "metadata": {
  "kernelspec": {
   "display_name": "Python 3",
   "language": "python",
   "name": "python3"
  },
  "language_info": {
   "codemirror_mode": {
    "name": "ipython",
    "version": 3
   },
   "file_extension": ".py",
   "mimetype": "text/x-python",
   "name": "python",
   "nbconvert_exporter": "python",
   "pygments_lexer": "ipython3",
   "version": "3.8.3"
  }
 },
 "nbformat": 4,
 "nbformat_minor": 4
}
