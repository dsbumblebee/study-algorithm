{
 "cells": [
  {
   "cell_type": "markdown",
   "metadata": {},
   "source": [
    "# 문제 \n",
    "- N, M : 떡의 개수, 고객이 요청한 떡의 길이 \n",
    "- 떡의 길이들이 공백을 한칸씩 두고 들어온다. \n",
    "\n",
    "- 고객이 적어도 M만큼 떡을 가져가기 위해서, 절단기의 높이 설정값을 구하라."
   ]
  },
  {
   "cell_type": "code",
   "execution_count": null,
   "metadata": {},
   "outputs": [],
   "source": [
    "# 최적화 대상 : 절단기의 높이 \n",
    "\n",
    "# 함수 : 떡 - 절단기 들의 합 \n",
    "\n",
    "# 고객이 가져갈 떡이 적으면, 절단기를 0에 가깝게 \n",
    "# 고객이 가져갈 떡이 많으면, 절단기를 end에 가깝게 "
   ]
  },
  {
   "cell_type": "code",
   "execution_count": 3,
   "metadata": {},
   "outputs": [
    {
     "name": "stdout",
     "output_type": "stream",
     "text": [
      "4 6\n",
      "19 15 10 17\n",
      "15\n"
     ]
    }
   ],
   "source": [
    "# 입력 \n",
    "N, M = map(int, input().split())\n",
    "\n",
    "rice_cakes = list(map(int, input().split()))\n",
    "\n",
    "# 이분탐색, 재귀\n",
    "result = 0\n",
    "\n",
    "def binary_search(target, array, start, end):\n",
    "    global result\n",
    "    if start > end : \n",
    "        return None\n",
    "    \n",
    "    mid = (start+end)//2\n",
    "    \n",
    "    # 기준 , 함수 이용 \n",
    "    criteria = 0\n",
    "    for rice_cake in rice_cakes :\n",
    "        to_give = rice_cake - mid\n",
    "        if to_give > 0 :\n",
    "            criteria+= to_give\n",
    "            \n",
    "    if criteria >= target : \n",
    "        result = mid \n",
    "        return binary_search(target, array, mid+1, end)\n",
    "        \n",
    "    else : \n",
    "        return binary_search(target, array, start, mid-1)\n",
    "    \n",
    "    \n",
    "# 이진 탐색, 반복문\n",
    "def binary_search2(target, array, start, end):\n",
    "    global result\n",
    "    \n",
    "    while start <= end:\n",
    "        mid = (start+end)//2\n",
    "        \n",
    "        criteria = 0\n",
    "        for rice_cake in rice_cakes:\n",
    "            to_give = rice_cake - mid\n",
    "            if to_give > 0 :\n",
    "                criteria += to_give\n",
    "                \n",
    "        if criteria >= target:   # 고객이 떡을 더 많이 가져가면, end쪽으로 \n",
    "            result = mid \n",
    "            start = mid + 1\n",
    "            \n",
    "        else :\n",
    "            end = mid - 1 \n",
    "\n",
    "# 이분탐색 실행     \n",
    "binary_search2(M, rice_cakes, 0, max(rice_cakes))    \n",
    "# 결과 출력 \n",
    "print(result)"
   ]
  }
 ],
 "metadata": {
  "kernelspec": {
   "display_name": "Python 3",
   "language": "python",
   "name": "python3"
  },
  "language_info": {
   "codemirror_mode": {
    "name": "ipython",
    "version": 3
   },
   "file_extension": ".py",
   "mimetype": "text/x-python",
   "name": "python",
   "nbconvert_exporter": "python",
   "pygments_lexer": "ipython3",
   "version": "3.8.3"
  }
 },
 "nbformat": 4,
 "nbformat_minor": 4
}
