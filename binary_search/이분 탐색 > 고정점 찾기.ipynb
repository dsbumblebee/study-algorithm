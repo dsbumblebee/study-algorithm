{
 "cells": [
  {
   "cell_type": "code",
   "execution_count": null,
   "metadata": {},
   "outputs": [],
   "source": []
  },
  {
   "cell_type": "markdown",
   "metadata": {},
   "source": [
    "## 1. 문제 \n",
    "- 고정점 : 수열의 원소 중 그 값이 인덱스와 동일한 원소 \n",
    "\n",
    "- 고정점을 찾는 프로그램을 만들라.\n",
    "\n",
    "### 입력 조건\n",
    "- n은 1 ~ 1000000\n",
    "- 각 원소값은 -1e9 ~ 1e9"
   ]
  },
  {
   "cell_type": "markdown",
   "metadata": {},
   "source": [
    "## 2. 아이디어\n",
    "- 이진탐색은 최적화 대상, 목적함수를 구하는 것이 중요\n",
    "- 최적화 대상은 인덱스 \n",
    "    - 인덱스의 최소는 0, 최대는 n-1\n",
    "    - 인덱스에 해당하는 값이 인덱스보다 크면, 인덱스 보다 작은 쪽을 탐색한다. \n",
    "    - 인덱스에 해당하는 값이 인덱스보다 작으면, 인덱스 보다 큰 쪽을 탐색한다. \n",
    "- 이 문제는 목적함수가 따로 없다. \n",
    "- 재귀함수로 binary search를 구현\n"
   ]
  },
  {
   "cell_type": "code",
   "execution_count": 12,
   "metadata": {},
   "outputs": [
    {
     "name": "stdout",
     "output_type": "stream",
     "text": [
      "5\n",
      "-15 -6 1 3 7\n",
      "3\n"
     ]
    }
   ],
   "source": [
    "# 이진탐색 함수 \n",
    "def binary_search(array, start, end):\n",
    "    if start > end :   # 탐색 완료했는데 답이 없는 경우 \n",
    "        return None \n",
    "    mid = (start+end)//2        \n",
    "    # 고정점을 찾으면 \n",
    "    if array[mid] == mid :  \n",
    "        return mid\n",
    "    # 인덱스에 해당하는 값이 인덱스보다 크면, 인덱스 보다 작은 값 탐색\n",
    "    elif array[mid] > mid:\n",
    "        return binary_search(array, start, mid -1 )\n",
    "    # 인덱스에 해당하는 값이 인덱스보다 작으면, 인덱스보다 큰 값 탐색\n",
    "    else :\n",
    "        return binary_search(array, mid+1, end)\n",
    "\n",
    "# 입력\n",
    "n = int(input())\n",
    "array = list(map(int, input().split()))\n",
    "\n",
    "# 함수 실행, 최소값은 0 , 최대값은 n-1\n",
    "index = binary_search(array, 0, n-1)\n",
    "\n",
    "if index == None:\n",
    "    print(-1)\n",
    "else :\n",
    "    print(index)"
   ]
  },
  {
   "cell_type": "markdown",
   "metadata": {},
   "source": [
    "## 4. 배운점\n",
    "- 이진탐색 기본 함수 재귀버전 구현 리마인드 "
   ]
  },
  {
   "cell_type": "markdown",
   "metadata": {},
   "source": [
    "## 참조\n",
    "- 이것이 취업을 위한 코딩테스트다. with 파이썬"
   ]
  }
 ],
 "metadata": {
  "kernelspec": {
   "display_name": "Python 3",
   "language": "python",
   "name": "python3"
  },
  "language_info": {
   "codemirror_mode": {
    "name": "ipython",
    "version": 3
   },
   "file_extension": ".py",
   "mimetype": "text/x-python",
   "name": "python",
   "nbconvert_exporter": "python",
   "pygments_lexer": "ipython3",
   "version": "3.8.3"
  }
 },
 "nbformat": 4,
 "nbformat_minor": 4
}
