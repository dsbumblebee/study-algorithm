{
 "cells": [
  {
   "cell_type": "code",
   "execution_count": null,
   "metadata": {},
   "outputs": [],
   "source": []
  },
  {
   "cell_type": "markdown",
   "metadata": {},
   "source": [
    "## 1. 문제 \n",
    "- 백준 2110 문제와 동일 \n",
    "    - [링크](https://www.acmicpc.net/problem/2110)\n",
    "    \n",
    "- 집 n개가 수직선 위, 각각 다른 좌표 \n",
    "- 공유기 c개를 설치 하고자 한다. \n",
    "- 한 집에 공유기 하나 설치, 인접한 두 공유기 사이의 거리를 가능한 크게\n",
    "- c개의 공유기를 n개의 집에 적당히 설치, 가장 인접한 두 공유기 사이의 거리를 최대로 "
   ]
  },
  {
   "cell_type": "markdown",
   "metadata": {},
   "source": [
    "## 2. 아이디어\n",
    "- 최적화 대상은 집간의 간격 \n",
    "    - 최소값은 1, 최대값은 첫집과 끝집의 거리 \n",
    "    \n",
    "- mid가 들어간 목적함수\n",
    "    - 첫집에 무조건 설치 후 다음 집부터 mid 간격이상으로 설치 했을 때, c개 설치 가능한가 \n",
    "    - 다음 집부터 끝집까지 mid간격 이상으로 설치 \n",
    "        - for 문, house[i] >= dist(지금까지 거리) + mid\n",
    "        \n",
    "- 판단 \n",
    "    - count 가 c보다 크거나 같으면, mid는 넓어져야 하고, 답이 될 수 있다.\n",
    "    - count 가 c보다 작으면, mid는 좁혀져야하고, 답이 될 수 없다. "
   ]
  },
  {
   "cell_type": "code",
   "execution_count": null,
   "metadata": {},
   "outputs": [],
   "source": [
    "## 숫자가 매우 크기 때문에 이분탐색 \n",
    "\n",
    "## 최적화할 대상 : 인접한 공유기 사이의 거리 \n",
    "## 최소 1, 최대 수열에서 가장 큰 값과 작은 값의 차이 \n",
    "\n",
    "## mid가 들어간 최적화 식 \n",
    "## 설치 가능 여부 판단 \n",
    "## 누적거리 (첫 위치에 설치) \n",
    "## 설치할 위치 >= 누적 거리 + mid  : 설치 가능 \n",
    "## 설치가능하면, 설치할 위치를 누적거리에 갱신 \n",
    "## 설치가능하면, count 상승\n",
    "\n",
    "## count 가 c 보다 작으면, 거리 축소 \n",
    "\n",
    "## count 가 c 보다 크거나 같으면, 거리 증가 , 최적화 정답 "
   ]
  },
  {
   "cell_type": "markdown",
   "metadata": {},
   "source": [
    "## 3. 예제코드"
   ]
  },
  {
   "cell_type": "code",
   "execution_count": 8,
   "metadata": {},
   "outputs": [
    {
     "name": "stdout",
     "output_type": "stream",
     "text": [
      "5 3\n",
      "1\n",
      "2\n",
      "8\n",
      "4\n",
      "9\n",
      "3\n"
     ]
    }
   ],
   "source": [
    "# 입력 \n",
    "n, c = map(int, input().split())\n",
    "\n",
    "houses = [int(input()) for _ in range(n)]  # 집 좌표 입력 \n",
    "houses.sort()  # 이분탐색을 위한 정렬 \n",
    "\n",
    "# 이분탐색\n",
    "# 초기값 설정 (최적화 대상은 집의 간격)\n",
    "start = 1 \n",
    "end = houses[-1] - houses[0]\n",
    "\n",
    "result = 0  # 결과 값 초기화 \n",
    "\n",
    "# 이분탐색 시작\n",
    "while start <= end :\n",
    "    mid = (start + end) //2 \n",
    "    \n",
    "    dist = houses[0]  # 지금까지 거리 , 첫집 설치 \n",
    "    count = 1\n",
    "    \n",
    "    for i in range(1, n):  \n",
    "        if houses[i] >= dist + mid:    # 설치할 집 위치 >= 지금까지의 거리 + 간격 \n",
    "            count += 1\n",
    "            dist = houses[i]           # 설치할 집의 위치가 지금까지의 거리로 갱신\n",
    "            \n",
    "    if count >= c : \n",
    "        start = mid + 1 \n",
    "        result = mid \n",
    "    else : \n",
    "        end = mid - 1 \n",
    "\n",
    "print(result)"
   ]
  },
  {
   "cell_type": "markdown",
   "metadata": {},
   "source": [
    "## 4. 배운점 \n",
    "- 목적함수 포함 이분탐색 리마인드"
   ]
  },
  {
   "cell_type": "code",
   "execution_count": null,
   "metadata": {},
   "outputs": [],
   "source": []
  }
 ],
 "metadata": {
  "kernelspec": {
   "display_name": "Python 3",
   "language": "python",
   "name": "python3"
  },
  "language_info": {
   "codemirror_mode": {
    "name": "ipython",
    "version": 3
   },
   "file_extension": ".py",
   "mimetype": "text/x-python",
   "name": "python",
   "nbconvert_exporter": "python",
   "pygments_lexer": "ipython3",
   "version": "3.8.3"
  }
 },
 "nbformat": 4,
 "nbformat_minor": 4
}
