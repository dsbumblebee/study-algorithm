{
 "cells": [
  {
   "cell_type": "markdown",
   "metadata": {},
   "source": [
    "## 1. 문제\n",
    "- 백준 14888과 동일한 문제 [링크](https://www.acmicpc.net/problem/14888)\n",
    "- 수 리스트, 연산자 리스트가 들어온다. \n",
    "- 수의 순서는 바꾸지 않고, 연산자를 사이에 끼워 넣는다. \n",
    "- 계산\n",
    "    - 연산자 우선 순위를 무시하고 앞에서부터 진행 \n",
    "    - 나눗셈은 몫만 취한다. \n",
    "    - 음수를 양수로 나눌때는 양수로 바꾼뒤 몫을 취하고, 그 몫을 음수로 바꾼다. \n",
    "    \n",
    "- 입력, N개의 숫자, N-1개의 연산자\n",
    "    - 수의 갯수\n",
    "    - 수\n",
    "    - 덧셈, 뺄셈, 곱셉, 나눗셈의 수 \n",
    "\n",
    "- 출력 : 연산결과의 최대값, 최소값\n",
    "\n",
    "- 조건 : 연산의 중간과정과 결과과정들의 범위는 -10억~10억 사이이다. "
   ]
  },
  {
   "cell_type": "markdown",
   "metadata": {},
   "source": [
    "## 2. 아이디어\n",
    "- 연산 코드를 연산으로 바꿔서, permutations 모듈로 순열로 만든다음, 모든 순열 조건에 대해서, 연산을 해보고 최대값과 최소값을 갱신한다.\n"
   ]
  },
  {
   "cell_type": "code",
   "execution_count": null,
   "metadata": {},
   "outputs": [],
   "source": [
    "# 연산 코드를 연산으로 바꾼다. \n",
    "\n",
    "# 연산을 순열로 바꾼다. \n",
    "\n",
    "# 숫자와 연산한다. 첫 숫자 만들어 놓고, if를 넣어서 \n",
    "\n",
    "# 숫자와 연산한 것들을 모은다. \n",
    "\n",
    "# 최대값과 최소값을 구한다. "
   ]
  },
  {
   "cell_type": "markdown",
   "metadata": {},
   "source": [
    "## 3-1. 코드 (무지성 version)\n",
    "- PyPy로 간신히 시간안에 통과할 수 있었다."
   ]
  },
  {
   "cell_type": "code",
   "execution_count": 8,
   "metadata": {},
   "outputs": [
    {
     "name": "stdout",
     "output_type": "stream",
     "text": [
      "3\n",
      "3 4 5\n",
      "1 0 1 0\n",
      "35\n",
      "17\n"
     ]
    }
   ],
   "source": [
    "from itertools import permutations\n",
    "## 입력 \n",
    "N = int(input())\n",
    "\n",
    "numbers = list(map(int, input().split()))\n",
    "\n",
    "# 연산자 리스트로 바꾸기\n",
    "cal = list(map(int, input().split()))\n",
    "cal_text = ['+','-','*','/']\n",
    "cal_sign = ''\n",
    "\n",
    "for idx, num in enumerate(cal):\n",
    "    cal_sign += cal_text[idx]*num\n",
    "    \n",
    "cal_signs = list(cal_sign)\n",
    "\n",
    "maximum = -1e9\n",
    "minimum = 1e9\n",
    "\n",
    "\n",
    "for combi in permutations(cal_signs, len(cal_signs)):   # 연산의 모든 경우\n",
    "    total = numbers[0]                # 연산의 합\n",
    "    for i in range(1,len(numbers)):   # 숫자 두번째부터, 끝까지 \n",
    "        if combi[i-1] == '+':\n",
    "            total += numbers[i]\n",
    "        elif combi[i-1] == '-':\n",
    "            total -= numbers[i]\n",
    "        elif combi[i-1] == '*':\n",
    "            total *= numbers[i]\n",
    "        elif combi[i-1] == '/':\n",
    "            total = int(total/numbers[i])    # c++14의 기준 , 양수로 바꾼뒤 몫을 취하고, 그 몫을 음수로 바꾸는 것\n",
    "    \n",
    "    if total > maximum:\n",
    "        maximum = total\n",
    "    if total < minimum:\n",
    "        minimum = total\n",
    "        \n",
    "print(maximum)\n",
    "print(minimum)\n",
    "            "
   ]
  },
  {
   "cell_type": "markdown",
   "metadata": {},
   "source": [
    "## 3-2. 참조코드\n",
    "- 저자의 코드에서 이해가 안되는 부분이 있어서, 백준에 제출된 코드 중 유사한 것으로 학습했다."
   ]
  },
  {
   "cell_type": "code",
   "execution_count": null,
   "metadata": {},
   "outputs": [],
   "source": [
    "# 재귀문 \n",
    "# 재귀는 선언적 프로그래밍이다. 목표만 설정하면 된다. \n",
    "# index로 종료 , result에 값이 모이게 \n",
    "\n",
    "def dfs(index, result, add, sub, mul, div):\n",
    "    global n , max_num, min_num\n",
    "    if index == n :\n",
    "        max_num = max(max_num , result)\n",
    "        min_num = min(min_num , result)\n",
    "        return   # 리턴이 없기 때문에, 앞선 재귀문들이 그냥 끝나버린다. \n",
    "    else:\n",
    "        if add :\n",
    "            dfs(index + 1, result + nums[index] , add-1, sub, mul, div)\n",
    "        if sub:\n",
    "            dfs(index +1 , result - nums[index] , add, sub-1, mul, div)\n",
    "        if mul:\n",
    "            dfs(index +1, result * nums[index], add, sub, mul-1, div)\n",
    "        if div:\n",
    "            dfs(index+1, int(result / nums[index]), add, sub, mul, div-1)\n",
    "            \n",
    "# 입력\n",
    "n = int(input())\n",
    "\n",
    "nums = list(map(int, input().split()))\n",
    "max_num = -1e9\n",
    "min_num = 1e9\n",
    "\n",
    "add, sub, mul, div = map(int, input().split())\n",
    "\n",
    "dfs(1, nums[0], add, sub, mul, div)\n",
    "\n",
    "print(max_num)\n",
    "print(min_num)"
   ]
  },
  {
   "cell_type": "markdown",
   "metadata": {},
   "source": [
    "# 몰랐던 점 \n",
    "- 음수 나눗셈에서 //는 내림이 된다는 것 \n",
    "- 더해나가는 것, 첫번째값을 먼저 더해놓고, 그 뒤를 이어서 연산해주면된다는 것 \n",
    "- 기호로 만들어 놓고, 조건문으로 연산을 하면 된다는 것 \n",
    "- 최대값 , 최소값 갱신, max, min의 초기값은 거꾸로, 가장 작은값이 될 수 있는 값과, 가장 큰 값이 될 수 있는 값을 초기값으로 해놓고 시작한다. \n"
   ]
  },
  {
   "cell_type": "markdown",
   "metadata": {},
   "source": [
    "## 4. 배운점\n",
    "- 재귀문에 대해서 추가적으로 연습할 수 있었다. "
   ]
  },
  {
   "cell_type": "markdown",
   "metadata": {},
   "source": [
    "## 참조\n",
    "- 이것이 취업을 위한 코딩테스트다. with 파이썬"
   ]
  }
 ],
 "metadata": {
  "kernelspec": {
   "display_name": "Python 3",
   "language": "python",
   "name": "python3"
  },
  "language_info": {
   "codemirror_mode": {
    "name": "ipython",
    "version": 3
   },
   "file_extension": ".py",
   "mimetype": "text/x-python",
   "name": "python",
   "nbconvert_exporter": "python",
   "pygments_lexer": "ipython3",
   "version": "3.8.3"
  }
 },
 "nbformat": 4,
 "nbformat_minor": 4
}
