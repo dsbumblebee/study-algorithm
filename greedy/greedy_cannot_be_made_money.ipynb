{
 "cells": [
  {
   "cell_type": "markdown",
   "metadata": {},
   "source": [
    "## 1. 문제 \n",
    "- N , 동전의 개수가 주어진다. \n",
    "- 뒤이어서 N개의 공백을 둔 문자열로, 화폐 단위가 들어온다. \n",
    "- 주어진 동전으로 만들 수 없는 양의 정수 금액 중 최소값을 구하라.\n",
    "\n",
    "### 입력 조건 \n",
    "- 동전의 개수 , 양의 정수 N  ( 1 <= N <= 1000)\n",
    "- 화폐단위는 1000000이하의 자연수 \n",
    "\n",
    "### 출력 조건\n",
    "- 만들 수 없는 양의 정수 금액 중 최소값\n",
    "\n",
    "### 입력 예시 \n",
    "```python\n",
    "5\n",
    "3 2 1 1 9\n",
    "```\n",
    "\n",
    "### 출력 예시 \n",
    "```python\n",
    "8\n",
    "```"
   ]
  },
  {
   "cell_type": "markdown",
   "metadata": {},
   "source": [
    "## 2-1. 무지성 아이디어\n",
    "- 답을 표시할 리스트 (최대크기 1000*1000000)를 만든다. \n",
    "- permutations로 조합을 만들어서 정답리스트에 표시한다. 아마 시간 초과할 듯..\n",
    "- 작은수에서부터 탐색해서 표시안된 가장 작은 인덱스를 보여준다. \n",
    "\n",
    "## 2-2. 저자 아이디어 \n",
    "- 화폐를 정렬해서, 만들 수 있는 값의 다음값을 target으로 설정하고 확인한다. \n",
    "    - 만들 수 있는 값의 다음값은, 초기에 1을 넣어두고, 화폐들을 더해나간다. ( 만들 수 있는 값의 다음 값 = 코드로는 초기에 1을 넣어두고, 화폐들을 누적한다 ) \n",
    "    - 이것이 말과, 구현코드의 괴리고, 이것이 괴롭힌다. \n",
    "- 단, 화폐가 정렬되어 있고, 순서대로 있는 경우에, 화폐의 합의 의미가 그 값까지는 만들어진다는 것을 알아야 한다. ( 어떻게 처음부터 알 수 있나?? 다시 태어나야 하나? )"
   ]
  },
  {
   "cell_type": "markdown",
   "metadata": {},
   "source": [
    "## 3-1. 예제 코드 (무지성 version)\n",
    "- 1000개의 조합의 수는 약 50만개니까, 그걸 최대 1000번 반복문으로 돌리면..\n",
    "- 당연히 시간초과 뜰 듯 하지만, 그냥 답보기 좀 그래서, 30분동안 뭐라도 했다."
   ]
  },
  {
   "cell_type": "code",
   "execution_count": 11,
   "metadata": {},
   "outputs": [
    {
     "name": "stdout",
     "output_type": "stream",
     "text": [
      "5\n",
      "3 2 1 1 9\n",
      "8\n"
     ]
    }
   ],
   "source": [
    "## 입력 \n",
    "N = int(input())\n",
    "\n",
    "nums = list(map(int, input().split()))\n",
    "\n",
    "## check_list 초기화\n",
    "max_nums = sum(nums)\n",
    "check_list = [0] * (max_nums+1)\n",
    "\n",
    "## 조합 \n",
    "from itertools import combinations\n",
    "\n",
    "for i in range(1, len(nums)):\n",
    "    for combi in combinations(nums, i):\n",
    "        value = sum(combi)\n",
    "        check_list[value] = 1\n",
    "            \n",
    "for i in range(1, len(check_list)):\n",
    "    if check_list[i] == 0:\n",
    "        print(i)\n",
    "        break"
   ]
  },
  {
   "cell_type": "markdown",
   "metadata": {},
   "source": [
    "## 3-2. 예제 코드 (저자 version)"
   ]
  },
  {
   "cell_type": "code",
   "execution_count": null,
   "metadata": {},
   "outputs": [],
   "source": [
    "# 입력 \n",
    "N = int(input())\n",
    "moneys = list(map(int, input().split()))\n",
    "\n",
    "moneys.sort()  # 화폐를 오름차순으로 정렬 한다. \n",
    "\n",
    "# target 초기화 (현재까지 적산값의 다음 수)\n",
    "# 이 수 앞까지는 만들 수 있고, \n",
    "# 이 수에 해당하는 수가 들어온다면, 만들 수 있는 수를 연장 할 수 있다. \n",
    "target = 1               \n",
    "for money in moneys :\n",
    "    if money > target :  # 만들 수 있는 수의 바로 다음 수까지는 들어오면, 만들 수 있는 수를 이어갈 수 있다. \n",
    "        break            # 그러나 그 수보다 더 큰 수가 들어오면, 이어나갈 수 없으니까, 못 만드는 수이다.  \n",
    "    target+= money\n",
    "    \n",
    "print(target)"
   ]
  },
  {
   "cell_type": "markdown",
   "metadata": {},
   "source": [
    "## 4. 배운점\n",
    "- 전혀 이런 사고를 할 수 없었다. 많은 문제를 풀어봐야 한다.\n",
    "- 오름차순으로 숫자를 나열해서 적산하면, 그 합산까지는 그 수의 조합으로 모두 만들 수 있다. "
   ]
  },
  {
   "cell_type": "markdown",
   "metadata": {},
   "source": [
    "## 참고\n",
    "- 이것이 취업을 위한 코딩테스트다. with 파이썬"
   ]
  }
 ],
 "metadata": {
  "kernelspec": {
   "display_name": "Python 3",
   "language": "python",
   "name": "python3"
  },
  "language_info": {
   "codemirror_mode": {
    "name": "ipython",
    "version": 3
   },
   "file_extension": ".py",
   "mimetype": "text/x-python",
   "name": "python",
   "nbconvert_exporter": "python",
   "pygments_lexer": "ipython3",
   "version": "3.8.3"
  }
 },
 "nbformat": 4,
 "nbformat_minor": 4
}
