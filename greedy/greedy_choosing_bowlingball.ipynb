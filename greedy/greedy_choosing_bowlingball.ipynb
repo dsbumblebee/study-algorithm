{
 "cells": [
  {
   "cell_type": "code",
   "execution_count": null,
   "metadata": {},
   "outputs": [],
   "source": []
  },
  {
   "cell_type": "markdown",
   "metadata": {},
   "source": [
    "## 1. 문제 : 볼링공 고르기\n",
    "- N, M , 볼링공의 수 , 무게 종류의 수 가 들어온다.\n",
    "- 공백을 둔 N개의 볼링공의 무게가 들어온다. \n",
    "- 두 사람이 볼링공을 고르는 경우의 수를 구하라.\n",
    "\n",
    "### 입력 조건\n",
    "- N : 볼링공의 수 (1<= N <=1000), M : 볼링공의 무게 ( 1<= M <=10) 입력\n",
    "- 공백을 둔 무게 K (1<= K <= M) 입력  \n",
    "\n",
    "### 출력 조건\n",
    "- 두 사람이 볼링공을 고르는 조건의 수\n",
    "\n",
    "### 입력 예시\n",
    "```python \n",
    "5 3\n",
    "1 3 2 3 2\n",
    "```\n",
    "\n",
    "### 출력 예시\n",
    "```python \n",
    "8\n",
    "```"
   ]
  },
  {
   "cell_type": "markdown",
   "metadata": {},
   "source": [
    "## 2-1. 아이디어 (my version)\n",
    "- 앞 사람이 고른 공과 다르면, 경우의 수를 올린다. \n",
    "- O(N^2) , max 1000 이기 때문에, 1000000번 연산으로 시간 초과는 하지 않을 듯하다.\n",
    "\n",
    "## 2-2. 저자 아이디어\n",
    "- 공의 무게를 개수를 다른 리스트에 저장한다. (자연적으로 순차적으로 보게 된다)\n",
    "- 공의 무게를 저장한 리스트를 활용해서 A의 선택의 수, B의 선택 (A가 선택한 경우 제외)를 곱하면서 결과에 적산한다. "
   ]
  },
  {
   "cell_type": "markdown",
   "metadata": {},
   "source": [
    "## 3-1. 예제 코드 (my version)"
   ]
  },
  {
   "cell_type": "code",
   "execution_count": null,
   "metadata": {},
   "outputs": [],
   "source": [
    "# 앞 사람이 고른 공과 같은지만 체크하고 다르면, cnt 올리면 되는 거 아닌가"
   ]
  },
  {
   "cell_type": "code",
   "execution_count": 2,
   "metadata": {},
   "outputs": [
    {
     "name": "stdout",
     "output_type": "stream",
     "text": [
      "8 5\n",
      "1 5 4 3 2 4 5 2\n",
      "25\n"
     ]
    }
   ],
   "source": [
    "N, M = map(int, input().split())\n",
    "\n",
    "balls = list(map(int, input().split()))\n",
    "cnt = 0 \n",
    "for i in range(len(balls)-1):\n",
    "    for j in range(i+1, len(balls)):\n",
    "        if balls[i] != balls[j]:\n",
    "            cnt += 1\n",
    "            \n",
    "print(cnt)"
   ]
  },
  {
   "cell_type": "markdown",
   "metadata": {},
   "source": [
    "## 3-2. 예제 코드 (저자 버전)"
   ]
  },
  {
   "cell_type": "code",
   "execution_count": 5,
   "metadata": {},
   "outputs": [
    {
     "name": "stdout",
     "output_type": "stream",
     "text": [
      "8 5\n",
      "1 5 4 3 2 4 5 2\n",
      "25\n"
     ]
    }
   ],
   "source": [
    "# 입력\n",
    "N, M = map(int, input().split())\n",
    "balls = list(map(int, input().split()))\n",
    "# 공 무게 리스트 \n",
    "weights = [0]*11       # 1부터 사용하려고\n",
    "\n",
    "for ball in balls:     \n",
    "    weights[ball] += 1 # 공 무게의 수 모으기\n",
    "\n",
    "result = 0\n",
    "for i in range(M+1):\n",
    "    N -= weights[i]    # A가 선택한 경우 제외 \n",
    "    result += weights[i] * N  # A가 선택한 경우 * B가 선택한 경우\n",
    "    \n",
    "print(result)"
   ]
  },
  {
   "cell_type": "markdown",
   "metadata": {},
   "source": [
    "## 4. 배운점\n",
    "- 중복된 값이 있는 상태에서 조합의 개수를 구하는 방법에 대해서 배웠다. "
   ]
  },
  {
   "cell_type": "markdown",
   "metadata": {},
   "source": [
    "## 참고\n",
    "- 이것이 취업을 위한 코딩 테스트다 with 파이썬 "
   ]
  },
  {
   "cell_type": "code",
   "execution_count": null,
   "metadata": {},
   "outputs": [],
   "source": []
  }
 ],
 "metadata": {
  "kernelspec": {
   "display_name": "Python 3",
   "language": "python",
   "name": "python3"
  },
  "language_info": {
   "codemirror_mode": {
    "name": "ipython",
    "version": 3
   },
   "file_extension": ".py",
   "mimetype": "text/x-python",
   "name": "python",
   "nbconvert_exporter": "python",
   "pygments_lexer": "ipython3",
   "version": "3.8.3"
  }
 },
 "nbformat": 4,
 "nbformat_minor": 4
}
