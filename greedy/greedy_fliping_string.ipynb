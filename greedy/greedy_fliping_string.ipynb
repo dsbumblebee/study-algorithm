{
 "cells": [
  {
   "cell_type": "markdown",
   "metadata": {},
   "source": [
    "## 1. 문제\n",
    "- 백준1439 와 같은 문제 https://www.acmicpc.net/problem/1439 \n",
    "- 0,1 숫자로된 연속된 문자열이 들어온다.\n",
    "- 연속으로 연결된 숫자를 뒤집는다. \n",
    "- 뒤집는 것은 0 -> 1, 1 -> 0 \n",
    "- 연결된 숫자를 뒤집는 것이 한 동작이고 \n",
    "- 행동의 최소 회수를 구하는 프로그램을 만들라. \n",
    "\n",
    "### 입력 조건\n",
    "- 0,1 숫자로된 연속된 문자열 \n",
    "\n",
    "### 출력 조건\n",
    "- 뒤집는 행동의 최소 회수\n",
    "\n",
    "### 입력 예시\n",
    "```python\n",
    "0001100\n",
    "```\n",
    "\n",
    "### 출력 예시\n",
    "```python\n",
    "1\n",
    "```\n"
   ]
  },
  {
   "cell_type": "markdown",
   "metadata": {},
   "source": [
    "## 2. 아이디어 \n",
    "\n",
    "- 규칙을 찾아보았다. 0이던 1이던 연결된 것을 한 덩어리로 생각\n",
    "    - 00011000 , 3덩어리 -> 1번 \n",
    "    - 00110011 , 4덩어리 -> 2번\n",
    "    - 0011001100, 5덩어리 -> 2번\n",
    "    - 001100110011, 6덩어리 -> 3번\n",
    "    - 00110011001100, 7덩어리 -> 3번 \n",
    "- 관계는 덩어리 수의 몫\n",
    "- 덩어리 수 : i, i+1 같은지 확인, 다르면 cnt 상승\n",
    "- 답은 덩어리수 // 2"
   ]
  },
  {
   "cell_type": "markdown",
   "metadata": {},
   "source": [
    "## 3-1. 예제 코드 1 (my version)"
   ]
  },
  {
   "cell_type": "code",
   "execution_count": 5,
   "metadata": {},
   "outputs": [
    {
     "name": "stdout",
     "output_type": "stream",
     "text": [
      "00110011001100\n",
      "3\n"
     ]
    }
   ],
   "source": [
    "# 입력\n",
    "nums = list(map(int, input()))\n",
    "# 덩어리 수 확인 , 덩어리수는 바뀌는 회수 + 1\n",
    "cnt = 1\n",
    "for i in range(len(nums)-1):\n",
    "    if nums[i] != nums[i+1]:  # 직전, 직후가 다르면, 덩어리 수 증가\n",
    "        cnt += 1\n",
    "\n",
    "print(cnt//2)"
   ]
  },
  {
   "cell_type": "markdown",
   "metadata": {},
   "source": [
    "## 3-2. 예제 코드 2 (저자 version)\n",
    "- 저자는 경우의 수를 모두 1로 바꾸는 경우, 모두 0으로 바꾸는 경우 두가지로 생각하고, \n",
    "- 두 경우에 대해서 각각 if 문으로 count를 한 후, \n",
    "- 그 두 경우 중 더 작은 것을 구하는 방법을 사용 했다."
   ]
  },
  {
   "cell_type": "code",
   "execution_count": 7,
   "metadata": {},
   "outputs": [
    {
     "name": "stdout",
     "output_type": "stream",
     "text": [
      "0011001100\n",
      "2\n"
     ]
    }
   ],
   "source": [
    "# 입력 \n",
    "nums = list(map(int, input()))\n",
    "\n",
    "# count 초기화\n",
    "count_0 = 0  # 모두 0으로 바꾸는 경우\n",
    "count_1 = 0  # 모두 1로 바꾸는 경우\n",
    "\n",
    "## 연산의 기준은 바꿀 횟수 \n",
    "# 첫번째 값 \n",
    "if nums[0] == 1: # 1이면 count_0 상승\n",
    "    count_0 += 1\n",
    "else :\n",
    "    count_1 += 1\n",
    "    \n",
    "# 두번째값 이후\n",
    "for i in range(len(nums)-1):\n",
    "    if nums[i] != nums[i+1]:  # 덩어리가 바뀌면\n",
    "        if nums[i+1] == 1:    # 1이면 , 0으로 바꾸는 회수 증가 \n",
    "            count_0 += 1\n",
    "            \n",
    "        else : \n",
    "            count_1 += 1      # 0이면, 1로 바꾸는 회수 증가\n",
    "            \n",
    "print(min(count_0, count_1))  # 둘 중 최소값"
   ]
  },
  {
   "cell_type": "markdown",
   "metadata": {},
   "source": [
    "## 4. 배운점\n",
    "- 모두 0으로 바꾸고, 모두 1로 바꾸는 것을 동시에 행하고, 최소값을 구한다는 저자와 같은 생각은 못했다. \n",
    "- 덩어리가 바뀐다는 것이 i, i+1를 확인하는 것임을 다시 한번 상기할 수 있었다. "
   ]
  },
  {
   "cell_type": "markdown",
   "metadata": {},
   "source": [
    "## 참조\n",
    "- 이것이 취업을 위한 코딩테스트다. with 파이썬"
   ]
  }
 ],
 "metadata": {
  "kernelspec": {
   "display_name": "Python 3",
   "language": "python",
   "name": "python3"
  },
  "language_info": {
   "codemirror_mode": {
    "name": "ipython",
    "version": 3
   },
   "file_extension": ".py",
   "mimetype": "text/x-python",
   "name": "python",
   "nbconvert_exporter": "python",
   "pygments_lexer": "ipython3",
   "version": "3.8.3"
  }
 },
 "nbformat": 4,
 "nbformat_minor": 4
}
