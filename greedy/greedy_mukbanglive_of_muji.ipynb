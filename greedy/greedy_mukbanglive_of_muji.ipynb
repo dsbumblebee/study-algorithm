{
 "cells": [
  {
   "cell_type": "markdown",
   "metadata": {},
   "source": [
    "## 1. 문제\n",
    "- food_times 각 음식을 먹는데 걸리는 시간이 리스트로 들어온다.\n",
    "- k , 방송이 종료되는 시간 (k초 이후 방송이 종료된다.)\n",
    "- 방송이 중단된 이후, 복구 되었을 때, 몇 번째 음식부터 다시 먹으면 되는지 구하라.\n",
    "- 만약, 더 섭취해야할 음식이 없다면 -1을 반환하라. "
   ]
  },
  {
   "cell_type": "markdown",
   "metadata": {},
   "source": [
    "## 2.예제코드"
   ]
  },
  {
   "cell_type": "code",
   "execution_count": 9,
   "metadata": {},
   "outputs": [],
   "source": [
    "def solution(food_times, k):\n",
    "    foods = []\n",
    "    n = len(food_times)\n",
    "    for i in range(n):\n",
    "        foods.append((food_times[i], i+1))\n",
    "        \n",
    "    foods.sort()\n",
    "    \n",
    "    pretime = 0 \n",
    "    for i , food in enumerate(foods):\n",
    "        diff = food[0] - pretime\n",
    "        if diff != 0:\n",
    "            spend = diff * n\n",
    "            if spend <= k:\n",
    "                k -= spend\n",
    "                pretime = food[0]\n",
    "                \n",
    "            else :\n",
    "                k %= n\n",
    "                sublist = sorted(foods[i:], key = lambda x : x[1])\n",
    "                return sublist[k][1]\n",
    "            \n",
    "        n -= 1\n",
    "        \n",
    "    return -1 "
   ]
  },
  {
   "cell_type": "code",
   "execution_count": 15,
   "metadata": {},
   "outputs": [],
   "source": [
    "import heapq\n",
    "\n",
    "def solution(food_times, k):\n",
    "\n",
    "    # 전체 음식을 먹는 시간보다 네트워크 지연 시작 시간이 크거나 같다면 더 이상 먹을 음식이 없으므로 -1 출력\n",
    "    if (sum(food_times) <= k):\n",
    "        return -1\n",
    "\n",
    "    # 먹는 시간이 작은 음식부터 제거해야하므로 우선순위 큐를 사용\n",
    "    q = []\n",
    "    # 우선순위 큐에 (소요 시간, 음식 번호) 튜플을 삽입\n",
    "    for i in range(len(food_times)):\n",
    "        heapq.heappush(q, (food_times[i], i+1))\n",
    "\n",
    "    # 이전 음식 섭취까지 소요한 전체 시간\n",
    "    sum_time = 0\n",
    "    # 이전 음식의 섭취 시간\n",
    "    previous_time = 0\n",
    "    # 남은 음식 개수\n",
    "    length = len(food_times)\n",
    "\n",
    "    # [이전 음식 섭취까지 소요한 전체 시간 + 현재 음식을 섭취하기 위해 필요한 시간]이 K보다 커지면, 반복문 종료\n",
    "    # 현재 음식을 섭취하기 위한 시간은, (현재 음식 섭취 시간 - 이전 음식 섭취 시간) * 남은 음식 개수\n",
    "    while (sum_time + ((q[0][0] - previous_time) * length) <= k):\n",
    "        # 현재 음식을 우선순위 큐에서 제거하며, 현재 음식의 섭취 시간을 저장\n",
    "        now_time = heapq.heappop(q)[0]\n",
    "        # 현재 음식을 모두 섭취하기 위해 걸리는 시간을, 음식 섭취에 소요한 전체 시간에 추가\n",
    "        sum_time += (now_time - previous_time) * length\n",
    "        # 남은 음식 개수 감소\n",
    "        length -= 1\n",
    "        # 이전 음식 섭취 시간을 현재 음식 섭취 시간으로 변경\n",
    "        previous_time = now_time\n",
    "\n",
    "    # 반복문 종료 이후에는, K 발생까지 남은 시간을 확인해, K 이후에 섭취할 음식을 결정\n",
    "\n",
    "    # 우선순위큐의 남아있는 요소들을 음식 번호를 기준으로 오름차순 정렬\n",
    "    result = sorted(q, key=lambda x:x[1])\n",
    "\n",
    "    # (K 발생까지 남은 시간 % 남은 음식 개수), 배열의 idx는 0부터 시작하므로 나머지 값을 idx로 사용하면 됨\n",
    "    return result[(k-sum_time) % length][1]"
   ]
  },
  {
   "cell_type": "markdown",
   "metadata": {},
   "source": [
    "## 배운점\n",
    "- 회전을 하면서 먹는다는 개념에서, 정렬을 해서 2차원 도형적으로 접근한다는 것\n",
    "- 남은 것에서 순서를 정할때, 나머지를 활용한다는 점, 그것이 인덱스 0부터 시작하니까, 원래 자리라면 나눈 나머지의 -1이지만, 다음이기 때문에 그냥 그 수를 사용한다는 점\n",
    "- 이것을 heapq로 구현한다는 점\n",
    "- 갱신을 할때, 무엇을 누적할 것인지, 무엇을 제약으로 걸것인지 판단."
   ]
  }
 ],
 "metadata": {
  "kernelspec": {
   "display_name": "Python 3",
   "language": "python",
   "name": "python3"
  },
  "language_info": {
   "codemirror_mode": {
    "name": "ipython",
    "version": 3
   },
   "file_extension": ".py",
   "mimetype": "text/x-python",
   "name": "python",
   "nbconvert_exporter": "python",
   "pygments_lexer": "ipython3",
   "version": "3.8.3"
  }
 },
 "nbformat": 4,
 "nbformat_minor": 4
}
