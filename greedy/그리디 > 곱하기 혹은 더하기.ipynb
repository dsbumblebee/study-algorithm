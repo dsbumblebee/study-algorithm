{
 "cells": [
  {
   "cell_type": "markdown",
   "metadata": {},
   "source": [
    "# 1. 문제 \n",
    "- 0~9로 이루어진 문자열이 들어온다. \n",
    "- 왼쪽부터 오른쪽으로 하나씩 확인하며 '곱하기' 혹은 '더하기' 연산으로 가장 큰 수를 만들라.\n",
    "- 단, 연산은 왼쪽부터 순서대로 진행한다. \n",
    "\n",
    "### 입력조건 \n",
    "- 숫자로 구성된 하나의 문자열 (1<= S <= 20)\n",
    "\n",
    "### 출력 조건\n",
    "- 만들어질 수 있는 가장 큰 수 출력\n",
    "\n",
    "### 입력 예시 \n",
    "```python\n",
    "02984\n",
    "```\n",
    "### 출력 예시\n",
    "```python\n",
    "576\n",
    "```"
   ]
  },
  {
   "cell_type": "markdown",
   "metadata": {},
   "source": [
    "# 2. 아이디어\n",
    "- 첫번째 수는 입력해놓고\n",
    "- 두번째 수부터 더하는 결과와 곱하는 결과 둘중 가장 큰 수로 업데이트 되게 한다. "
   ]
  },
  {
   "cell_type": "markdown",
   "metadata": {},
   "source": [
    "# 3-1. 예제코드1 (직접푼것)"
   ]
  },
  {
   "cell_type": "code",
   "execution_count": 4,
   "metadata": {},
   "outputs": [
    {
     "name": "stdout",
     "output_type": "stream",
     "text": [
      "567\n",
      "210\n"
     ]
    }
   ],
   "source": [
    "# 입력\n",
    "numbers = list(map(int, input()))   \n",
    "\n",
    "# 결과객체 초기화\n",
    "result = numbers[0]    # 첫 숫자 입력\n",
    "\n",
    "# 메인\n",
    "for i in range(0, len(numbers)-1):    # i+1을 사용할 것이므로, 마지막 앞까지만 탐색한다.     \n",
    "    result = max(result+numbers[i+1], result*numbers[i+1])   # 다음수를 더한값과 곱한값 중 더 큰 값으로 결과를 갱신한다. \n",
    "    \n",
    "print(result)"
   ]
  },
  {
   "cell_type": "markdown",
   "metadata": {},
   "source": [
    "# 3-2. 예제코드2 (저자 version)\n",
    "- 저자는 두 수중 하나가 0 또는 1 이면, 더하기 그렇지 않은 경우는 곱하기 연산을 수행하게 했다. "
   ]
  },
  {
   "cell_type": "code",
   "execution_count": 5,
   "metadata": {},
   "outputs": [
    {
     "name": "stdout",
     "output_type": "stream",
     "text": [
      "567\n",
      "210\n"
     ]
    }
   ],
   "source": [
    "# 입력 \n",
    "nums = list(map(int, input()))\n",
    "\n",
    "# 결과 초기화\n",
    "result = nums[0]\n",
    "\n",
    "# 메인\n",
    "for i in range(1, len(nums)):   # 두번째 수부터 끝까지 탐색\n",
    "    if nums[i] <= 1:            # 0, 1이면 더한값을 갱신한다.\n",
    "        result += nums[i]\n",
    "    else :                      # 그렇지 않으면 곱한값을 갱신한다.\n",
    "        result *= nums[i]\n",
    "        \n",
    "print(result)"
   ]
  },
  {
   "cell_type": "markdown",
   "metadata": {},
   "source": [
    "# 4. 배운점\n",
    "- 0을 곱하면 안되겠다 까지는 생각했지만, 1을 더하는 것이 더 낫다는 생각하지 못했다. "
   ]
  },
  {
   "cell_type": "markdown",
   "metadata": {},
   "source": [
    "# 참고\n",
    "- 이것이 취업을 위한 코딩테스트다. with 파이썬"
   ]
  }
 ],
 "metadata": {
  "kernelspec": {
   "display_name": "Python 3",
   "language": "python",
   "name": "python3"
  },
  "language_info": {
   "codemirror_mode": {
    "name": "ipython",
    "version": 3
   },
   "file_extension": ".py",
   "mimetype": "text/x-python",
   "name": "python",
   "nbconvert_exporter": "python",
   "pygments_lexer": "ipython3",
   "version": "3.8.3"
  }
 },
 "nbformat": 4,
 "nbformat_minor": 4
}
