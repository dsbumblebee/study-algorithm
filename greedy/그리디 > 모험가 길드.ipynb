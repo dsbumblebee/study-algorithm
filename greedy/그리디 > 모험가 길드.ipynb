{
 "cells": [
  {
   "cell_type": "markdown",
   "metadata": {},
   "source": [
    "# 1. 문제 \n",
    "- 공포도가 높을수록 공포를 많이 느끼는 사람이다. \n",
    "- X 공포도를 가진 사람은 X 명 이상의 그룹에 속해야 그룹을 형성할 수 있다. \n",
    "- 모험을 떠날 수 있는 최대 그룹수를 구하라 ( 단, 모든 사람이 그룹이 결성이 되지 않아도 된다. ) \n",
    "\n",
    "### 입력 조건 \n",
    "- N 명 , 전체 인원 수 \n",
    "- 모험가의 공포도 간격을 두고 N 개수 만큼 들어온다. \n",
    "    \n",
    "### 출력 조건\n",
    "- 모험을 떠날 수 있는 최대 그룹수를 구하라. \n",
    "\n",
    "### 입력 예시\n",
    "```python\n",
    "5\n",
    "2 2 1 2 3\n",
    "```\n",
    "\n",
    "### 출력 예시\n",
    "```python    \n",
    "2\n",
    "```"
   ]
  },
  {
   "cell_type": "markdown",
   "metadata": {},
   "source": [
    "# 2. 아이디어\n",
    "- 최대 그룹수를 구하라고 했다. 그러려면, 최소한의 인원으로 그룹을 구성해야 한다. \n",
    "- 공포도가 낮은 사람부터 그룹을 형성해 나가야 그룹수가 많아진다. "
   ]
  },
  {
   "cell_type": "markdown",
   "metadata": {},
   "source": [
    "# 3. 예제코드"
   ]
  },
  {
   "cell_type": "code",
   "execution_count": 1,
   "metadata": {},
   "outputs": [
    {
     "name": "stdout",
     "output_type": "stream",
     "text": [
      "5\n",
      "2 3 4 2 1\n",
      "2\n"
     ]
    }
   ],
   "source": [
    "# 입력\n",
    "N = int(input())\n",
    "people = list(map(int, input().split()))\n",
    "\n",
    "# 길드원 공포도 오름차순 정렬\n",
    "people.sort()\n",
    "\n",
    "# 결과값 및 인원수 측정 객체 초기화\n",
    "result = 0    # 그룹수\n",
    "count = 0     # 그룹의 인원수\n",
    "\n",
    "# 메인\n",
    "for panic in people:\n",
    "    count += 1 # 그룹인원 추가\n",
    "    if count >= panic: # 인원의 공포도가 그룹의 인원수보다 적으면,\n",
    "        result += 1    # 그룹을 형성한다. \n",
    "        count = 0      # 인원수를 다시 초기화 한다. \n",
    "        \n",
    "print(result)"
   ]
  },
  {
   "cell_type": "markdown",
   "metadata": {},
   "source": [
    "## 어려웠던 점\n",
    "- 문제부터 이해가 안됬었다. 공포도 x 이상인 사람은 x 명 이상인 그룹에 참여 해야한다.. 뭔소리지? 이랬다.\n",
    "- 인원수를 올리고, 그룹을 형성하고, 인원수를 초기화 하는 과정을 생각해내는 것도 구현하는 것도 어려웠다. "
   ]
  },
  {
   "cell_type": "markdown",
   "metadata": {},
   "source": [
    "### 참고\n",
    "- 이것이 취업을 위한 코딩테스트다.\n",
    "- 우노님 블로그 : https://wooono.tistory.com/539 "
   ]
  }
 ],
 "metadata": {
  "kernelspec": {
   "display_name": "Python 3",
   "language": "python",
   "name": "python3"
  },
  "language_info": {
   "codemirror_mode": {
    "name": "ipython",
    "version": 3
   },
   "file_extension": ".py",
   "mimetype": "text/x-python",
   "name": "python",
   "nbconvert_exporter": "python",
   "pygments_lexer": "ipython3",
   "version": "3.8.3"
  }
 },
 "nbformat": 4,
 "nbformat_minor": 4
}
