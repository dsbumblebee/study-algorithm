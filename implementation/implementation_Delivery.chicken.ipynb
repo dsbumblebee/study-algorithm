{
 "cells": [
  {
   "cell_type": "markdown",
   "metadata": {},
   "source": [
    "## 1. 문제"
   ]
  },
  {
   "cell_type": "markdown",
   "metadata": {},
   "source": [
    "- 백준 15686과 동일 \n",
    "    - 링크 : https://www.acmicpc.net/problem/15686\n",
    "- N * N 도시가 빈칸, 치킨집, 집으로 구성되어 있다.\n",
    "- 도시, (r, c) 행, 열 , 1부터 시작\n",
    "- 치킨거리 : 집과 가장 가까운 치킨집 사이의 거리 \n",
    "    - 도시의 치킨거리는 모든 집의 치킨거리의 합\n",
    "    - 거리는 r1 - r2 , c1 - c2 의 절대값으로 거리를 구한다. \n",
    "- 지도 표시 방법 : 0 빈칸, 1 집, 2 치킨집\n",
    "\n",
    "- 목적\n",
    "    - 도시의 치킨거리가 가장 작게되 치킨집 M개를 남기고 싶다.\n",
    "\n",
    "- 입력\n",
    "    - N 지도 크기 1 <= N <=50 , M은 치킨집의 수 1<= M <= 13\n",
    "    - 도시 정보 \n",
    "    - 집의 개수는 2N개 이하, 적어도 1개 존재\n",
    "    \n",
    "- 출력\n",
    "    - 도시의 치킨 거리의 최소값\n",
    "    "
   ]
  },
  {
   "cell_type": "markdown",
   "metadata": {},
   "source": [
    "## 2. 아이디어 \n",
    "- 13개 중 M개를 고르는 조합이므로, 10만개 이하의 경우의 수이므로, combinations로 완전탐색해도 시간초과 나지 않을 것이다. \n",
    "- 지도에서 집과 치킨집의 좌표를 모은다.\n",
    "- 치킨집을 M개로 구성된 조합의 경우마다, 모든 집까지의 거리를 구하고 그 중 최소값을 구한다. \n",
    "- 치키집의 조합은 combinations를 이용해서 구한다. "
   ]
  },
  {
   "cell_type": "markdown",
   "metadata": {},
   "source": [
    "## 3. 예제코드"
   ]
  },
  {
   "cell_type": "code",
   "execution_count": 60,
   "metadata": {},
   "outputs": [
    {
     "name": "stdout",
     "output_type": "stream",
     "text": [
      "5 3\n",
      "0 0 1 0 0\n",
      "0 0 2 0 1\n",
      "0 1 2 0 0\n",
      "0 0 1 0 0\n",
      "0 0 0 0 2\n",
      "5\n"
     ]
    }
   ],
   "source": [
    "# 조합별 최소거리 측정 함수\n",
    "def cal_distance(candidate):\n",
    "    result = 0\n",
    "    for x1, y1 in house :\n",
    "        temp = 1e9\n",
    "        for x2, y2 in candidate:\n",
    "            temp = min(temp, (abs(x1-x2)+ abs(y1-y2)))\n",
    "        result+=temp\n",
    "    return result\n",
    "\n",
    "# 입력 \n",
    "n, m = map(int, input().split())\n",
    "maps = [list(map(int, input().split())) for _ in range(n)]\n",
    "\n",
    "# 집, 치킨집 좌표 모으기\n",
    "house = []\n",
    "chichen = []\n",
    "for i in range(n):\n",
    "    for j in range(n):\n",
    "        if maps[i][j] == 1:\n",
    "            house.append((i,j))\n",
    "        elif maps[i][j] == 2:\n",
    "            chichen.append((i,j))\n",
    "# 치킨집 조합 생성\n",
    "from itertools import combinations\n",
    "candidates = list(combinations(chichen, m))\n",
    "\n",
    "# 최적거리\n",
    "opt = 1e9\n",
    "for candi in candidates:\n",
    "    opt = min(opt, cal_distance(candi))\n",
    "print(opt)\n",
    "    \n",
    "        "
   ]
  },
  {
   "cell_type": "markdown",
   "metadata": {},
   "source": [
    "## 4. 배운점\n",
    "- abs, combinations 다시 한번 상기할 수 있었다.\n",
    "- for문 헷갈리면 천천히 하나씩 꺼내보자."
   ]
  }
 ],
 "metadata": {
  "kernelspec": {
   "display_name": "Python 3",
   "language": "python",
   "name": "python3"
  },
  "language_info": {
   "codemirror_mode": {
    "name": "ipython",
    "version": 3
   },
   "file_extension": ".py",
   "mimetype": "text/x-python",
   "name": "python",
   "nbconvert_exporter": "python",
   "pygments_lexer": "ipython3",
   "version": "3.8.3"
  }
 },
 "nbformat": 4,
 "nbformat_minor": 4
}
