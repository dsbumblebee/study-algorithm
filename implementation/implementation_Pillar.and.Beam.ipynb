{
 "cells": [
  {
   "cell_type": "markdown",
   "metadata": {},
   "source": [
    "## 1. 문제\n",
    "- 프로그래머스 문제와 동일 \n",
    "    - 링크 : https://school.programmers.co.kr/learn/courses/30/lessons/60061\n",
    "- 조건에 맞게 건물을 지을 수 있는지 시뮬레이션할 수 있는 프로그램을 만들기\n",
    "- 조건\n",
    "    - 기둥은 바닥위에 있거나, 보의 한쪽 끝 부분 위에 있거나, 또는 다른 기둥 위에 있어야 한다. \n",
    "    - 보는 한쪽 끝 부분이 기둥 위에 있거나, 또는 양쪽 끝 부분이 다른 보와 동시에 연결되어 있어야 한다. \n",
    "    "
   ]
  },
  {
   "cell_type": "markdown",
   "metadata": {},
   "source": [
    "## 2. 아이디어\n",
    "- 문제 조건에 맞게 구현하면 된다.\n",
    "- 순차적으로 작업을 하나씩 진행하면서 (설치하거나 제거하면서), 그때마다 조건에 맞는지 확인한다."
   ]
  },
  {
   "cell_type": "markdown",
   "metadata": {},
   "source": [
    "## 3. 예제코드"
   ]
  },
  {
   "cell_type": "code",
   "execution_count": null,
   "metadata": {},
   "outputs": [],
   "source": [
    "def is_possible(result):\n",
    "        # 설치 가능 여부 \n",
    "        # 기둥, 보, \n",
    "        # 기둥은, 바닥에 있거나, 보의 한쪽 끝부분 위에 있거나, 다른 기둥 위에 있거나\n",
    "        # 보는 한쪽 끝 부분이 기둥 위에 있거나, 또는 양쪽 끝 부분이 다른 보와 동시에 연결\n",
    "        for x,y, stuff in result:\n",
    "            if stuff == 0 : # 기둥이면,\n",
    "                if y == 0 or [x-1,y,1] in result or \\\n",
    "                [x,y,1] in result or [x,y-1,0] in result:\n",
    "                    continue \n",
    "                return False\n",
    "            elif stuff == 1 : # 보이면,\n",
    "                if [x, y-1, 0] in result or [x+1, y-1, 0] in result or\\\n",
    "                ([x-1, y, 1] in result and [x+1,y,1] in result) :\n",
    "                    continue\n",
    "                return False\n",
    "        return True\n",
    "\n",
    "def solution(n, build_frame):\n",
    "    # 설치 or 제거 \n",
    "    # 설치면 설치하고, 테스트하고, 아니면 제거하고\n",
    "    answer = []\n",
    "    for x,y,stuff,setup in build_frame:\n",
    "        if setup == 1: # 설치면\n",
    "            answer.append([x,y,stuff])  # 설치하고\n",
    "            if not is_possible(answer) :  # 가능하지 않으면, \n",
    "                answer.remove([x,y,stuff])\n",
    "                    \n",
    "    # 제거면, 제거하고, 테스트하고, 아니면 다시붙이고\n",
    "        if setup == 0 : # 제거면 \n",
    "            answer.remove([x,y,stuff])  # 제거하고\n",
    "            if not is_possible(answer):\n",
    "                answer.append([x,y,stuff])\n",
    "    return sorted(answer)"
   ]
  },
  {
   "cell_type": "markdown",
   "metadata": {},
   "source": [
    "## 4. 배운점\n",
    "- 리스트안에 요소가 있는지 확인하는 것과 remove를 다시 상기할 수 있었다. "
   ]
  }
 ],
 "metadata": {
  "kernelspec": {
   "display_name": "Python 3",
   "language": "python",
   "name": "python3"
  },
  "language_info": {
   "codemirror_mode": {
    "name": "ipython",
    "version": 3
   },
   "file_extension": ".py",
   "mimetype": "text/x-python",
   "name": "python",
   "nbconvert_exporter": "python",
   "pygments_lexer": "ipython3",
   "version": "3.8.3"
  }
 },
 "nbformat": 4,
 "nbformat_minor": 4
}
