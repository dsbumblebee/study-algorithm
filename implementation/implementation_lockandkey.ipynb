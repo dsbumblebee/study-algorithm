{
 "cells": [
  {
   "cell_type": "code",
   "execution_count": null,
   "metadata": {},
   "outputs": [],
   "source": []
  },
  {
   "cell_type": "markdown",
   "metadata": {},
   "source": [
    "## 1. 문제\n",
    "- 프로그래머스 문제 \n",
    "    - 링크 : https://school.programmers.co.kr/learn/courses/30/lessons/60059\n",
    "- N x N 자물쇠가 있고, M x M 의 열쇠가 있다.\n",
    "- 좌물쇠도 0, 1, 열쇠도 0, 1로 이루어져 있다.\n",
    "- 열쇠는 회전과 수평, 수직 이동이 가능하다. \n",
    "- 회전, 수평, 수직 이동으로 좌물쇠의 홈에, 열쇠의 돌기만 맞추어야 한다. \n",
    "- 돌기와 돌기가 맞으면 안된다. \n",
    "- 자물쇠를 열수 있으면 True, 열수 없으면 False 를 반환하는 프로그램을 만들라. "
   ]
  },
  {
   "cell_type": "markdown",
   "metadata": {},
   "source": [
    "## 2. 아이디어\n",
    "- 효율성을 따지지 않기 때문에 완전탐색 방법을 사용한다. \n",
    "- 자물쇠 2차원 리스트를 3배 크기로 크게 만들어서 열쇠를 한칸씩 오른쪽 아래로 이동시키면서 차례차례 열쇠가 맞는지 확인한다. \n",
    "- 90도 회전, 열쇠가 맞았는지 확인하는 함수를 만든다.\n",
    "- 열쇠 2차원 리스트를 왼쪽 최상단에서, 오른쪽 최하단까지 한칸씩 이동시키면서, 자물쇠에 더한다. \n",
    "- 자물쇠 리스트의 모든 부분이 1인지 확인한다. \n",
    "- 아니면, 다시 열쇠를 제거한다. (더했던 것을 다시 뺀다.)"
   ]
  },
  {
   "cell_type": "markdown",
   "metadata": {},
   "source": [
    "## 3. 예제코드"
   ]
  },
  {
   "cell_type": "code",
   "execution_count": null,
   "metadata": {},
   "outputs": [],
   "source": [
    "# 2차원 리스트 회전\n",
    "def rotate_a_matrix_by_90_degree(a):\n",
    "    n = len(a)  # 행 길이\n",
    "    m = len(a[0])  # 열 길이\n",
    "    result = [[0] * n for _ in range(m)]   # 결과 리스트 \n",
    "    for i in range(n):                     # 세로\n",
    "        for j in range(m):                 # 가로 \n",
    "            result[j][n - i - 1] = a[i][j] \n",
    "            # 가로 정보는 그대로 세로로 가져오고, 세로정보는 행의 길이에서 행의 정보를 빼고 1을 더빼서 가져온다. \n",
    "            \n",
    "    return result\n",
    "    \n",
    "# 자물쇠의 중간 부분이 모두 1인지 확인\n",
    "def check(new_lock):\n",
    "    lock_length = len(new_lock)//3         # 자물쇠를 세배 크게 만들었으니까 , 다시 줄여서 \n",
    "    for i in range(lock_length, lock_length *2):       # 중심부를 탐색\n",
    "        for j in range(lock_length, lock_length *2):\n",
    "            if new_lock[i][j] != 1:                    # 1인지 확인 , 아니면, False\n",
    "                return False\n",
    "    return True          # 모두 탐색했는데, 문제없으면 True\n",
    "\n",
    "\n",
    "def solution(key, lock):\n",
    "    n = len(lock)\n",
    "    m = len(key)\n",
    "    # 자물쇠의 크기를 기존의 3배로 변환\n",
    "    new_lock = [[0]*(n*3) for _ in range(n*3)]\n",
    "    # 새로운 자물쇠의 중앙 부분에 기존의 자물쇠 넣기\n",
    "    for i in range(n):\n",
    "        for j in range(n):\n",
    "            new_lock[i+n][j+n] = lock[i][j]\n",
    "            \n",
    "            \n",
    "    # 4가지 방향에 대해서 확인\n",
    "    for rotation in range(4):\n",
    "        key = rotate_a_matrix_by_90_degree(key)  # 열쇠 회전\n",
    "        for x in range(n*2):\n",
    "            for y in range(n*2): # 자물쇠에 열쇠를 끼워 넣기\n",
    "                \n",
    "                for i in range(m):\n",
    "                    for j in range(m):\n",
    "                        new_lock[x+i][y+j] += key[i][j] ###** 이부분!!\n",
    "                        \n",
    "                # 새로운 자물쇠에 열쇠가 정확히 들어맞는지 검사\n",
    "                if check(new_lock) == True:\n",
    "                    return True\n",
    "                # 자물쇠에서 열쇠를 다시 빼기\n",
    "                for i in range(m):\n",
    "                    for j in range(m):\n",
    "                        new_lock[x+i][y+j] -= key[i][j]\n",
    "                        \n",
    "    return False  # 모두 탐색했는데, 열쇠가 안맞으면 "
   ]
  },
  {
   "cell_type": "markdown",
   "metadata": {},
   "source": [
    "## 배운점\n",
    "- 2차원 리스트 위에 2차원 리스트를 포개면 어떻게 되는가에 대해서 배웠다.\n",
    "- 2차원 리스트를 자다가 바로 일어나서도 가지고 놀줄 알아야 한다. \n",
    "- 키 넣고 빼는 부분 조심\n",
    "- 2차원 리스트 회전은 그림을 그려서 확인 해보라."
   ]
  },
  {
   "cell_type": "markdown",
   "metadata": {},
   "source": [
    "## 참고\n",
    "- 이것이 취업을 위한 코딩 테스트다. with 파이썬"
   ]
  },
  {
   "cell_type": "code",
   "execution_count": null,
   "metadata": {},
   "outputs": [],
   "source": []
  }
 ],
 "metadata": {
  "kernelspec": {
   "display_name": "Python 3",
   "language": "python",
   "name": "python3"
  },
  "language_info": {
   "codemirror_mode": {
    "name": "ipython",
    "version": 3
   },
   "file_extension": ".py",
   "mimetype": "text/x-python",
   "name": "python",
   "nbconvert_exporter": "python",
   "pygments_lexer": "ipython3",
   "version": "3.8.3"
  }
 },
 "nbformat": 4,
 "nbformat_minor": 4
}
