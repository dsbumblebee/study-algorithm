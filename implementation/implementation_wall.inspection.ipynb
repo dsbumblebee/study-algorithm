{
 "cells": [
  {
   "cell_type": "markdown",
   "metadata": {},
   "source": [
    "## 1. 문제\n",
    "- 프로그래머스 문제와 동일 \n",
    "    - 링크 : https://programmers.co.kr/learn/courses/30/lessons/60062\n",
    "- 외벽\n",
    "    - 동그란 모양, 둘레는 n, 취약지점이 있다. \n",
    "- 점검시간은 1시간 \n",
    "    - 친구들 1시간 이동거리는 제각각\n",
    "- 최소한 친구들 투입하여 취약지점 점검, 나머지 친구들 내부 공사\n",
    "- 레스토랑 정북 방향 지점을 0 \n",
    "- 취약 지점의 위치는 정북 방향 지점으로부터 시계 방향으로 떨어진 거리로 나타낸다. \n",
    "- 친구들은 시계 혹은 반시계 방향으로 외벽을 따라서만 이동\n",
    "- 입력\n",
    "    - 외벽의 길이 n, 취약 지점의 위치가 담긴 배열 weak, 친구가 1시간 동안 이동할 수 있는 거리 dist\n",
    "\n",
    "- 출력\n",
    "    - 취약 지점을 점검하기 위해 보내야 하는 친구 수의 최소값 \n",
    "    \n",
    "   \n",
    "- 제한 \n",
    "    - n 은 1 <= n <= 200\n",
    "    - weak 는  1<= weak <=15\n",
    "        - 취약점이 위치가 같은 경우는 없다.\n",
    "        - 취약 지점의 위치는 오름차순 정렬\n",
    "        - weak는 0 이상 n-1이하인 정수 \n",
    "    - dist 는 1<= dist <=8\n",
    "        - 원소는 1 <= dist <=100\n",
    "    - 친구들을 모두 투입해도 전부 점검할 수 없는 경우 -1 \n",
    "    "
   ]
  },
  {
   "cell_type": "markdown",
   "metadata": {},
   "source": [
    "## 2. 아이디어\n",
    "- 원형을 선형으로 바꾸어준다. 두배로 늘리면, 원래 순서의 맨 마지막부터 탐색해도 두배로 늘린 리스트의 끝까지는 갈 수 없으니 탐색이 가능하다. (대체 이런건 어떻게 생각할까?)\n",
    "- 친구들을 순열로 줄을 세운 경우를 탐색하는데, 친구가 모든 점검부위를 못보면 더 투입한다. (말은 참 쉽다.)\n",
    "    - 모든 지점에서 출발을 하는데,\n",
    "        - 친구의 순서 경우 마다\n",
    "            - 한친구가 커버 못하면, 더 넣어보고, 친구수를 넘으면 탐색을 그만하고,\n",
    "            - 친구 더 넣어서 커버가능하면 친구수를 구한다. \n"
   ]
  },
  {
   "cell_type": "markdown",
   "metadata": {},
   "source": [
    "## 3. 예제코드"
   ]
  },
  {
   "cell_type": "code",
   "execution_count": null,
   "metadata": {},
   "outputs": [],
   "source": [
    "from itertools import permutations\n",
    "def solution(n, weak, dist):\n",
    "    # 취약점의 길이를 2배로 늘려서 원형을 일자 형태로 변경한다.\n",
    "    length = len(weak)  # 취약점의 길이\n",
    "    # 취약점 길이 연장, 직선의 좌표처럼 활용\n",
    "    weak = weak + [w + n for w in weak]  # 리스트 컴프리헨션 연습\n",
    "    # 정답 초기화 , 최소값 구하는 중이니까, 가장큰수보다 더크게\n",
    "    answer = len(dist) + 1\n",
    "    # 탐색\n",
    "    for start in range(length): # 모든 시작지점에서 출발시켜봐야 하니까\n",
    "        # 모든 친구들의 순열의 경우 탐색 , 친구들이 어떤 순서로 나가는가 (근데 큰 순서로 나가는게 더 빠르지 않나?)\n",
    "        for friends in list(permutations(dist, len(dist))):  \n",
    "            count = 1  # 친구리스트에서 친구 뽑아낼 인덱스로 사용 (이런게 어려움)\n",
    "            # 친구 투입 판단 기준, 한 친구가 커버 가능한 위치 (결점 한곳에서 출발해서 이동한 위치 (위에 이중 for문으로 생각하면 머리가 빙빙돔) )\n",
    "            position = weak[start] + friends[count-1]   \n",
    "            # 친구 몇 명 넣을지 보는 판단 \n",
    "            # 취약지점 확인 (친구가 투입되는 위치부터 전체 취약지점을 본다. 인덱스로 위치를 확인하고, 판단기준보다 큰지 확인)\n",
    "            for index in range(start, start + length):  # 이중 for문 바깥의 돌리는 숫자 가져와서 또 사용하는 것, 이것도 어려움. \n",
    "                if position < weak[index] : # 모든 취약지점 중 하나라도 한 친구가 커버가능한 범위를 벗어나면\n",
    "                    count += 1   # 새로운 친구를 투입한다.\n",
    "                    if count > len(dist): # 새로운 친구 투입수가 원래 친구수보다 많으면, 취약지점 확인이 안되는 거니까, 취약지점 확인 for문을 나간다.\n",
    "                        break\n",
    "                    # 친구 투입에 문제가 없다면 (원래 친구수 안에서 투입가능하면)\n",
    "                    # 한친구로 커버 안되는 취약지점의 위치에서 추가로 투입한 친구의 커버 가능범위를 더해서 커버가능한 범위를 갱신\n",
    "                    position = weak[index] + friends[count-1]\n",
    "            # 정답 갱신 : 모든 친구의 순열 경우 마다 최소값 갱신 \n",
    "            answer = min(answer, count) \n",
    "            \n",
    "    if answer > len(dist):  # 정답이 친구수를 넘어갔으면 , -1 \n",
    "        return -1 \n",
    "    return answer # 그렇지 않으면, 정답  "
   ]
  },
  {
   "cell_type": "markdown",
   "metadata": {},
   "source": [
    "## 4. 느낀점\n",
    "- 왜 이렇게 어렵지? 싶어서 카카오 테크블로그에 들어가보니, 정답율 0.6%, 100명 풀면 1명도 못푼다. 너무 낙심말자. \n",
    "    - 카카오 테크블로그 코딩테스트 해설집 링크 : https://tech.kakao.com/2019/10/02/kakao-blind-recruitment-2020-round1/\n",
    "- 다시 문제풀이를 순서대로 떠올리기조차 어렵다. \n",
    "- 읽고, 쓰고 하다보면 언젠가 생각해낼 수 있으려나."
   ]
  },
  {
   "cell_type": "markdown",
   "metadata": {},
   "source": [
    "## 참고\n",
    "- 이것이 취업을 위한 코딩테스트다. with 파이썬"
   ]
  }
 ],
 "metadata": {
  "kernelspec": {
   "display_name": "Python 3",
   "language": "python",
   "name": "python3"
  },
  "language_info": {
   "codemirror_mode": {
    "name": "ipython",
    "version": 3
   },
   "file_extension": ".py",
   "mimetype": "text/x-python",
   "name": "python",
   "nbconvert_exporter": "python",
   "pygments_lexer": "ipython3",
   "version": "3.8.3"
  }
 },
 "nbformat": 4,
 "nbformat_minor": 4
}
