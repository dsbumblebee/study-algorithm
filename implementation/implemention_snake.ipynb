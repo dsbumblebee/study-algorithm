{
 "cells": [
  {
   "cell_type": "markdown",
   "metadata": {},
   "source": [
    "## 1. 문제 \n",
    "- 백준 3190과 동일함 \n",
    "    - 링크 : https://www.acmicpc.net/problem/3190\n",
    "- 사과의 위치와 뱀의 이동경로가 주어질 때, 이 게임이 몇 초에 끝나는지 계산하라.\n",
    "- 시작할때 뱀은 맨위 맨좌측에 위치하고 뱀의 길이는 1, 처음에 오른쪽을 향한다. \n",
    "\n",
    "- 보드의 크기 N\n",
    "- 사과의 개수 K\n",
    "- 사과의 위치 ( 행, 열 ) , 위치는 모두 다르며, 1행1열 맨 위 맨 좌측에는 사과가 없다. \n",
    "- 뱀의 방향 변환 횟수 L \n",
    "- 정수 X, 문자 C : X초가 끝난 뒤에 왼쪽 L 또는 오른쪽 D로 90도 방향을 회전시킨다. X는 10000 이하의 양의 정수, 방향 전환 정보는 X가 증가하는 순으로 주어진다. \n",
    "\n",
    "- 게임이 몇 초에 끝나는지 출력하라. "
   ]
  },
  {
   "cell_type": "markdown",
   "metadata": {},
   "source": [
    "## 2. 아이디어 \n",
    "- 못풀어서, 문제의 지시를 차근차근 따라한다라는 답안을 리뷰해봤다. \n",
    "- 뱀이 벽을 부딪히는지, 자신에게 부딪히는지 확인하면서, 맵을 지나간다, 사과를 먹는다, 회전을 한다를 구현해야한다. "
   ]
  },
  {
   "cell_type": "markdown",
   "metadata": {},
   "source": [
    "## 3. 예제코드"
   ]
  },
  {
   "cell_type": "code",
   "execution_count": null,
   "metadata": {},
   "outputs": [],
   "source": [
    "## 데이터 입력 (판 그리기 , 사과 입력하기 )\n",
    "# 보드 0 으로 이루어지고 \n",
    "# 사과는 1로 두고 , 뱀은 2로 둔다. \n",
    "n = int(input())   # 보드크기\n",
    "k = int(input())   # 사과의 수\n",
    "data = [[0]* (n+1) for _ in range(n+1)]   # 기준이 1,1 이니까\n",
    "\n",
    "for _ in range(k):\n",
    "    a, b = map(int, input().split())\n",
    "    data[a][b] = 1   # 맵에 사과 입력 \n",
    "\n",
    "# 방향정보 입력 \n",
    "info = []  # 방향 전환정보\n",
    "l = int(input())\n",
    "for _ in range(l):\n",
    "    x, c = input().split()\n",
    "    info.append((int(x), c))\n",
    "    \n",
    "# 방향 회전 함수 , 시계 방향으로 , 인덱스가 + 되면 동쪽으로 회전, -면 서쪽으로 회전\n",
    "dx = [0, 1, 0 , -1]  # 처음 위치 동쪽, 동 남 서 북 순서 # dx가 y축이다. \n",
    "dy = [1, 0, -1, 0]\n",
    "\n",
    "def turn(direction, c):  # 현재방향과, 방향 전환 문자 가 매개변수로 들어온다.\n",
    "    if c == \"L\":     # 왼쪽 회전 \n",
    "        direction = (direction - 1)%4  # 나머지를 구하면, 무슨 값이든 0~3까지\n",
    "    else:\n",
    "        direction = (direction + 1)%4  # direction은 dx, dy의 인덱스 역할\n",
    "    return direction\n",
    "    \n",
    "## 시뮬레이션 함수 \n",
    "def simulate():\n",
    "    # 변수, 초기화 \n",
    "    x, y = 1,1  # 시작점 , 캐릭터, x, y \n",
    "    data[x][y] = 2   # 뱀의 존재를 맵에 표시\n",
    "    direction = 0    # 처음 동쪽 방향을 0을 한다. direction은 인덱스니까\n",
    "    time = 0         # 처음 시간 초기화\n",
    "    index = 0        # 다음 회전 정보 , info의 인덱스로 사용한다. 차례차례 회전진행\n",
    "    q = [(x,y)]      # 뱀, 큐 자료구조로 , 지나가면 map을 0으로 바꿔주기 위해서\n",
    "    \n",
    "    # 시뮬레이션 본격 시작 \n",
    "    while True: \n",
    "        nx = x + dx[direction]    # 이동 준비, 다음 갈 좌표 \n",
    "        ny = y + dy[direction]\n",
    "        \n",
    "        if 1<= nx and nx <= n and 1 <=ny and ny <=n and data[nx][ny] !=2:\n",
    "            if data[nx][ny] == 0:   # 사과 없으면\n",
    "                data[nx][ny] = 2    # 이동\n",
    "                q.append((nx,ny))   # 뱀 머리 업데이트 \n",
    "                px, py = q.pop(0)   # 꼬리 떼낸다. \n",
    "                data[px][py] = 0    # 꼬리 맵에서 지워준다. \n",
    "                \n",
    "            if data[nx][ny] == 1:   # 사과가 있으면\n",
    "                data[nx][ny] = 2    # 이동하고\n",
    "                q.append((nx,ny))   # 머리 업데이트하고, 꼬리는 안띈다. \n",
    "                \n",
    "        else : # 부딪히면 \n",
    "            time += 1  # 아직 안갔으니까 nx , ny가 실현되야 가는 거니까.\n",
    "            break   \n",
    "            \n",
    "        x, y = nx, ny  # 이게 진짜 실현 \n",
    "        time += 1 \n",
    "        \n",
    "        if index < l and info[index][0] == time :  # 회전할 시간인지 확인\n",
    "            direction = turn(direction, info[index][1])\n",
    "            index += 1    # 받은 회전 중 몇번 했는지 \n",
    "    return time \n",
    "\n",
    "print(simulate())\n"
   ]
  },
  {
   "cell_type": "markdown",
   "metadata": {},
   "source": [
    "## 배운점\n",
    "- 뱀이동 시키는 법, 2차원 리스트상에서 캐릭터를 회전시키는 방법"
   ]
  },
  {
   "cell_type": "markdown",
   "metadata": {},
   "source": [
    "## 참조\n",
    "- 이것이 취업을 위한 코딩테스트다. with 파이썬"
   ]
  }
 ],
 "metadata": {
  "kernelspec": {
   "display_name": "Python 3",
   "language": "python",
   "name": "python3"
  },
  "language_info": {
   "codemirror_mode": {
    "name": "ipython",
    "version": 3
   },
   "file_extension": ".py",
   "mimetype": "text/x-python",
   "name": "python",
   "nbconvert_exporter": "python",
   "pygments_lexer": "ipython3",
   "version": "3.8.3"
  }
 },
 "nbformat": 4,
 "nbformat_minor": 4
}
