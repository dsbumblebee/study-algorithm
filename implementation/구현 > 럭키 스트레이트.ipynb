{
 "cells": [
  {
   "cell_type": "code",
   "execution_count": null,
   "metadata": {},
   "outputs": [],
   "source": []
  },
  {
   "cell_type": "markdown",
   "metadata": {},
   "source": [
    "## 1. 문제\n",
    "- 백준 18406과 같은 문제 (https://www.acmicpc.net/problem/18406)\n",
    "- 숫자로된 문자열이 들어온다. \n",
    "- 자리수를 기준으로 왼쪽 숫자의 합, 오른쪽 숫자의 합이 같으면 LUCKY, 아니면 READY를 출력하는 프로그램을 만들라.\n",
    "\n",
    "### 입력 조건 \n",
    "- N : 정수 (10 <= N <= 99999999) , 자리수는 항상 짝수 형태\n",
    "\n",
    "### 출력 조건\n",
    "- 럭키스트레이트가 사용가능하면 , LUCKY 출력\n",
    "- 불가능하면, READY 출력\n",
    "\n",
    "### 입력 예시\n",
    "```python\n",
    "123402\n",
    "```\n",
    "\n",
    "### 출력 예시\n",
    "```python\n",
    "'LUCKY'\n",
    "```"
   ]
  },
  {
   "cell_type": "markdown",
   "metadata": {},
   "source": [
    "## 2. 아이디어 \n",
    "- 들어온 문자열의 길이를 측정해서\n",
    "- 절반까지 탐색하면서 더하여 저장, 나머지 절반을 탐색하면서 저장\n",
    "- 둘을 비교하여 결과를 출력한다. "
   ]
  },
  {
   "cell_type": "markdown",
   "metadata": {},
   "source": [
    "## 3. 예제코드"
   ]
  },
  {
   "cell_type": "code",
   "execution_count": 10,
   "metadata": {},
   "outputs": [
    {
     "name": "stdout",
     "output_type": "stream",
     "text": [
      "123402\n",
      "LUCKY\n"
     ]
    }
   ],
   "source": [
    "# 입력\n",
    "scores = list(map(int, input()))\n",
    "\n",
    "# 왼쪽, 오른쪽\n",
    "left = 0\n",
    "right = 0 \n",
    "\n",
    "length = len(scores)\n",
    "\n",
    "for i in range(length):\n",
    "    if i < length//2:\n",
    "        left += scores[i]\n",
    "        \n",
    "    else : \n",
    "        right += scores[i]\n",
    "        \n",
    "if left == right :\n",
    "    print(\"LUCKY\")\n",
    "else : \n",
    "    print(\"READY\")"
   ]
  },
  {
   "cell_type": "markdown",
   "metadata": {},
   "source": [
    "## 3-2. 예제코드2 (저자 방식)"
   ]
  },
  {
   "cell_type": "code",
   "execution_count": null,
   "metadata": {},
   "outputs": [],
   "source": [
    "# 입력 받고 \n",
    "nums = list(map(int, input()))\n",
    "\n",
    "# 반까지는 숫자 더하고, 반 넘어서는 숫자를 뺀다. \n",
    "summation = 0 \n",
    "for i in range(len(nums)):\n",
    "    if i < len(nums)//2:\n",
    "        summation += nums[i]\n",
    "    else :\n",
    "        summation -= nums[i]\n",
    "\n",
    "# 결과가 0이면 LUCKY, 아니면 READY 출력\n",
    "if summation == 0 :\n",
    "    print('LUCKY')\n",
    "else :\n",
    "    print(\"READY\")"
   ]
  },
  {
   "cell_type": "markdown",
   "metadata": {},
   "source": [
    "## 4. 배운점\n",
    "- 저자 코드는 생략했지만, 저자의 책에서는 왼편의 숫자는 더하기 연산을, 오른편의 숫자는 빼기 연산을 해서, 전체 결과를 0으로 만들고, 결과 판단을 0인지 아닌지로 하였다. \n",
    "- 좀더 컴퓨터스러운 방법이였다고 생각한다."
   ]
  },
  {
   "cell_type": "markdown",
   "metadata": {},
   "source": [
    "## 참조\n",
    "- 이것이 취업을 위한 코딩 테스트다. with 파이썬"
   ]
  }
 ],
 "metadata": {
  "kernelspec": {
   "display_name": "Python 3",
   "language": "python",
   "name": "python3"
  },
  "language_info": {
   "codemirror_mode": {
    "name": "ipython",
    "version": 3
   },
   "file_extension": ".py",
   "mimetype": "text/x-python",
   "name": "python",
   "nbconvert_exporter": "python",
   "pygments_lexer": "ipython3",
   "version": "3.8.3"
  }
 },
 "nbformat": 4,
 "nbformat_minor": 4
}
