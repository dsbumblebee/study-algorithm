{
 "cells": [
  {
   "cell_type": "markdown",
   "metadata": {},
   "source": [
    "## 1. 문제\n",
    "- 프로그래머스 문제와 동일함 https://school.programmers.co.kr/learn/courses/30/lessons/60057\n",
    "- 문자를 압축하여 저장하고자 한다. \n",
    "- ababab를 예로들면, 두 개로 저장할때, 3ab로 가장 압축이 잘된다. \n",
    "- abcabcdede와 같은 경우는 2개 단위로 압축하면 abcabc2de, 3개 단위로 압축하면 2abcdede, 3개 단위로 압축할 때 가장 짧은 문자열이 된다. \n",
    "- 문자열을 1개 이상 단위로 압축했을 때, 가장 짧은 것의 길이를 return하도록 함수를 완성하라.\n",
    "\n",
    "### 제한사항 \n",
    "- s의 길이는 1이상 1000이하이다.\n",
    "- s는 알파벳 소문자로만 이루어져 있다. \n"
   ]
  },
  {
   "cell_type": "markdown",
   "metadata": {},
   "source": [
    "## 2. 아이디어 \n",
    "- 못풀어서, 검색을 통해서 참조하고 리뷰하였다. "
   ]
  },
  {
   "cell_type": "code",
   "execution_count": null,
   "metadata": {},
   "outputs": [],
   "source": [
    "def solution(s):\n",
    "    result=[]\n",
    "    \n",
    "    if len(s)==1:\n",
    "        return 1\n",
    "    \n",
    "    for i in range(1, len(s)+1):  # 자를 간격\n",
    "        b = ''       # 문자 모을 거 준비\n",
    "        cnt = 1      # 몇번 반복할건지 체크\n",
    "        tmp=s[:i]    # 처음 반복한거 준비\n",
    "\n",
    "        for j in range(i, len(s)+i, i):     # 간격 인덱스 \n",
    "            # 간격부터 시작해서 간격으로 커지게, 종료지점에 step을 더하면서, 스텝이 넘어가는 끝으머리도 탐색가능하게 한다. \n",
    "            if tmp==s[j:i+j]:               # 처음 반복된 것과, 다음 것 비교, 같으면 카운트 증가\n",
    "                cnt+=1                      # 계속 같으면 계속 증가.\n",
    "            else:                           # 다른 것을 만나면 \n",
    "                if cnt!=1:                  # 여러번 반복된 경우 , 문자열 앞에 숫자 넣어 줌\n",
    "                    b = b + str(cnt)+tmp\n",
    "                else:                       # 한번만 반복한 경우 , 그냥 문자열만 추가 \n",
    "                    b = b + tmp\n",
    "                    \n",
    "                tmp=s[j:j+i]                # 반복안했으니까, 지금 본것을 현재로 다시 바꿈\n",
    "                cnt = 1                     # 카운트도 다시 초기화 \n",
    "                \n",
    "        result.append(len(b))               # 압축된 문자열의 길이를 모두 리스트로 모은다. \n",
    "        \n",
    "\n",
    "    return min(result)                      # 최소값을 출력한다. "
   ]
  },
  {
   "cell_type": "code",
   "execution_count": 21,
   "metadata": {},
   "outputs": [],
   "source": [
    "def solution(s):\n",
    "    # 길이가 1이면, 볼거 없이 1이다. \n",
    "    if len(s) == 1:\n",
    "        return 1\n",
    "    # 문자열 자를 길이를 반복문으로 늘려나가면서 전체를 탐색하게 한다. \n",
    "    result= []\n",
    "    for step in range(1, len(s)+1):    # 간격은 1부터 \n",
    "    # 그 안에서, 첫번째를 우선 슬라이스 해놓고, step을 간격으로 for j range(step, 전체길이 + step, step) 스텝만큼 잘라서 앞에 잘라 놓은 것과 비교한다. \n",
    "        string = ''  # 만든 문자 모을 것\n",
    "        prev = s[:step]  # 첫번째 스텝\n",
    "        cnt = 1   # 기본 prev가 1이니까 \n",
    "        for j in range(step, len(s)+step, step):   # step이 0인데 넣으면, 에러남 \n",
    "\n",
    "            # step 부터 , 길이 + 스텝, 스텝 간격, 걱정말라, s문자열 리스트 슬라이싱할때, 벗어나도, 에러 안난다. (인덱스는 에러)\n",
    "            if prev == s[j:j+step]:\n",
    "                cnt += 1       # 앞의 스텝과 같다면, cnt를 올린다. \n",
    "            else :  # 앞의 스텝에 해당하는 문자열과 다르면, \n",
    "                if cnt != 1:  # 앞에 잘라놓은 문자열이 반복 된 것이니까, 모으는 문자열 + str (숫자 ) + 잘라놓은 문자열을 더한다.\n",
    "                    string = string + str(cnt) + prev    # 지금까지 반복된 문자열 압축하여 합산.\n",
    "                else :      # 반복이 1이면,\n",
    "                    string = string + prev  # 모으는 문자열 + 잘라놓은 문자열 \n",
    "                    \n",
    "        result.append(len(string))  # 압축된 문자열 길이 모으기 \n",
    "        # 가장 바깥 반복문이 하나씩 실행되면 문자열이 만들어 진것이니까, len으로 길이를 구해서 문자열의 길이를 하나씩 append로 저장한다. \n",
    "        \n",
    "    return min(result)  # min 저장된 문자열로, 최소값을 출력한다. "
   ]
  },
  {
   "cell_type": "code",
   "execution_count": 24,
   "metadata": {},
   "outputs": [
    {
     "data": {
      "text/plain": [
       "9"
      ]
     },
     "execution_count": 24,
     "metadata": {},
     "output_type": "execute_result"
    }
   ],
   "source": [
    "### 테스트 \n",
    "a ='ababcdcdababcdcd'\n",
    "solution(a)"
   ]
  },
  {
   "cell_type": "markdown",
   "metadata": {},
   "source": [
    "## 4. 배운점\n",
    "- 리스트에서 인덱스는 범위 초과시 오류나지만, 슬라이스를 했을때는 오류없이 가능한 범위까지만 보여준다. \n",
    "- 배수를 탐색할때, 끝을 i로 더한것은 다른 사람들이 2로 나눈것과 같은 목적으로 한 것이다. \n",
    "- 완전 탐색을 할때, 배수단위로 탐색한다면, 길이에 탐색할 간격을 더한것을 끝으로 해주어야 오류 없이 탐색할 수 있다. "
   ]
  },
  {
   "cell_type": "markdown",
   "metadata": {},
   "source": [
    "## 참조\n",
    "- 이것이 취업을 위한 코딩 테스트다 with 파이썬"
   ]
  }
 ],
 "metadata": {
  "kernelspec": {
   "display_name": "Python 3",
   "language": "python",
   "name": "python3"
  },
  "language_info": {
   "codemirror_mode": {
    "name": "ipython",
    "version": 3
   },
   "file_extension": ".py",
   "mimetype": "text/x-python",
   "name": "python",
   "nbconvert_exporter": "python",
   "pygments_lexer": "ipython3",
   "version": "3.8.3"
  }
 },
 "nbformat": 4,
 "nbformat_minor": 4
}
