{
 "cells": [
  {
   "cell_type": "markdown",
   "metadata": {},
   "source": [
    "## 1. 문제\n",
    "- 알파벳 대문자와, 숫자로 구성된 문자열이 입력으로 들어온다. \n",
    "- 알파벳을 오름차순으로 정렬하여 이어서 출력한 뒤에, 그 뒤에 모든 숫자를 더한 값을 이어서 출력하라.\n",
    "\n",
    "### 입력조건\n",
    "- 하나의 문자열 S , S의 길이는 1 ~ 10000\n",
    "\n",
    "### 출력조건\n",
    "- 문제에서 요구하는 문자열\n",
    "\n",
    "### 입력예시\n",
    "```python\n",
    "K1KA5CB7\n",
    "```\n",
    "\n",
    "### 출력예시\n",
    "```python\n",
    "ABCKK13\n",
    "```"
   ]
  },
  {
   "cell_type": "markdown",
   "metadata": {},
   "source": [
    "## 2. 아이디어 \n",
    "- ord()를 이용해서, ord('9') 가 57이고 ord('A')가 65이기 때문에, 57이하인지 아닌지를 판단하여, 문자열에 있는 알파벳과 숫자를 구분한다.\n",
    "- 문자는 문자대로, 숫자는 숫자대로 분류한 다음\n",
    "- 각각을 리스트로 바꾸어서, 문자열은 for문을 이용해서 합치고, 숫자는 sum을 이용해서 합친다음 str로 문자열로 바꾸어서 둘을 다시 더한다. "
   ]
  },
  {
   "cell_type": "markdown",
   "metadata": {},
   "source": [
    "## 3. 예제코드"
   ]
  },
  {
   "cell_type": "code",
   "execution_count": 24,
   "metadata": {},
   "outputs": [
    {
     "name": "stdout",
     "output_type": "stream",
     "text": [
      "GFS123Gf\n",
      "FGGSf6\n"
     ]
    }
   ],
   "source": [
    "# 입력\n",
    "problem = input()\n",
    "\n",
    "# 저장할 변수 생성\n",
    "nums = 0     \n",
    "strings = []\n",
    "\n",
    "# 숫자, 문자 분류 저장\n",
    "for s in problem:\n",
    "    if ord(s) <= 57:  # 숫자이면\n",
    "        nums+=int(s)  # 숫자를 모두 더한다.\n",
    "    else : \n",
    "        strings.append(s)  # 문자면, 리스트에 모은다.\n",
    "\n",
    "strings.sort()  # 문자열 정렬\n",
    "\n",
    "# 문자 리스트에 숫자 추가\n",
    "if nums != 0:   # 숫자가 있으면, \n",
    "    strings.append(str(nums))  # 문자열로 변환해서 추가한다. \n",
    "    \n",
    "# 출력 \n",
    "print(''.join(strings))        # join을 활용해서 프린트"
   ]
  },
  {
   "cell_type": "markdown",
   "metadata": {},
   "source": [
    "## 3-2. 예제코드2 (저자버전)"
   ]
  },
  {
   "cell_type": "code",
   "execution_count": null,
   "metadata": {},
   "outputs": [],
   "source": [
    "# 문자열, 숫자를 나눠서 저장한다. 나누는 기준은 isalpha()를 이용한다. \n",
    "# 문자열은 리스트에 append로 모으고, 숫자는 바로 int를 취하면서 합산한다. \n",
    "\n",
    "# 입력 \n",
    "string = list(input())\n",
    "\n",
    "s = []  # 문자열 수집\n",
    "n = 0  # 숫자 수집 \n",
    "\n",
    "for char in string:\n",
    "    if char.isalpha() : \n",
    "        s.append(char)\n",
    "    else :\n",
    "        n += int(char)\n",
    "# 문자열 정렬         \n",
    "s.sort()  \n",
    "# 숫자의 합이 0인지 확인하고, 0이 아니면, str로 문자로 바꾼 후 문자 리스트에 append한다.\n",
    "if n != 0 :\n",
    "    s.append(str(n))\n",
    "\n",
    "# 모인 문자리스트를 join으로 프린트한다. \n",
    "print(''.join(s))"
   ]
  },
  {
   "cell_type": "markdown",
   "metadata": {},
   "source": [
    "## 4. 배운점\n",
    "- ord()를 떠올렸다. 문자열의 숫자를 알려주는 함수, 그러나 저자는 isalpha()라는 함수를 사용했다. \n",
    "- 출력할때, 문자열 더하기를 생각했는데, 저자의 풀이를 보고 join을 다시 한번 상기할 수 있었다. \n",
    "- 문자열과 숫자의 처리 방법을 정확히 알아야 하며, 어떤 형태로 다룰지 생각하는 것이 중요하다는 것을 알게 됬다. "
   ]
  },
  {
   "cell_type": "markdown",
   "metadata": {},
   "source": [
    "## 참고\n",
    "- 이것이 취업을 위한 코딩 테스트다. with 파이썬"
   ]
  }
 ],
 "metadata": {
  "kernelspec": {
   "display_name": "Python 3",
   "language": "python",
   "name": "python3"
  },
  "language_info": {
   "codemirror_mode": {
    "name": "ipython",
    "version": 3
   },
   "file_extension": ".py",
   "mimetype": "text/x-python",
   "name": "python",
   "nbconvert_exporter": "python",
   "pygments_lexer": "ipython3",
   "version": "3.8.3"
  }
 },
 "nbformat": 4,
 "nbformat_minor": 4
}
