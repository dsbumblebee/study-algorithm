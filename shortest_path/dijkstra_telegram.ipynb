{
 "cells": [
  {
   "cell_type": "markdown",
   "metadata": {},
   "source": [
    "# 문제\n",
    "- 도시가 있고 (N) , 도시가 연결되어 있으면 (M), 편지를 주고 받을 수 있다. \n",
    "- 도시의 수 , 통로의 수 , 메시지를 보내고자 하는 도시가 들어온다. \n",
    "- 출발도시, 도착도시, 전송속도가 연속해서 들어온다. \n",
    "- 메시지를 받는 총 도시의 수와 모두 전송되는 데 걸리는 시간을 출력하는 프로그램"
   ]
  },
  {
   "cell_type": "code",
   "execution_count": null,
   "metadata": {},
   "outputs": [],
   "source": [
    "# 다익스트라 문제 \n",
    "\n",
    "# 다익스트라 이후, distance에서 INF가 아닌 것의 수와, max 시간을 구하면 된다. \n",
    "\n",
    "# 다익스트라 : 한 지점에서 모든 노드로 가는 최단 경로\n",
    "# heapq , distance , INF , \n",
    "# 방문 처리, 건너뛰는 처리 "
   ]
  },
  {
   "cell_type": "code",
   "execution_count": null,
   "metadata": {},
   "outputs": [],
   "source": [
    "## 입력 \n",
    "N, M , start = map(int, input().split())\n",
    "# 그래프 만들기\n",
    "graph = [[] for _ in range(N+1)]\n",
    "for _ in range(M):\n",
    "    a, b, c = map(int, input().split())\n",
    "    graph[a].append((b,c))  # 도착, 속도\n",
    "    \n",
    "# distance 만들기 \n",
    "INF = int(1e9)\n",
    "distance = [INF]*(N+1)\n",
    "\n",
    "# 다익스트라 \n",
    "import heapq\n",
    "\n",
    "def daikstra(start):\n",
    "    q = []\n",
    "    heapq.heappush(q, (0, start))  # 속도, 노드 \n",
    "    distance[start] = 0            # 시작점에서 거리는 0 이다. \n",
    "    \n",
    "    while q : \n",
    "        dist, node = heapq.heappop(q)\n",
    "        \n",
    "        if distance[node] < dist :  # 이미 최소값이면, 갱신할 필요가 없다.\n",
    "            continue \n",
    "            \n",
    "        for i in graph[node]: # 인접노드 \n",
    "            cost = dist + i[1]  # graph에 저장시는 거리가 뒤에 있음 \n",
    "            if cost < distance[i[0]]: # 갱신할만한지 판단 \n",
    "                distance[i[0]] = cost\n",
    "                \n",
    "                heapq.heappush(q, (cost, distance[i[0]]))\n",
    "                \n",
    "                \n",
    "daikstra(start)\n",
    "\n",
    "cnt = 0   # 방문 가능한 도시수\n",
    "max_distance = 0\n",
    "for i in range(1, N+1):\n",
    "    if distance[i] != INF:\n",
    "        cnt+=1 \n",
    "        max_distance = max(distance[i], max_distance)\n",
    "\n",
    "print(cnt, max_distance)"
   ]
  },
  {
   "cell_type": "markdown",
   "metadata": {},
   "source": [
    "# 느낀 점\n",
    "- 다익스트라 코드를 구현하면 되는 문제였다.\n",
    "- 이것을 계속 외우고 있는 것만으로도 대단한 경지일 듯 싶다. 프로그래머들 존경합니다. "
   ]
  }
 ],
 "metadata": {
  "kernelspec": {
   "display_name": "Python 3",
   "language": "python",
   "name": "python3"
  },
  "language_info": {
   "codemirror_mode": {
    "name": "ipython",
    "version": 3
   },
   "file_extension": ".py",
   "mimetype": "text/x-python",
   "name": "python",
   "nbconvert_exporter": "python",
   "pygments_lexer": "ipython3",
   "version": "3.8.3"
  }
 },
 "nbformat": 4,
 "nbformat_minor": 4
}
