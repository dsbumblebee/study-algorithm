{
 "cells": [
  {
   "cell_type": "markdown",
   "metadata": {},
   "source": [
    "# 정렬 알고리즘 학습"
   ]
  },
  {
   "cell_type": "markdown",
   "metadata": {},
   "source": [
    "## contents\n",
    "- 1. 선택정렬 \n",
    "- 2. 삽입정렬\n",
    "- 3. 계수정렬"
   ]
  },
  {
   "cell_type": "markdown",
   "metadata": {},
   "source": [
    "## 1. 선택 정렬\n",
    "- 전체 배열을 돌면서, 처음 숫자와 나머지 숫자와 비교해서 가장 작은 숫자와 교체한다. "
   ]
  },
  {
   "cell_type": "code",
   "execution_count": 3,
   "metadata": {},
   "outputs": [
    {
     "name": "stdout",
     "output_type": "stream",
     "text": [
      "[1, 2, 3, 4, 5, 6, 7, 9]\n"
     ]
    }
   ],
   "source": [
    "array = [7,3,9,5,4,6,2,1]\n",
    "\n",
    "for i in range(len(array)):\n",
    "    smallest_idx = i\n",
    "    for j in range(i+1, len(array)):\n",
    "        if array[smallest_idx] > array[j]:\n",
    "            smallest_idx = j\n",
    "            \n",
    "    array[i] , array[smallest_idx] = array[smallest_idx], array[i]\n",
    "    \n",
    "print(array)"
   ]
  },
  {
   "cell_type": "markdown",
   "metadata": {},
   "source": [
    "## 2. 삽입정렬\n",
    "- 두번째 값부터 탐색하는데, \n",
    "- 두번째 값에서 첫번째 요소로 탐색하면서, 현재 값보다, 그 앞의 값이 큰값이면, 둘의 위치를 바꾼다. (자리를 바꾸면서 진행한다 ) \n",
    "- i번째까지 실행됬다면, i번째 까지는 정렬이 이루어진 상태이므로, 앞의 값이 작은 값이면, 안쪽 루프를 종료한다 ( 앞이 작으면 볼필요가 없다. 정렬이 되어 있으니까 ) "
   ]
  },
  {
   "cell_type": "code",
   "execution_count": 4,
   "metadata": {},
   "outputs": [
    {
     "name": "stdout",
     "output_type": "stream",
     "text": [
      "[1, 2, 3, 4, 5, 6, 7, 9]\n"
     ]
    }
   ],
   "source": [
    "array = [7,3,9,5,4,6,2,1]\n",
    "\n",
    "for i in range(1, len(array)):\n",
    "    for j in range(i, 0, -1):\n",
    "        if array[j] < array[j-1]:  # 앞의 값이 더 크면, 자리를 바꾼다.\n",
    "            array[j], array[j-1] = array[j-1] , array[j]\n",
    "            \n",
    "        else:                      # 앞이 더 작으면, 안쪽 루프를 나간다. ( 왜냐하면, 차례차례 정렬이 되어가기 때문이다. i번째 에서까지는 정렬이 완료됨 )\n",
    "            break\n",
    "            \n",
    "print(array)"
   ]
  },
  {
   "cell_type": "markdown",
   "metadata": {},
   "source": [
    "## 3. 계수정렬\n",
    "- 시간 제한이 있는 문제에서 사용, (단 양의 정수에서 )\n",
    "- count라는 별도의 객체에 몇 번 나왔는지를 모아놓은 다음\n",
    "- for문을 이용하여 출력한다. "
   ]
  },
  {
   "cell_type": "code",
   "execution_count": 5,
   "metadata": {},
   "outputs": [
    {
     "name": "stdout",
     "output_type": "stream",
     "text": [
      "1 2 3 4 5 6 7 9 "
     ]
    }
   ],
   "source": [
    "array = [7,3,9,5,4,6,2,1]\n",
    "\n",
    "count = [0]*(max(array)+1)\n",
    "\n",
    "for i in array:\n",
    "    count[i]+=1\n",
    "    \n",
    "for i in range(len(count)):\n",
    "    for j in range(count[i]):\n",
    "        print(i, end = ' ')\n",
    "\n"
   ]
  }
 ],
 "metadata": {
  "kernelspec": {
   "display_name": "Python 3",
   "language": "python",
   "name": "python3"
  },
  "language_info": {
   "codemirror_mode": {
    "name": "ipython",
    "version": 3
   },
   "file_extension": ".py",
   "mimetype": "text/x-python",
   "name": "python",
   "nbconvert_exporter": "python",
   "pygments_lexer": "ipython3",
   "version": "3.8.3"
  }
 },
 "nbformat": 4,
 "nbformat_minor": 4
}
