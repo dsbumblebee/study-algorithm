{
 "cells": [
  {
   "cell_type": "markdown",
   "metadata": {},
   "source": [
    "# 문제\n",
    "- N 배열의 길이, K는 숫자를 바꿀 수 있는 횟수 , N 1~100000 \n",
    "- A, B 두 길이가 같은 배열이 들어온다. \n",
    "\n",
    "- K번 바꾸어 배열 A의 합의 최대값이 출력되도록 하는 프로그램"
   ]
  },
  {
   "cell_type": "code",
   "execution_count": null,
   "metadata": {},
   "outputs": [],
   "source": [
    "# 접근방법\n",
    "\n",
    "# 두 리스트를 , 오름차순, 내림차순으로 정렬한다. \n",
    "\n",
    "# K만큼 두 수를 바꾼다. \n",
    "\n",
    "# 합한다. \n"
   ]
  },
  {
   "cell_type": "code",
   "execution_count": 2,
   "metadata": {},
   "outputs": [
    {
     "name": "stdout",
     "output_type": "stream",
     "text": [
      "5 3\n",
      "1 2 5 4 3\n",
      "5 5 6 6 5\n",
      "26\n"
     ]
    }
   ],
   "source": [
    "# 입력 \n",
    "N, K = map(int, input().split())\n",
    "\n",
    "A = list(map(int, input().split()))\n",
    "B = list(map(int, input().split()))\n",
    "\n",
    "# 정렬\n",
    "A.sort()\n",
    "B.sort(reverse=True)\n",
    "\n",
    "# 교환\n",
    "for i in range(K):\n",
    "    if A[i] < B[i]: # B가 더 크면, \n",
    "        A[i] = B[i]\n",
    "        \n",
    "        \n",
    "print(sum(A))"
   ]
  },
  {
   "cell_type": "markdown",
   "metadata": {},
   "source": [
    "# 리마인드\n",
    "- list(map(int, input().split()))\n",
    "    - 숫자 리스트로 바꿔줘야 함 \n",
    "    "
   ]
  }
 ],
 "metadata": {
  "kernelspec": {
   "display_name": "Python 3",
   "language": "python",
   "name": "python3"
  },
  "language_info": {
   "codemirror_mode": {
    "name": "ipython",
    "version": 3
   },
   "file_extension": ".py",
   "mimetype": "text/x-python",
   "name": "python",
   "nbconvert_exporter": "python",
   "pygments_lexer": "ipython3",
   "version": "3.8.3"
  }
 },
 "nbformat": 4,
 "nbformat_minor": 4
}
