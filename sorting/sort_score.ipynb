{
 "cells": [
  {
   "cell_type": "markdown",
   "metadata": {},
   "source": [
    "# 문제\n",
    "- N명 (1~10000)\n",
    "- 이름, 성적 입력 \n",
    "- 모든 학생의 이름을 성적이 낮은 순서대로 출력"
   ]
  },
  {
   "cell_type": "code",
   "execution_count": null,
   "metadata": {},
   "outputs": [],
   "source": [
    "# sort , key , lambda 사용 "
   ]
  },
  {
   "cell_type": "code",
   "execution_count": 1,
   "metadata": {},
   "outputs": [
    {
     "name": "stdout",
     "output_type": "stream",
     "text": [
      "2\n",
      "홍길동 95\n",
      "이순신 77\n",
      "이순신 홍길동 "
     ]
    }
   ],
   "source": [
    "# 입력\n",
    "N = int(input())\n",
    "\n",
    "students = []\n",
    "for _ in range(N):\n",
    "    name, score = input().split()\n",
    "    \n",
    "    score = int(score)\n",
    "    students.append((name, score))\n",
    "    \n",
    "students.sort(key = lambda x : x[1])   # 점수 기준으로 정렬\n",
    "\n",
    "for name, score in students:\n",
    "    print(name, end = ' ')"
   ]
  },
  {
   "cell_type": "markdown",
   "metadata": {},
   "source": [
    "# 리마인드 \n",
    "- sort, key, lambda 동시에 사용하는 방법"
   ]
  }
 ],
 "metadata": {
  "kernelspec": {
   "display_name": "Python 3",
   "language": "python",
   "name": "python3"
  },
  "language_info": {
   "codemirror_mode": {
    "name": "ipython",
    "version": 3
   },
   "file_extension": ".py",
   "mimetype": "text/x-python",
   "name": "python",
   "nbconvert_exporter": "python",
   "pygments_lexer": "ipython3",
   "version": "3.8.3"
  }
 },
 "nbformat": 4,
 "nbformat_minor": 4
}
