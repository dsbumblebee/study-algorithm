{
 "cells": [
  {
   "cell_type": "markdown",
   "metadata": {},
   "source": [
    "# 문제\n",
    "- 숫자 개수 N\n",
    "- 이어서 숫자들이 입력으로 들어온다. \n",
    "    - N은 1~500\n",
    "    - N개의 숫자는 1~100000\n",
    "    \n",
    "- 출력 \n",
    "    - 내림차순으로 정렬하여, 공백을 두고 출력하라"
   ]
  },
  {
   "cell_type": "code",
   "execution_count": null,
   "metadata": {},
   "outputs": [],
   "source": [
    "## 풀이 아이디어\n",
    "# sort 쓰면 될 것 같다."
   ]
  },
  {
   "cell_type": "code",
   "execution_count": 1,
   "metadata": {},
   "outputs": [
    {
     "name": "stdout",
     "output_type": "stream",
     "text": [
      "3\n",
      "15\n",
      "27\n",
      "12\n",
      "27 15 12 "
     ]
    }
   ],
   "source": [
    "# 입력 \n",
    "N = int(input())\n",
    "\n",
    "numbers = []\n",
    "for _ in range(N):\n",
    "    numbers.append(int(input()))\n",
    "\n",
    "numbers.sort(reverse=True)\n",
    "\n",
    "for i in numbers:\n",
    "    print(i, end = ' ')"
   ]
  },
  {
   "cell_type": "markdown",
   "metadata": {},
   "source": [
    "# 리마인드\n",
    "- sort(reverse=True)"
   ]
  }
 ],
 "metadata": {
  "kernelspec": {
   "display_name": "Python 3",
   "language": "python",
   "name": "python3"
  },
  "language_info": {
   "codemirror_mode": {
    "name": "ipython",
    "version": 3
   },
   "file_extension": ".py",
   "mimetype": "text/x-python",
   "name": "python",
   "nbconvert_exporter": "python",
   "pygments_lexer": "ipython3",
   "version": "3.8.3"
  }
 },
 "nbformat": 4,
 "nbformat_minor": 4
}
