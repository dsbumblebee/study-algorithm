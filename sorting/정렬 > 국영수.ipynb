{
 "cells": [
  {
   "cell_type": "code",
   "execution_count": null,
   "metadata": {},
   "outputs": [],
   "source": []
  },
  {
   "cell_type": "markdown",
   "metadata": {},
   "source": [
    "## 1. 문제\n",
    "- 백준 10825와 동일한 문제\n",
    "    - [링크](https://www.acmicpc.net/problem/10825)\n",
    "- 이름, 국,영,수 로 들어오는 데이터를 조건에 맞게 정렬하라."
   ]
  },
  {
   "cell_type": "markdown",
   "metadata": {},
   "source": [
    "## 2. 아이디어\n",
    "- 여러 줄을 반복해서 입력하므로 sys.stdin.readline 활용한다.\n",
    "- sort를 이용한 정렬\n",
    "- lambda 함수를 이용해서 각 조건들을 동시에 적용한다. \n",
    "    - 내림차순의 경우에는 \"-\" 를 붙인다. "
   ]
  },
  {
   "cell_type": "markdown",
   "metadata": {},
   "source": [
    "## 3. 예제 코드"
   ]
  },
  {
   "cell_type": "code",
   "execution_count": null,
   "metadata": {},
   "outputs": [],
   "source": [
    "import sys\n",
    "input = sys.stdin.readline\n",
    "n = int(input())\n",
    "\n",
    "## 입력 : 이름, 국어, 영어, 수학\n",
    "students = []\n",
    "for _ in range(n):\n",
    "    students.append(input().split())\n",
    "    \n",
    "## 조건 : 국어 (내림), 영어 (오름), 수학 (내림), 이름 (오름) \n",
    "\n",
    "students.sort(key = lambda x : (-int(x[1]) , int(x[2]), -int(x[3]), x[0]) )\n",
    "\n",
    "## 출력 : 이름만 \n",
    "for student in students:\n",
    "    print(student[0])"
   ]
  },
  {
   "cell_type": "markdown",
   "metadata": {},
   "source": [
    "## 4. 배운점\n",
    "- sys.stdin.readline 다시 상기\n",
    "- sort 정렬 방법 다시 상기 \n",
    "    - lambda 함수 안에서 - 이면, 내림차순 , + 이면 오름차순, 여러 조건일 경우 괄호로 묶는다. "
   ]
  },
  {
   "cell_type": "markdown",
   "metadata": {},
   "source": [
    "## 참조\n",
    "- 이것이 취업을 위한 코딩테스트다. with 파이썬"
   ]
  }
 ],
 "metadata": {
  "kernelspec": {
   "display_name": "Python 3",
   "language": "python",
   "name": "python3"
  },
  "language_info": {
   "codemirror_mode": {
    "name": "ipython",
    "version": 3
   },
   "file_extension": ".py",
   "mimetype": "text/x-python",
   "name": "python",
   "nbconvert_exporter": "python",
   "pygments_lexer": "ipython3",
   "version": "3.8.3"
  }
 },
 "nbformat": 4,
 "nbformat_minor": 4
}
