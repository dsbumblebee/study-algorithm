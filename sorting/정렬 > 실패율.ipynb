{
 "cells": [
  {
   "cell_type": "markdown",
   "metadata": {},
   "source": [
    "## 1. 문제\n",
    "- 프로그래머스 카카오 2019 공채 문제와 동일 \n",
    "    - [링크](https://school.programmers.co.kr/learn/courses/30/lessons/42889)\n",
    "- 실패율 : 스테이지에 도달했으나, 아직 클리어 하지 못한 플러이어의 수 / 스테이지에 도달한 플레이어의 수 \n",
    "\n",
    "- 전체 스테이지의 수 N , 게임을 이용하는 사용자가 현재 멈춰있는 스테이지의 번호가 담긴 배열 stages\n",
    "\n",
    "- 실패율이 높은 스테이지부터 내림차순으로 스테이지의 번호가 담겨있는 배열을 return\n",
    "\n",
    "- 스테이지의 개수는 1-500\n",
    "- stages의 길이는 1-200000\n",
    "- stages에는 1- N+1이하의 자연수\n",
    "    - 각 자연수는 현재 도전 중인 스테이지 번호\n",
    "    - 단 N+1은 마지막 스테이지까지 클리어 한 사용자\n",
    "    \n",
    "- 실패율이 같은 스테이지가 있다면, 작은 번호의 스테이지가 먼저 오도록\n",
    "- 스테이지에 도달한 유저가 없는 경우 스테이지의 실패율은 0 "
   ]
  },
  {
   "cell_type": "markdown",
   "metadata": {},
   "source": [
    "## 2. 아이디어 \n",
    "- 스테이지별 실패율을 생성하여, 스테이지와 함께 저장한다.\n",
    "    - 해당하는 stage의 수 / 남은 숫자의 수 (갱신되어야 함 )\n",
    "- 실패율을 기준으로 내림차순 정렬한다. \n",
    "- 스테이지만 저장한다. "
   ]
  },
  {
   "cell_type": "code",
   "execution_count": null,
   "metadata": {},
   "outputs": [],
   "source": [
    "# 스테이지별 실패율을 생성하여, 스테이지와 함께 저장한다.\n",
    "# 해당하는 stage의 수 / 남은 숫자의 수 (갱신되어야 함 )\n",
    "# 실패율을 기준으로 내림차순 정렬한다. \n",
    "# 스테이지만 저장한다. "
   ]
  },
  {
   "cell_type": "code",
   "execution_count": null,
   "metadata": {},
   "outputs": [],
   "source": [
    "def solution(N, stages):\n",
    "    answer = []\n",
    "    length = len(stages)\n",
    "    \n",
    "    # 스테이지 번호 증가\n",
    "    for i in range(1, N+1):\n",
    "        count = stages.count(i)   # 스테이지에 있는 사람 수 \n",
    "        \n",
    "        # 실패율 \n",
    "        if length == 0:\n",
    "            fail = 0\n",
    "        else : \n",
    "            fail = count/length\n",
    "        \n",
    "        # 스테이지 번호, 실패율 저장\n",
    "        answer.append((i, fail))\n",
    "        length -= count \n",
    "        \n",
    "    # 실패율 기준 정렬\n",
    "    answer.sort(key = lambda x : x[1], reverse=True)  # 실패율이 큰 순서대로 \n",
    "    answer = [ i[0] for i in answer]  # 스테이지 번호만 저장 \n",
    "    return answer \n",
    "        "
   ]
  },
  {
   "cell_type": "markdown",
   "metadata": {},
   "source": [
    "## 4. 배운점\n",
    "- count 다시 상기, sort(key = lambda ) 다시 상기함"
   ]
  },
  {
   "cell_type": "markdown",
   "metadata": {},
   "source": [
    "## 참조\n",
    "- 이것이 취업을 위한 코딩테스트다. with 파이썬"
   ]
  },
  {
   "cell_type": "code",
   "execution_count": null,
   "metadata": {},
   "outputs": [],
   "source": []
  }
 ],
 "metadata": {
  "kernelspec": {
   "display_name": "Python 3",
   "language": "python",
   "name": "python3"
  },
  "language_info": {
   "codemirror_mode": {
    "name": "ipython",
    "version": 3
   },
   "file_extension": ".py",
   "mimetype": "text/x-python",
   "name": "python",
   "nbconvert_exporter": "python",
   "pygments_lexer": "ipython3",
   "version": "3.8.3"
  }
 },
 "nbformat": 4,
 "nbformat_minor": 4
}
