{
 "cells": [
  {
   "cell_type": "code",
   "execution_count": null,
   "metadata": {},
   "outputs": [],
   "source": []
  },
  {
   "cell_type": "markdown",
   "metadata": {},
   "source": [
    "## 1. 문제\n",
    "- 백준 1715와 동일한 문제 \n",
    "    - [링크](https://www.acmicpc.net/problem/1715)\n"
   ]
  },
  {
   "cell_type": "markdown",
   "metadata": {},
   "source": [
    "## 2. 아이디어 \n",
    "- 매순간 가장 작은 두수를 뽑아서 더하고 그 수를 누적한다. (두 수의 합이, 뽑히는 수가 된다)\n",
    "- heapq 자료구조를 이용하고, 자료구조안에 원소가 1개가 남을때까지 반복한다. "
   ]
  },
  {
   "cell_type": "code",
   "execution_count": null,
   "metadata": {},
   "outputs": [],
   "source": [
    "## 매순간 가장 작은 두수를 뽑아서 더하고 그 수를 누적한다. \n",
    "\n",
    "## heapq를 이용하고 , 안에 1개가 남을때 까지 반복한다. "
   ]
  },
  {
   "cell_type": "markdown",
   "metadata": {},
   "source": [
    "## 3. 예제코드"
   ]
  },
  {
   "cell_type": "code",
   "execution_count": 28,
   "metadata": {},
   "outputs": [
    {
     "name": "stdout",
     "output_type": "stream",
     "text": [
      "5\n",
      "10\n",
      "20\n",
      "30\n",
      "40\n",
      "50\n",
      "330\n"
     ]
    }
   ],
   "source": [
    "# import sys\n",
    "# input = sys.stdin.readline\n",
    "import heapq\n",
    "\n",
    "# 입력 \n",
    "n = int(input())\n",
    "\n",
    "nums = []\n",
    "for _ in range(n):\n",
    "    heapq.heappush(nums, int(input()))\n",
    "    \n",
    "cum = 0    \n",
    "while len(nums) > 1:\n",
    "    first = heapq.heappop(nums)\n",
    "    second = heapq.heappop(nums)\n",
    "    \n",
    "    sum_fs = first + second   # 가장작은 둘을 꺼내서 더한다.\n",
    "    cum += sum_fs    # 그것을 누적한다.\n",
    "    \n",
    "    heapq.heappush(nums, sum_fs)   # 가장작은 둘을 꺼낸 결과를 다시 우선순위 큐에 넣는다. \n",
    "    \n",
    "print(cum)\n"
   ]
  },
  {
   "cell_type": "markdown",
   "metadata": {},
   "source": [
    "## 4. 배운점\n",
    "- heapq 사용 리마인드 "
   ]
  },
  {
   "cell_type": "markdown",
   "metadata": {},
   "source": [
    "## 참조\n",
    "- 이것이 취업을 위한 코딩테스트다. with 파이썬"
   ]
  }
 ],
 "metadata": {
  "kernelspec": {
   "display_name": "Python 3",
   "language": "python",
   "name": "python3"
  },
  "language_info": {
   "codemirror_mode": {
    "name": "ipython",
    "version": 3
   },
   "file_extension": ".py",
   "mimetype": "text/x-python",
   "name": "python",
   "nbconvert_exporter": "python",
   "pygments_lexer": "ipython3",
   "version": "3.8.3"
  }
 },
 "nbformat": 4,
 "nbformat_minor": 4
}
